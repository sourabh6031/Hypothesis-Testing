{
 "cells": [
  {
   "cell_type": "code",
   "execution_count": 1,
   "id": "96a2b1fb",
   "metadata": {},
   "outputs": [],
   "source": [
    "import numpy as np\n",
    "import seaborn as sns\n",
    "import matplotlib.pyplot as plt"
   ]
  },
  {
   "cell_type": "code",
   "execution_count": 1,
   "id": "ae68692a",
   "metadata": {},
   "outputs": [],
   "source": [
    "from scipy.stats import norm,binom,t"
   ]
  },
  {
   "cell_type": "code",
   "execution_count": 1,
   "id": "171fedd9",
   "metadata": {},
   "outputs": [],
   "source": [
    "from scipy.stats import ttest_1samp"
   ]
  },
  {
   "cell_type": "code",
   "execution_count": null,
   "id": "8aabfb97",
   "metadata": {},
   "outputs": [],
   "source": []
  },
  {
   "cell_type": "code",
   "execution_count": null,
   "id": "b829bfbb",
   "metadata": {},
   "outputs": [],
   "source": [
    "# t-test is also called one sample t test"
   ]
  },
  {
   "cell_type": "code",
   "execution_count": null,
   "id": "532af54a",
   "metadata": {},
   "outputs": [],
   "source": [
    "# T-TEST FOLLOWS T DISTRIBUTION"
   ]
  },
  {
   "cell_type": "code",
   "execution_count": null,
   "id": "dab16ff0",
   "metadata": {},
   "outputs": [],
   "source": []
  },
  {
   "cell_type": "code",
   "execution_count": 13,
   "id": "e43ab84d",
   "metadata": {},
   "outputs": [],
   "source": [
    "IQ_Score = [110,105,98,102,99,104,115,95]\n",
    "alpha = 0.01"
   ]
  },
  {
   "cell_type": "code",
   "execution_count": 7,
   "id": "6e720632",
   "metadata": {},
   "outputs": [],
   "source": [
    "mu = 100"
   ]
  },
  {
   "cell_type": "code",
   "execution_count": 3,
   "id": "61512b6d",
   "metadata": {},
   "outputs": [
    {
     "data": {
      "text/plain": [
       "8"
      ]
     },
     "execution_count": 3,
     "metadata": {},
     "output_type": "execute_result"
    }
   ],
   "source": [
    "len(IQ_Score)"
   ]
  },
  {
   "cell_type": "code",
   "execution_count": null,
   "id": "31e922f1",
   "metadata": {},
   "outputs": [],
   "source": [
    "# if sample is less than 30 then to find standart deviation, there is a parameter 'ddof - degree of freedom' which is to be 1."
   ]
  },
  {
   "cell_type": "code",
   "execution_count": 5,
   "id": "4d59f53b",
   "metadata": {},
   "outputs": [
    {
     "data": {
      "text/plain": [
       "6.568322247184371"
      ]
     },
     "execution_count": 5,
     "metadata": {},
     "output_type": "execute_result"
    }
   ],
   "source": [
    "s_std =  np.std(IQ_Score,ddof=1)\n",
    "s_std"
   ]
  },
  {
   "cell_type": "code",
   "execution_count": 6,
   "id": "87f539da",
   "metadata": {},
   "outputs": [
    {
     "data": {
      "text/plain": [
       "103.5"
      ]
     },
     "execution_count": 6,
     "metadata": {},
     "output_type": "execute_result"
    }
   ],
   "source": [
    "m = np.mean(IQ_Score)\n",
    "m"
   ]
  },
  {
   "cell_type": "code",
   "execution_count": null,
   "id": "874da678",
   "metadata": {},
   "outputs": [],
   "source": [
    "# Ho : no effect on IQ  'OR'   MU = 100\n",
    "# Ha : IQ increased  'OR'   MU > 100"
   ]
  },
  {
   "cell_type": "code",
   "execution_count": 9,
   "id": "4d68c901",
   "metadata": {},
   "outputs": [
    {
     "data": {
      "text/plain": [
       "1.5071573172061195"
      ]
     },
     "execution_count": 9,
     "metadata": {},
     "output_type": "execute_result"
    }
   ],
   "source": [
    "# t-stat is like z-score of T distribution\n",
    "\n",
    "t_stat = (m - mu) / (s_std / np.sqrt(len(IQ_Score)))\n",
    "t_stat\n",
    "                "
   ]
  },
  {
   "cell_type": "code",
   "execution_count": null,
   "id": "5054728a",
   "metadata": {},
   "outputs": [],
   "source": []
  },
  {
   "cell_type": "code",
   "execution_count": null,
   "id": "88e60215",
   "metadata": {},
   "outputs": [],
   "source": [
    "# calculation p-value"
   ]
  },
  {
   "cell_type": "code",
   "execution_count": null,
   "id": "dd11b7a1",
   "metadata": {},
   "outputs": [],
   "source": []
  },
  {
   "cell_type": "code",
   "execution_count": 12,
   "id": "9eb1a1c2",
   "metadata": {},
   "outputs": [
    {
     "data": {
      "text/plain": [
       "0.08774972467925057"
      ]
     },
     "execution_count": 12,
     "metadata": {},
     "output_type": "execute_result"
    }
   ],
   "source": [
    "p_value = 1 - t.cdf(t_stat,len(IQ_Score)-1)\n",
    "p_value"
   ]
  },
  {
   "cell_type": "code",
   "execution_count": null,
   "id": "f5c9b1bd",
   "metadata": {},
   "outputs": [],
   "source": [
    "# SINCE P VALUE IS NOT LESS THAN ALPHA, WE WILL NOT REJECT NULL HYPOTHESIS."
   ]
  },
  {
   "cell_type": "code",
   "execution_count": null,
   "id": "1d9a5ce0",
   "metadata": {},
   "outputs": [],
   "source": []
  },
  {
   "cell_type": "markdown",
   "id": "41958df4",
   "metadata": {},
   "source": [
    "### TTEST 1SAMP"
   ]
  },
  {
   "cell_type": "code",
   "execution_count": 15,
   "id": "a74c617f",
   "metadata": {},
   "outputs": [
    {
     "data": {
      "text/plain": [
       "Ttest_1sampResult(statistic=1.5071573172061195, pvalue=0.08774972467925055)"
      ]
     },
     "execution_count": 15,
     "metadata": {},
     "output_type": "execute_result"
    }
   ],
   "source": [
    "# PARAMETER - sample data, expected mean, type of tail test\n",
    "ttest_1samp(IQ_Score,popmean=mu,alternative='greater')"
   ]
  },
  {
   "cell_type": "code",
   "execution_count": null,
   "id": "56dc1de9",
   "metadata": {},
   "outputs": [],
   "source": []
  },
  {
   "cell_type": "code",
   "execution_count": null,
   "id": "a4ec5455",
   "metadata": {},
   "outputs": [],
   "source": []
  },
  {
   "cell_type": "markdown",
   "id": "5998d28d",
   "metadata": {},
   "source": [
    "### ASSIGNMENT"
   ]
  },
  {
   "cell_type": "code",
   "execution_count": null,
   "id": "16205044",
   "metadata": {},
   "outputs": [],
   "source": [
    "# Q1"
   ]
  },
  {
   "cell_type": "code",
   "execution_count": 2,
   "id": "1d198259",
   "metadata": {},
   "outputs": [
    {
     "data": {
      "text/plain": [
       "[14.3, 12.6, 13.7, 10.9, 13.7, 12.0, 11.4, 12.0, 12.6, 13.1]"
      ]
     },
     "execution_count": 2,
     "metadata": {},
     "output_type": "execute_result"
    }
   ],
   "source": [
    "data = [14.3,12.6,13.7,10.9,13.7,12.0,11.4,12.0,12.6,13.1]\n",
    "data"
   ]
  },
  {
   "cell_type": "code",
   "execution_count": 3,
   "id": "758cccdb",
   "metadata": {},
   "outputs": [],
   "source": [
    "mu = 12.0"
   ]
  },
  {
   "cell_type": "code",
   "execution_count": 20,
   "id": "b85a3fa8",
   "metadata": {},
   "outputs": [
    {
     "data": {
      "text/plain": [
       "12.629999999999999"
      ]
     },
     "execution_count": 20,
     "metadata": {},
     "output_type": "execute_result"
    }
   ],
   "source": [
    "m = np.mean(data)\n",
    "m"
   ]
  },
  {
   "cell_type": "code",
   "execution_count": 21,
   "id": "571936ed",
   "metadata": {},
   "outputs": [
    {
     "data": {
      "text/plain": [
       "1.085305896459099"
      ]
     },
     "execution_count": 21,
     "metadata": {},
     "output_type": "execute_result"
    }
   ],
   "source": [
    "s_std = np.std(data,ddof=1)\n",
    "s_std"
   ]
  },
  {
   "cell_type": "code",
   "execution_count": 22,
   "id": "633bfa70",
   "metadata": {},
   "outputs": [
    {
     "data": {
      "text/plain": [
       "1.8356436949305341"
      ]
     },
     "execution_count": 22,
     "metadata": {},
     "output_type": "execute_result"
    }
   ],
   "source": [
    "t_stat = ( m - mu ) / (s_std/np.sqrt(len(data)))\n",
    "t_stat"
   ]
  },
  {
   "cell_type": "code",
   "execution_count": 23,
   "id": "05707129",
   "metadata": {},
   "outputs": [
    {
     "data": {
      "text/plain": [
       "0.04979938002326656"
      ]
     },
     "execution_count": 23,
     "metadata": {},
     "output_type": "execute_result"
    }
   ],
   "source": [
    "p_value = 1 - t.cdf(t_stat, len(data)-1)\n",
    "p_value"
   ]
  },
  {
   "cell_type": "code",
   "execution_count": null,
   "id": "4bea0960",
   "metadata": {},
   "outputs": [],
   "source": [
    "# or"
   ]
  },
  {
   "cell_type": "code",
   "execution_count": 4,
   "id": "4b2dc547",
   "metadata": {},
   "outputs": [
    {
     "data": {
      "text/plain": [
       "Ttest_1sampResult(statistic=1.8356436949305337, pvalue=0.04979938002326663)"
      ]
     },
     "execution_count": 4,
     "metadata": {},
     "output_type": "execute_result"
    }
   ],
   "source": [
    "ttest_1samp(data,popmean=mu,alternative='greater')"
   ]
  },
  {
   "cell_type": "code",
   "execution_count": null,
   "id": "a4a643e2",
   "metadata": {},
   "outputs": [],
   "source": []
  },
  {
   "cell_type": "code",
   "execution_count": null,
   "id": "0f9f9553",
   "metadata": {},
   "outputs": [],
   "source": []
  },
  {
   "cell_type": "code",
   "execution_count": null,
   "id": "4e4ae082",
   "metadata": {},
   "outputs": [],
   "source": [
    "# Q2"
   ]
  },
  {
   "cell_type": "code",
   "execution_count": 27,
   "id": "48df0a52",
   "metadata": {},
   "outputs": [
    {
     "data": {
      "text/plain": [
       "175.3"
      ]
     },
     "execution_count": 27,
     "metadata": {},
     "output_type": "execute_result"
    }
   ],
   "source": [
    "mu = 175.3\n",
    "mu"
   ]
  },
  {
   "cell_type": "code",
   "execution_count": 26,
   "id": "81257d8e",
   "metadata": {},
   "outputs": [
    {
     "data": {
      "text/plain": [
       "[177.3, 182.7, 169.6, 176.3, 180.3, 179.4, 178.5, 177.2, 181.8, 176.5]"
      ]
     },
     "execution_count": 26,
     "metadata": {},
     "output_type": "execute_result"
    }
   ],
   "source": [
    "data = [177.3, 182.7, 169.6, 176.3, 180.3, 179.4, 178.5, 177.2, 181.8, 176.5]\n",
    "data"
   ]
  },
  {
   "cell_type": "code",
   "execution_count": 28,
   "id": "57850516",
   "metadata": {},
   "outputs": [
    {
     "data": {
      "text/plain": [
       "177.96"
      ]
     },
     "execution_count": 28,
     "metadata": {},
     "output_type": "execute_result"
    }
   ],
   "source": [
    "m = np.mean(data)\n",
    "m"
   ]
  },
  {
   "cell_type": "code",
   "execution_count": 29,
   "id": "ae09acab",
   "metadata": {},
   "outputs": [
    {
     "data": {
      "text/plain": [
       "3.6643022679783286"
      ]
     },
     "execution_count": 29,
     "metadata": {},
     "output_type": "execute_result"
    }
   ],
   "source": [
    "s_std = np.std(data,ddof=1)\n",
    "s_std"
   ]
  },
  {
   "cell_type": "code",
   "execution_count": 30,
   "id": "cdff55fe",
   "metadata": {},
   "outputs": [
    {
     "data": {
      "text/plain": [
       "2.295568968083183"
      ]
     },
     "execution_count": 30,
     "metadata": {},
     "output_type": "execute_result"
    }
   ],
   "source": [
    "t_stat = (m-mu)/(s_std/np.sqrt(len(data)))\n",
    "t_stat"
   ]
  },
  {
   "cell_type": "code",
   "execution_count": 31,
   "id": "71995b3b",
   "metadata": {},
   "outputs": [
    {
     "data": {
      "text/plain": [
       "0.023670686698735177"
      ]
     },
     "execution_count": 31,
     "metadata": {},
     "output_type": "execute_result"
    }
   ],
   "source": [
    "p_value = 1 - t.cdf(t_stat,len(data)-1)\n",
    "p_value"
   ]
  },
  {
   "cell_type": "code",
   "execution_count": 32,
   "id": "19d8d2d8",
   "metadata": {},
   "outputs": [
    {
     "data": {
      "text/plain": [
       "0.047341373397470354"
      ]
     },
     "execution_count": 32,
     "metadata": {},
     "output_type": "execute_result"
    }
   ],
   "source": [
    "p_value*2"
   ]
  },
  {
   "cell_type": "code",
   "execution_count": null,
   "id": "edf6fdf1",
   "metadata": {},
   "outputs": [],
   "source": [
    "# since p value is less than alpha, reject Ho"
   ]
  },
  {
   "cell_type": "code",
   "execution_count": null,
   "id": "bba82530",
   "metadata": {},
   "outputs": [],
   "source": []
  },
  {
   "cell_type": "code",
   "execution_count": null,
   "id": "f657f6fa",
   "metadata": {},
   "outputs": [],
   "source": []
  },
  {
   "cell_type": "code",
   "execution_count": null,
   "id": "95187769",
   "metadata": {},
   "outputs": [],
   "source": [
    "# Q3"
   ]
  },
  {
   "cell_type": "code",
   "execution_count": 3,
   "id": "b6376b9d",
   "metadata": {},
   "outputs": [],
   "source": [
    "x = [21.5, 24.5, 18.5, 17.2, 14.5, 23.2, 22.1, 20.5, 19.4, 18.1, 24.1, 18.5]"
   ]
  },
  {
   "cell_type": "code",
   "execution_count": 34,
   "id": "53d5932e",
   "metadata": {},
   "outputs": [],
   "source": [
    "mu = 20"
   ]
  },
  {
   "cell_type": "code",
   "execution_count": 35,
   "id": "1968668d",
   "metadata": {},
   "outputs": [
    {
     "data": {
      "text/plain": [
       "20.175"
      ]
     },
     "execution_count": 35,
     "metadata": {},
     "output_type": "execute_result"
    }
   ],
   "source": [
    "m = np.mean(x)\n",
    "m"
   ]
  },
  {
   "cell_type": "code",
   "execution_count": 36,
   "id": "5712e25c",
   "metadata": {},
   "outputs": [
    {
     "data": {
      "text/plain": [
       "3.021175268004159"
      ]
     },
     "execution_count": 36,
     "metadata": {},
     "output_type": "execute_result"
    }
   ],
   "source": [
    "s_std = np.std(x,ddof=1)\n",
    "s_std"
   ]
  },
  {
   "cell_type": "code",
   "execution_count": 37,
   "id": "5c57512e",
   "metadata": {},
   "outputs": [
    {
     "data": {
      "text/plain": [
       "0.2006562773994862"
      ]
     },
     "execution_count": 37,
     "metadata": {},
     "output_type": "execute_result"
    }
   ],
   "source": [
    "t_stat = (m-mu)/(s_std/np.sqrt(len(x)))\n",
    "t_stat"
   ]
  },
  {
   "cell_type": "code",
   "execution_count": 38,
   "id": "2077d897",
   "metadata": {},
   "outputs": [
    {
     "data": {
      "text/plain": [
       "0.42231459465268073"
      ]
     },
     "execution_count": 38,
     "metadata": {},
     "output_type": "execute_result"
    }
   ],
   "source": [
    "p_value = 1- t.cdf(t_stat,len(x)-1)\n",
    "p_value"
   ]
  },
  {
   "cell_type": "code",
   "execution_count": null,
   "id": "4f34d8ac",
   "metadata": {},
   "outputs": [],
   "source": [
    "# since p_value is less than alpha,reject Ho"
   ]
  },
  {
   "cell_type": "code",
   "execution_count": null,
   "id": "47d5076b",
   "metadata": {},
   "outputs": [],
   "source": []
  },
  {
   "cell_type": "code",
   "execution_count": null,
   "id": "8c3a11c8",
   "metadata": {},
   "outputs": [],
   "source": [
    "# OR"
   ]
  },
  {
   "cell_type": "code",
   "execution_count": null,
   "id": "03ff169f",
   "metadata": {},
   "outputs": [],
   "source": []
  },
  {
   "cell_type": "code",
   "execution_count": 7,
   "id": "fd2fb509",
   "metadata": {},
   "outputs": [
    {
     "data": {
      "text/plain": [
       "Ttest_1sampResult(statistic=0.2006562773994862, pvalue=0.4223145946526807)"
      ]
     },
     "execution_count": 7,
     "metadata": {},
     "output_type": "execute_result"
    }
   ],
   "source": [
    "# inbuilt library - ttest_1samp\n",
    "ttest_1samp(x,popmean=20,alternative='greater')"
   ]
  },
  {
   "cell_type": "code",
   "execution_count": null,
   "id": "12be83a8",
   "metadata": {},
   "outputs": [],
   "source": []
  },
  {
   "cell_type": "markdown",
   "id": "2a3d5bbe",
   "metadata": {},
   "source": [
    "### 2 sample ttest (independent sample test)"
   ]
  },
  {
   "cell_type": "code",
   "execution_count": null,
   "id": "b1b491b7",
   "metadata": {},
   "outputs": [],
   "source": []
  },
  {
   "cell_type": "code",
   "execution_count": null,
   "id": "6f35f1f9",
   "metadata": {},
   "outputs": [],
   "source": [
    "# Q4"
   ]
  },
  {
   "cell_type": "code",
   "execution_count": 41,
   "id": "1f9e4d40",
   "metadata": {},
   "outputs": [],
   "source": [
    "from scipy.stats import ttest_ind"
   ]
  },
  {
   "cell_type": "code",
   "execution_count": 39,
   "id": "aae43b1c",
   "metadata": {},
   "outputs": [],
   "source": [
    "men = [13.3, 6.0, 20.0, 8.0, 14.0, 19.0, 18.0, 25.0, 16.0, 24.0, 15.0, 1.0, 15.0]\n",
    "women = [22.0, 16.0, 21.7, 21.0, 30.0, 26.0, 12.0, 23.2, 28.0, 23.0]"
   ]
  },
  {
   "cell_type": "code",
   "execution_count": 42,
   "id": "662bf49e",
   "metadata": {},
   "outputs": [
    {
     "data": {
      "text/plain": [
       "Ttest_indResult(statistic=-2.799960442832919, pvalue=0.010730607904197957)"
      ]
     },
     "execution_count": 42,
     "metadata": {},
     "output_type": "execute_result"
    }
   ],
   "source": [
    "ttest_ind(men,women,alternative='two-sided')"
   ]
  },
  {
   "cell_type": "code",
   "execution_count": null,
   "id": "d7cccf5b",
   "metadata": {},
   "outputs": [],
   "source": []
  },
  {
   "cell_type": "code",
   "execution_count": null,
   "id": "57e314e8",
   "metadata": {},
   "outputs": [],
   "source": []
  },
  {
   "cell_type": "code",
   "execution_count": null,
   "id": "6143958a",
   "metadata": {},
   "outputs": [],
   "source": [
    "# Q5"
   ]
  },
  {
   "cell_type": "code",
   "execution_count": 43,
   "id": "d6e1b679",
   "metadata": {},
   "outputs": [],
   "source": [
    "school_1 = [115, 111, 112, 101, 95, 98, 100, 90, 89, 108]\n",
    "school_2 = [107, 103, 91, 99, 104, 98, 117, 113, 92, 96, 108, 115, 116, 88]"
   ]
  },
  {
   "cell_type": "code",
   "execution_count": 45,
   "id": "23148d81",
   "metadata": {},
   "outputs": [
    {
     "data": {
      "text/plain": [
       "Ttest_indResult(statistic=-0.36928503344341035, pvalue=0.7154458095186707)"
      ]
     },
     "execution_count": 45,
     "metadata": {},
     "output_type": "execute_result"
    }
   ],
   "source": [
    "ttest_ind(school_1,school_2,alternative='two-sided')"
   ]
  },
  {
   "cell_type": "code",
   "execution_count": null,
   "id": "7d6108c4",
   "metadata": {},
   "outputs": [],
   "source": [
    "# since p_value is greater than alpha we will not reject Ho"
   ]
  },
  {
   "cell_type": "code",
   "execution_count": null,
   "id": "6880bd66",
   "metadata": {},
   "outputs": [],
   "source": []
  },
  {
   "cell_type": "code",
   "execution_count": null,
   "id": "6763cbb0",
   "metadata": {},
   "outputs": [],
   "source": []
  },
  {
   "cell_type": "markdown",
   "id": "cd0b77d0",
   "metadata": {},
   "source": [
    "### REVISION"
   ]
  },
  {
   "cell_type": "code",
   "execution_count": 1,
   "id": "6671e8b1",
   "metadata": {},
   "outputs": [],
   "source": [
    "from scipy.stats import ttest_1samp"
   ]
  },
  {
   "cell_type": "code",
   "execution_count": null,
   "id": "121b5d3c",
   "metadata": {},
   "outputs": [],
   "source": [
    "# Q1"
   ]
  },
  {
   "cell_type": "code",
   "execution_count": 5,
   "id": "926c6524",
   "metadata": {},
   "outputs": [],
   "source": [
    "values = [14.3,12.6,13.7,10.9,13.7,12.0,11.4,12.0,12.6,13.1]\n",
    "pop_mean = 12.0\n",
    "# si = 0.05"
   ]
  },
  {
   "cell_type": "code",
   "execution_count": 4,
   "id": "caf8ad11",
   "metadata": {},
   "outputs": [
    {
     "data": {
      "text/plain": [
       "(1.8356436949305337, 0.04979938002326663)"
      ]
     },
     "execution_count": 4,
     "metadata": {},
     "output_type": "execute_result"
    }
   ],
   "source": [
    "t_stat,pvalue =  ttest_1samp(values,popmean=pop_mean,alternative='greater')\n",
    "t_stat,pvalue"
   ]
  },
  {
   "cell_type": "code",
   "execution_count": null,
   "id": "aa07b84a",
   "metadata": {},
   "outputs": [],
   "source": [
    "# reject null hypothesis"
   ]
  },
  {
   "cell_type": "code",
   "execution_count": null,
   "id": "7cb63612",
   "metadata": {},
   "outputs": [],
   "source": []
  },
  {
   "cell_type": "code",
   "execution_count": null,
   "id": "4fb0f55f",
   "metadata": {},
   "outputs": [],
   "source": [
    "# Q2"
   ]
  },
  {
   "cell_type": "code",
   "execution_count": 6,
   "id": "fec34930",
   "metadata": {},
   "outputs": [],
   "source": [
    "survey_height = [177.3, 182.7, 169.6, 176.3, 180.3, 179.4, 178.5, 177.2, 181.8, 176.5]\n",
    "pop_mean = 175.3\n",
    "si = 0.05"
   ]
  },
  {
   "cell_type": "code",
   "execution_count": 7,
   "id": "8b000069",
   "metadata": {},
   "outputs": [
    {
     "data": {
      "text/plain": [
       "(2.295568968083183, 0.04734137339747034)"
      ]
     },
     "execution_count": 7,
     "metadata": {},
     "output_type": "execute_result"
    }
   ],
   "source": [
    "tstat,pvalue = ttest_1samp(survey_height,popmean=pop_mean,alternative='two-sided')\n",
    "tstat,pvalue"
   ]
  },
  {
   "cell_type": "code",
   "execution_count": null,
   "id": "a5ea53a0",
   "metadata": {},
   "outputs": [],
   "source": []
  },
  {
   "cell_type": "code",
   "execution_count": null,
   "id": "f94ebef1",
   "metadata": {},
   "outputs": [],
   "source": [
    "# Q3"
   ]
  },
  {
   "cell_type": "code",
   "execution_count": 8,
   "id": "af3725b3",
   "metadata": {},
   "outputs": [],
   "source": [
    "x = [21.5, 24.5, 18.5, 17.2, 14.5, 23.2, 22.1, 20.5, 19.4, 18.1, 24.1, 18.5]\n",
    "pop_mean = 20\n",
    "si = 0.05"
   ]
  },
  {
   "cell_type": "code",
   "execution_count": 9,
   "id": "9ebd9081",
   "metadata": {},
   "outputs": [
    {
     "data": {
      "text/plain": [
       "(0.2006562773994862, 0.4223145946526807)"
      ]
     },
     "execution_count": 9,
     "metadata": {},
     "output_type": "execute_result"
    }
   ],
   "source": [
    "tstat,pvalue = ttest_1samp(x,popmean=pop_mean,alternative='greater')\n",
    "tstat,pvalue"
   ]
  },
  {
   "cell_type": "code",
   "execution_count": null,
   "id": "fdf0f66f",
   "metadata": {},
   "outputs": [],
   "source": []
  },
  {
   "cell_type": "code",
   "execution_count": null,
   "id": "5576fe44",
   "metadata": {},
   "outputs": [],
   "source": [
    "# Q4"
   ]
  },
  {
   "cell_type": "code",
   "execution_count": 12,
   "id": "932b95b4",
   "metadata": {},
   "outputs": [],
   "source": [
    "from scipy.stats import ttest_ind"
   ]
  },
  {
   "cell_type": "code",
   "execution_count": 11,
   "id": "8b6677d3",
   "metadata": {},
   "outputs": [],
   "source": [
    "men = [13.3, 6.0, 20.0, 8.0, 14.0, 19.0, 18.0, 25.0, 16.0, 24.0, 15.0, 1.0, 15.0]\n",
    "women = [22.0, 16.0, 21.7, 21.0, 30.0, 26.0, 12.0, 23.2, 28.0, 23.0]\n",
    "se = 0.05"
   ]
  },
  {
   "cell_type": "code",
   "execution_count": 13,
   "id": "8f473aab",
   "metadata": {},
   "outputs": [
    {
     "data": {
      "text/plain": [
       "Ttest_indResult(statistic=-2.799960442832919, pvalue=0.010730607904197957)"
      ]
     },
     "execution_count": 13,
     "metadata": {},
     "output_type": "execute_result"
    }
   ],
   "source": [
    "ttest_ind(men,women,alternative='two-sided')"
   ]
  },
  {
   "cell_type": "code",
   "execution_count": null,
   "id": "4fa12a03",
   "metadata": {},
   "outputs": [],
   "source": []
  },
  {
   "cell_type": "code",
   "execution_count": null,
   "id": "f64fb83a",
   "metadata": {},
   "outputs": [],
   "source": [
    "# Q5"
   ]
  },
  {
   "cell_type": "code",
   "execution_count": 14,
   "id": "7fba1c45",
   "metadata": {},
   "outputs": [],
   "source": [
    "school_1 = [115, 111, 112, 101, 95, 98, 100, 90, 89, 108]\n",
    "school_2 = [107, 103, 91, 99, 104, 98, 117, 113, 92, 96, 108, 115, 116, 88]\n",
    "si = 0.05"
   ]
  },
  {
   "cell_type": "code",
   "execution_count": 15,
   "id": "7e52bd5a",
   "metadata": {},
   "outputs": [
    {
     "data": {
      "text/plain": [
       "Ttest_indResult(statistic=-0.36928503344341035, pvalue=0.7154458095186707)"
      ]
     },
     "execution_count": 15,
     "metadata": {},
     "output_type": "execute_result"
    }
   ],
   "source": [
    "ttest_ind(school_1,school_2,alternative='two-sided')"
   ]
  },
  {
   "cell_type": "code",
   "execution_count": null,
   "id": "ce214916",
   "metadata": {},
   "outputs": [],
   "source": []
  },
  {
   "cell_type": "code",
   "execution_count": null,
   "id": "5863f4bc",
   "metadata": {},
   "outputs": [],
   "source": []
  },
  {
   "cell_type": "code",
   "execution_count": null,
   "id": "3d81eaaf",
   "metadata": {},
   "outputs": [],
   "source": []
  },
  {
   "cell_type": "code",
   "execution_count": null,
   "id": "f650b8ec",
   "metadata": {},
   "outputs": [],
   "source": []
  },
  {
   "cell_type": "code",
   "execution_count": null,
   "id": "9994b6b0",
   "metadata": {},
   "outputs": [],
   "source": []
  },
  {
   "cell_type": "code",
   "execution_count": null,
   "id": "efdb6a61",
   "metadata": {},
   "outputs": [],
   "source": []
  },
  {
   "cell_type": "code",
   "execution_count": null,
   "id": "a8be9709",
   "metadata": {},
   "outputs": [],
   "source": []
  }
 ],
 "metadata": {
  "kernelspec": {
   "display_name": "Python 3 (ipykernel)",
   "language": "python",
   "name": "python3"
  },
  "language_info": {
   "codemirror_mode": {
    "name": "ipython",
    "version": 3
   },
   "file_extension": ".py",
   "mimetype": "text/x-python",
   "name": "python",
   "nbconvert_exporter": "python",
   "pygments_lexer": "ipython3",
   "version": "3.9.12"
  }
 },
 "nbformat": 4,
 "nbformat_minor": 5
}

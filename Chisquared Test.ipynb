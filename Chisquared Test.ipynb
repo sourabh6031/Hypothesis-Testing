{
 "cells": [
  {
   "cell_type": "markdown",
   "id": "2eb78ec3",
   "metadata": {},
   "source": [
    "A Pearson’s chi-square test is a statistical test for categorical data. \n",
    "It is used to determine whether your data are significantly different from what you expected. \n",
    "There are two types of Pearson’s chi-square tests:\n",
    "\n",
    "1) The chi-square goodness of fit test is used to test whether the frequency distribution of a categorical variable is different from your expectations.\n",
    "\n",
    "2) The chi-square test of independence is used to test whether two categorical variables are related to each other.\n",
    "\n",
    "Chi-square is often written as Χ2 and is pronounced “kai-square” (rhymes with “eye-square”). \n",
    "It is also called chi-squared.\n",
    "\n",
    "Pearson’s chi-square (Χ2) tests, often referred to simply as chi-square tests, are among the most common nonparametric tests. Nonparametric tests are used for data that don’t follow the assumptions of parametric tests, especially the assumption of a normal distribution."
   ]
  },
  {
   "cell_type": "code",
   "execution_count": 1,
   "id": "c9fe606d",
   "metadata": {},
   "outputs": [],
   "source": [
    "# for calculating chi-stat and p-value manually use 'chi2'\n",
    "from scipy.stats import chi2"
   ]
  },
  {
   "cell_type": "code",
   "execution_count": 2,
   "id": "bbc58fe2",
   "metadata": {},
   "outputs": [],
   "source": [
    "# for calculating chi-stat and p-value automatically use chisquare\n",
    "from scipy.stats import chisquare"
   ]
  },
  {
   "cell_type": "code",
   "execution_count": null,
   "id": "cea306d4",
   "metadata": {},
   "outputs": [],
   "source": [
    "#          HEAD TAIL\n",
    "#EXPECTED  25    25\n",
    "#OBSERVED  28    22"
   ]
  },
  {
   "cell_type": "code",
   "execution_count": null,
   "id": "b43f7af8",
   "metadata": {},
   "outputs": [],
   "source": [
    "# Ho = COIN IS FAIR\n",
    "# Ha = NOT FAIR"
   ]
  },
  {
   "cell_type": "code",
   "execution_count": null,
   "id": "5206bf06",
   "metadata": {},
   "outputs": [],
   "source": [
    "# CHI SQUARE = (OBSERVED - EXPECTED)**2 / EXPECTED"
   ]
  },
  {
   "cell_type": "code",
   "execution_count": null,
   "id": "324f136e",
   "metadata": {},
   "outputs": [],
   "source": [
    "# FOR HEAD = (28-25)**2/25\n",
    "# FOR TAIL = (22-25)**2/25\n",
    "# CHI STAT  = FOR HEAD + FOR TAIL"
   ]
  },
  {
   "cell_type": "code",
   "execution_count": null,
   "id": "3dd0a1f3",
   "metadata": {},
   "outputs": [],
   "source": [
    "# FOR HEAD = (25-25)**2/25  -  FAIR COIN (ACCEPT NULL HYPOTHESIS)"
   ]
  },
  {
   "cell_type": "code",
   "execution_count": null,
   "id": "3d16f10f",
   "metadata": {},
   "outputs": [],
   "source": []
  },
  {
   "cell_type": "code",
   "execution_count": null,
   "id": "20d093de",
   "metadata": {},
   "outputs": [],
   "source": [
    "# RELATION BETWEEN CHI SQUARE AND P-VALUE\n",
    "# IF CHI SQUARE IS LOW OR EQUAL TO 0 - ACCEPT NULL HYPOTHESIS\n",
    "# THEREFORE WHEN CHI SQUARE IS LOW - P-VALUES IS HIGH"
   ]
  },
  {
   "cell_type": "code",
   "execution_count": null,
   "id": "fbf84996",
   "metadata": {},
   "outputs": [],
   "source": [
    "# IF CHI SQUARE IS HIGH OR EQUAL TO 1 - REJECT NULL HYPOTHESIS\n",
    "# THEREFORE WHEN CHI SQUARE IS HIGH - P-VALUES IS LOW"
   ]
  },
  {
   "cell_type": "code",
   "execution_count": null,
   "id": "5aba1d9f",
   "metadata": {},
   "outputs": [],
   "source": [
    "# TO REJECT NULL HYPOTHESIS P-VALUE SHOULD BE SMALLER THAN ALPHA\n",
    "# TO ACCEPT NULL HYPOTHESIS P-VALUE SHOULD BE HIGHER THAN ALPHA"
   ]
  },
  {
   "cell_type": "markdown",
   "id": "fba5e08e",
   "metadata": {},
   "source": [
    "Regarding the hypotheses to be tested, all chi-square tests have the same general null and research hypotheses. \n",
    "\n",
    "The null hypothesis states that there is no relationship between the two variables, \n",
    "\n",
    "while the research hypothesis states that there is a relationship between the two variables."
   ]
  },
  {
   "cell_type": "code",
   "execution_count": null,
   "id": "8483d735",
   "metadata": {},
   "outputs": [],
   "source": []
  },
  {
   "cell_type": "code",
   "execution_count": null,
   "id": "c6e134f7",
   "metadata": {},
   "outputs": [],
   "source": [
    "# Q1"
   ]
  },
  {
   "cell_type": "code",
   "execution_count": null,
   "id": "a121d1ba",
   "metadata": {},
   "outputs": [],
   "source": [
    "# chi square for coin toss"
   ]
  },
  {
   "cell_type": "code",
   "execution_count": 2,
   "id": "be0f57eb",
   "metadata": {},
   "outputs": [],
   "source": [
    "# Ho = fair\n",
    "# Ha = not fair"
   ]
  },
  {
   "cell_type": "code",
   "execution_count": 16,
   "id": "66889528",
   "metadata": {},
   "outputs": [],
   "source": [
    "# alpha = 0.05\n",
    "exp = [25,25]\n",
    "obs = [28,22] # under the assumption Ho is True"
   ]
  },
  {
   "cell_type": "code",
   "execution_count": 13,
   "id": "49b4ec60",
   "metadata": {},
   "outputs": [
    {
     "data": {
      "text/plain": [
       "0.72"
      ]
     },
     "execution_count": 13,
     "metadata": {},
     "output_type": "execute_result"
    }
   ],
   "source": [
    "# chi square\n",
    "chi_stat = (28-25)**2/25 + (22-25)**2/25\n",
    "chi_stat"
   ]
  },
  {
   "cell_type": "code",
   "execution_count": 6,
   "id": "5636bb05",
   "metadata": {},
   "outputs": [
    {
     "data": {
      "text/plain": [
       "0.3961439091520741"
      ]
     },
     "execution_count": 6,
     "metadata": {},
     "output_type": "execute_result"
    }
   ],
   "source": [
    "# parameter = (chi_stat,df(degree of freedom))\n",
    "p_value = 1-chi2.cdf(chi_stat,df=1)\n",
    "p_value"
   ]
  },
  {
   "cell_type": "code",
   "execution_count": null,
   "id": "b9936c5b",
   "metadata": {},
   "outputs": [],
   "source": [
    "# since p value is greater than alpha(0.05), therefore cant reject null hypothesis or accept null hypothesis or coin is fair."
   ]
  },
  {
   "cell_type": "code",
   "execution_count": null,
   "id": "0399917b",
   "metadata": {},
   "outputs": [],
   "source": [
    "# OR using chisquare"
   ]
  },
  {
   "cell_type": "code",
   "execution_count": 17,
   "id": "264c4601",
   "metadata": {},
   "outputs": [],
   "source": [
    "chi_stat,p_value = chisquare(obs,exp)"
   ]
  },
  {
   "cell_type": "code",
   "execution_count": 11,
   "id": "6bcc4051",
   "metadata": {},
   "outputs": [
    {
     "data": {
      "text/plain": [
       "(0.72, 0.3961439091520741)"
      ]
     },
     "execution_count": 11,
     "metadata": {},
     "output_type": "execute_result"
    }
   ],
   "source": [
    "chi_stat,p_value"
   ]
  },
  {
   "cell_type": "code",
   "execution_count": null,
   "id": "b10ea1a7",
   "metadata": {},
   "outputs": [],
   "source": []
  },
  {
   "cell_type": "code",
   "execution_count": null,
   "id": "e6f81ca7",
   "metadata": {},
   "outputs": [],
   "source": [
    "# Q2"
   ]
  },
  {
   "cell_type": "code",
   "execution_count": 21,
   "id": "96c3068b",
   "metadata": {},
   "outputs": [],
   "source": [
    "# alpha = 0.05\n",
    "exp = [25,25]\n",
    "obs = [45,5]"
   ]
  },
  {
   "cell_type": "code",
   "execution_count": 22,
   "id": "fe9b1573",
   "metadata": {},
   "outputs": [
    {
     "data": {
      "text/plain": [
       "Power_divergenceResult(statistic=32.0, pvalue=1.5417257900280013e-08)"
      ]
     },
     "execution_count": 22,
     "metadata": {},
     "output_type": "execute_result"
    }
   ],
   "source": [
    "chisquare(obs,exp)"
   ]
  },
  {
   "cell_type": "code",
   "execution_count": null,
   "id": "ee83f23c",
   "metadata": {},
   "outputs": [],
   "source": []
  },
  {
   "cell_type": "code",
   "execution_count": null,
   "id": "03f70c74",
   "metadata": {},
   "outputs": [],
   "source": []
  },
  {
   "cell_type": "markdown",
   "id": "911d77a1",
   "metadata": {},
   "source": [
    "#### ASSIGNMENT"
   ]
  },
  {
   "cell_type": "code",
   "execution_count": null,
   "id": "50ba1160",
   "metadata": {},
   "outputs": [],
   "source": []
  },
  {
   "cell_type": "code",
   "execution_count": null,
   "id": "631c780d",
   "metadata": {},
   "outputs": [],
   "source": [
    "# Q1"
   ]
  },
  {
   "cell_type": "code",
   "execution_count": 3,
   "id": "5ee82b34",
   "metadata": {},
   "outputs": [],
   "source": [
    "# chi2_contingency are used when data are in the form of crosstab table\n",
    "\n",
    "from scipy.stats import chi2_contingency"
   ]
  },
  {
   "cell_type": "code",
   "execution_count": 1,
   "id": "86c3ebf8",
   "metadata": {},
   "outputs": [],
   "source": [
    "observed = [[67,213,74],[411,633,129],[85,51,7],[27,60,15]]"
   ]
  },
  {
   "cell_type": "code",
   "execution_count": 5,
   "id": "ca596cc9",
   "metadata": {},
   "outputs": [
    {
     "data": {
      "text/plain": [
       "(94.26880078578765,\n",
       " 3.925170647869838e-18,\n",
       " 6,\n",
       " array([[117.86681716, 191.18397291,  44.94920993],\n",
       "        [390.55869074, 633.49943567, 148.94187359],\n",
       "        [ 47.61286682,  77.22968397,  18.15744921],\n",
       "        [ 33.96162528,  55.08690745,  12.95146727]]))"
      ]
     },
     "execution_count": 5,
     "metadata": {},
     "output_type": "execute_result"
    }
   ],
   "source": [
    "chi2_contingency(observed)"
   ]
  },
  {
   "cell_type": "code",
   "execution_count": 8,
   "id": "798b0468",
   "metadata": {},
   "outputs": [],
   "source": [
    "observed = [[67,213,74], [411,633,129], [85,51,7], [27,60,15]]\n",
    "test_stat,pvalue,a,b = chi2_contingency(observed)"
   ]
  },
  {
   "cell_type": "code",
   "execution_count": 9,
   "id": "175308d3",
   "metadata": {},
   "outputs": [],
   "source": [
    "alpha = 0.05"
   ]
  },
  {
   "cell_type": "code",
   "execution_count": 10,
   "id": "dca25da1",
   "metadata": {},
   "outputs": [
    {
     "name": "stdout",
     "output_type": "stream",
     "text": [
      "reject null\n"
     ]
    }
   ],
   "source": [
    "if pvalue<alpha:\n",
    "    print('reject null')\n",
    "else:\n",
    "    print('accept null')"
   ]
  },
  {
   "cell_type": "code",
   "execution_count": null,
   "id": "8fd1824f",
   "metadata": {},
   "outputs": [],
   "source": []
  },
  {
   "cell_type": "code",
   "execution_count": null,
   "id": "3a8ef59f",
   "metadata": {},
   "outputs": [],
   "source": [
    "# Q2"
   ]
  },
  {
   "cell_type": "code",
   "execution_count": 11,
   "id": "09032f1a",
   "metadata": {},
   "outputs": [],
   "source": [
    "obs = [[33,218],[25,389],[20,393],[17,178]]"
   ]
  },
  {
   "cell_type": "code",
   "execution_count": 12,
   "id": "ae9e20b4",
   "metadata": {},
   "outputs": [
    {
     "data": {
      "text/plain": [
       "(17.51186847271713,\n",
       " 0.000554511571355531,\n",
       " 3,\n",
       " array([[ 18.73134328, 232.26865672],\n",
       "        [ 30.89552239, 383.10447761],\n",
       "        [ 30.82089552, 382.17910448],\n",
       "        [ 14.55223881, 180.44776119]]))"
      ]
     },
     "execution_count": 12,
     "metadata": {},
     "output_type": "execute_result"
    }
   ],
   "source": [
    "chi_stat,pvalue,a,b = chi2_contingency(obs)\n",
    "chi_stat,pvalue,a,b"
   ]
  },
  {
   "cell_type": "code",
   "execution_count": null,
   "id": "cb3ce715",
   "metadata": {},
   "outputs": [],
   "source": []
  },
  {
   "cell_type": "code",
   "execution_count": null,
   "id": "6ebe2c99",
   "metadata": {},
   "outputs": [],
   "source": [
    "# Q3"
   ]
  },
  {
   "cell_type": "code",
   "execution_count": 13,
   "id": "80e46e05",
   "metadata": {},
   "outputs": [],
   "source": [
    "obs = [[77,149,78],[23,56,36],[8,24,29],[6,15,8]]"
   ]
  },
  {
   "cell_type": "code",
   "execution_count": 15,
   "id": "d56506ff",
   "metadata": {},
   "outputs": [],
   "source": [
    "stat,pvalue,a,b = chi2_contingency(obs)"
   ]
  },
  {
   "cell_type": "code",
   "execution_count": 17,
   "id": "6ab6c96a",
   "metadata": {},
   "outputs": [
    {
     "data": {
      "text/plain": [
       "0.038193742691133806"
      ]
     },
     "execution_count": 17,
     "metadata": {},
     "output_type": "execute_result"
    }
   ],
   "source": [
    "pvalue"
   ]
  },
  {
   "cell_type": "code",
   "execution_count": 18,
   "id": "e439e47a",
   "metadata": {
    "scrolled": true
   },
   "outputs": [
    {
     "data": {
      "text/plain": [
       "True"
      ]
     },
     "execution_count": 18,
     "metadata": {},
     "output_type": "execute_result"
    }
   ],
   "source": [
    "0.05 > pvalue"
   ]
  },
  {
   "cell_type": "code",
   "execution_count": null,
   "id": "b6b0156e",
   "metadata": {},
   "outputs": [],
   "source": []
  },
  {
   "cell_type": "code",
   "execution_count": null,
   "id": "905424a5",
   "metadata": {},
   "outputs": [],
   "source": [
    "# Q4"
   ]
  },
  {
   "cell_type": "code",
   "execution_count": 65,
   "id": "c2cbf3de",
   "metadata": {},
   "outputs": [],
   "source": [
    "obs = [[335,348,318],[35,23,50]]"
   ]
  },
  {
   "cell_type": "code",
   "execution_count": null,
   "id": "b7ea50e5",
   "metadata": {
    "collapsed": true
   },
   "outputs": [],
   "source": []
  },
  {
   "cell_type": "code",
   "execution_count": null,
   "id": "cd03bfb1",
   "metadata": {},
   "outputs": [],
   "source": []
  },
  {
   "cell_type": "code",
   "execution_count": 21,
   "id": "f3eb3d49",
   "metadata": {},
   "outputs": [],
   "source": [
    "alpha = 0.001"
   ]
  },
  {
   "cell_type": "code",
   "execution_count": 20,
   "id": "b86c22f3",
   "metadata": {},
   "outputs": [
    {
     "data": {
      "text/plain": [
       "(11.519544916042339,\n",
       " 0.003151828690194211,\n",
       " 2,\n",
       " array([[333.96753832, 334.87015329, 332.16230839],\n",
       "        [ 36.03246168,  36.12984671,  35.83769161]]))"
      ]
     },
     "execution_count": 20,
     "metadata": {},
     "output_type": "execute_result"
    }
   ],
   "source": [
    "chi2_contingency(obs)"
   ]
  },
  {
   "cell_type": "code",
   "execution_count": 22,
   "id": "40e885cb",
   "metadata": {},
   "outputs": [
    {
     "data": {
      "text/plain": [
       "tuple"
      ]
     },
     "execution_count": 22,
     "metadata": {},
     "output_type": "execute_result"
    }
   ],
   "source": [
    "type(chi2_contingency(obs))"
   ]
  },
  {
   "cell_type": "code",
   "execution_count": 27,
   "id": "3f173ebb",
   "metadata": {},
   "outputs": [
    {
     "data": {
      "text/plain": [
       "True"
      ]
     },
     "execution_count": 27,
     "metadata": {},
     "output_type": "execute_result"
    }
   ],
   "source": [
    "chi2_contingency(obs)[1] < 0.01"
   ]
  },
  {
   "cell_type": "code",
   "execution_count": null,
   "id": "b70e3a2c",
   "metadata": {},
   "outputs": [],
   "source": []
  },
  {
   "cell_type": "code",
   "execution_count": null,
   "id": "519445dd",
   "metadata": {},
   "outputs": [],
   "source": []
  },
  {
   "cell_type": "code",
   "execution_count": null,
   "id": "95b55673",
   "metadata": {},
   "outputs": [],
   "source": [
    "# Q5"
   ]
  },
  {
   "cell_type": "code",
   "execution_count": 28,
   "id": "c5dbba4a",
   "metadata": {},
   "outputs": [],
   "source": [
    "obs = [[6,38,31],[14,31,4],[50,50,5]]"
   ]
  },
  {
   "cell_type": "code",
   "execution_count": 29,
   "id": "c3ca5c4e",
   "metadata": {},
   "outputs": [],
   "source": [
    "stat,pvalue,a,b = chi2_contingency(obs)"
   ]
  },
  {
   "cell_type": "code",
   "execution_count": 31,
   "id": "a71f21da",
   "metadata": {},
   "outputs": [
    {
     "data": {
      "text/plain": [
       "2.0217185191724964e-12"
      ]
     },
     "execution_count": 31,
     "metadata": {},
     "output_type": "execute_result"
    }
   ],
   "source": [
    "pvalue"
   ]
  },
  {
   "cell_type": "code",
   "execution_count": 34,
   "id": "609c6ffa",
   "metadata": {},
   "outputs": [
    {
     "data": {
      "text/plain": [
       "True"
      ]
     },
     "execution_count": 34,
     "metadata": {},
     "output_type": "execute_result"
    }
   ],
   "source": [
    "pvalue<0.01"
   ]
  },
  {
   "cell_type": "code",
   "execution_count": null,
   "id": "0f4dabcc",
   "metadata": {},
   "outputs": [],
   "source": []
  },
  {
   "cell_type": "code",
   "execution_count": null,
   "id": "95238cab",
   "metadata": {},
   "outputs": [],
   "source": [
    "# Q6"
   ]
  },
  {
   "cell_type": "code",
   "execution_count": 36,
   "id": "4c8c72e3",
   "metadata": {},
   "outputs": [],
   "source": [
    "obs = [[75,106,46],[106,161,61],[98,183,52],[48,102,14]]"
   ]
  },
  {
   "cell_type": "code",
   "execution_count": 37,
   "id": "e2c50e63",
   "metadata": {},
   "outputs": [],
   "source": [
    "stat,pvalue,dof,er = chi2_contingency(obs)"
   ]
  },
  {
   "cell_type": "code",
   "execution_count": 38,
   "id": "db518a44",
   "metadata": {},
   "outputs": [
    {
     "data": {
      "text/plain": [
       "0.015293451318673136"
      ]
     },
     "execution_count": 38,
     "metadata": {},
     "output_type": "execute_result"
    }
   ],
   "source": [
    "pvalue"
   ]
  },
  {
   "cell_type": "code",
   "execution_count": 39,
   "id": "08e55f6f",
   "metadata": {},
   "outputs": [
    {
     "data": {
      "text/plain": [
       "True"
      ]
     },
     "execution_count": 39,
     "metadata": {},
     "output_type": "execute_result"
    }
   ],
   "source": [
    "pvalue<0.05"
   ]
  },
  {
   "cell_type": "code",
   "execution_count": null,
   "id": "571674ec",
   "metadata": {},
   "outputs": [],
   "source": []
  },
  {
   "cell_type": "code",
   "execution_count": null,
   "id": "d706e3ee",
   "metadata": {},
   "outputs": [],
   "source": [
    "# Q7"
   ]
  },
  {
   "cell_type": "code",
   "execution_count": 48,
   "id": "40c80b14",
   "metadata": {},
   "outputs": [
    {
     "data": {
      "text/plain": [
       "[73, 38, 18]"
      ]
     },
     "execution_count": 48,
     "metadata": {},
     "output_type": "execute_result"
    }
   ],
   "source": [
    "obs=[73,38,18]\n",
    "obs"
   ]
  },
  {
   "cell_type": "code",
   "execution_count": 49,
   "id": "31d7871a",
   "metadata": {},
   "outputs": [
    {
     "data": {
      "text/plain": [
       "[77.39999999999999, 36.120000000000005, 15.479999999999999]"
      ]
     },
     "execution_count": 49,
     "metadata": {},
     "output_type": "execute_result"
    }
   ],
   "source": [
    "exp = [0.60*129,0.28*129,0.12*129]\n",
    "exp"
   ]
  },
  {
   "cell_type": "code",
   "execution_count": 40,
   "id": "276e3aa2",
   "metadata": {},
   "outputs": [
    {
     "data": {
      "text/plain": [
       "129"
      ]
     },
     "execution_count": 40,
     "metadata": {},
     "output_type": "execute_result"
    }
   ],
   "source": [
    "73 +38+18"
   ]
  },
  {
   "cell_type": "markdown",
   "id": "06bff38b",
   "metadata": {},
   "source": [
    "pvalue = 1 - chi2.cdf(chi_stat,df=1)\n",
    "pvalue"
   ]
  },
  {
   "cell_type": "code",
   "execution_count": 50,
   "id": "49c97ebb",
   "metadata": {},
   "outputs": [
    {
     "data": {
      "text/plain": [
       "Power_divergenceResult(statistic=0.7582133628645247, pvalue=0.6844725882551137)"
      ]
     },
     "execution_count": 50,
     "metadata": {},
     "output_type": "execute_result"
    }
   ],
   "source": [
    "chisquare(obs,exp)"
   ]
  },
  {
   "cell_type": "code",
   "execution_count": null,
   "id": "981074d6",
   "metadata": {},
   "outputs": [],
   "source": [
    "66"
   ]
  },
  {
   "cell_type": "code",
   "execution_count": null,
   "id": "cfdc25d6",
   "metadata": {},
   "outputs": [],
   "source": []
  },
  {
   "cell_type": "code",
   "execution_count": null,
   "id": "af4abe99",
   "metadata": {},
   "outputs": [],
   "source": [
    "# Q8"
   ]
  },
  {
   "cell_type": "code",
   "execution_count": null,
   "id": "454431b6",
   "metadata": {},
   "outputs": [],
   "source": [
    "# coin tossed 100 times"
   ]
  },
  {
   "cell_type": "code",
   "execution_count": 54,
   "id": "2c457a39",
   "metadata": {},
   "outputs": [],
   "source": [
    "exp = [50,50]\n",
    "obs = [48,52]"
   ]
  },
  {
   "cell_type": "code",
   "execution_count": 55,
   "id": "7641b720",
   "metadata": {},
   "outputs": [
    {
     "data": {
      "text/plain": [
       "Power_divergenceResult(statistic=0.16, pvalue=0.6891565167793516)"
      ]
     },
     "execution_count": 55,
     "metadata": {},
     "output_type": "execute_result"
    }
   ],
   "source": [
    "chisquare(obs,exp)"
   ]
  },
  {
   "cell_type": "code",
   "execution_count": null,
   "id": "8080afb4",
   "metadata": {},
   "outputs": [],
   "source": []
  },
  {
   "cell_type": "code",
   "execution_count": null,
   "id": "ea3981b4",
   "metadata": {},
   "outputs": [],
   "source": []
  },
  {
   "cell_type": "code",
   "execution_count": null,
   "id": "53d6d584",
   "metadata": {},
   "outputs": [],
   "source": [
    "# Q9"
   ]
  },
  {
   "cell_type": "code",
   "execution_count": 56,
   "id": "212a85e4",
   "metadata": {},
   "outputs": [
    {
     "data": {
      "text/plain": [
       "200"
      ]
     },
     "execution_count": 56,
     "metadata": {},
     "output_type": "execute_result"
    }
   ],
   "source": [
    "total = 70+80+50\n",
    "total"
   ]
  },
  {
   "cell_type": "code",
   "execution_count": 59,
   "id": "44a27bd5",
   "metadata": {},
   "outputs": [],
   "source": [
    "obs = [70,80,50]"
   ]
  },
  {
   "cell_type": "code",
   "execution_count": null,
   "id": "abcbdc2f",
   "metadata": {},
   "outputs": [],
   "source": [
    "#expected = 30%, 40%, 30%"
   ]
  },
  {
   "cell_type": "code",
   "execution_count": 57,
   "id": "23d57783",
   "metadata": {},
   "outputs": [
    {
     "data": {
      "text/plain": [
       "[60.0, 80.0, 60.0]"
      ]
     },
     "execution_count": 57,
     "metadata": {},
     "output_type": "execute_result"
    }
   ],
   "source": [
    "exp = [0.30*200,0.40*200,0.30*200]\n",
    "exp"
   ]
  },
  {
   "cell_type": "code",
   "execution_count": 60,
   "id": "9b9c2e2b",
   "metadata": {},
   "outputs": [
    {
     "data": {
      "text/plain": [
       "Power_divergenceResult(statistic=3.3333333333333335, pvalue=0.1888756028375618)"
      ]
     },
     "execution_count": 60,
     "metadata": {},
     "output_type": "execute_result"
    }
   ],
   "source": [
    "chisquare(obs,exp)"
   ]
  },
  {
   "cell_type": "code",
   "execution_count": 62,
   "id": "84b5c6eb",
   "metadata": {},
   "outputs": [],
   "source": [
    "significance_level = 0.05"
   ]
  },
  {
   "cell_type": "code",
   "execution_count": 64,
   "id": "14b5818c",
   "metadata": {},
   "outputs": [
    {
     "data": {
      "text/plain": [
       "False"
      ]
     },
     "execution_count": 64,
     "metadata": {},
     "output_type": "execute_result"
    }
   ],
   "source": [
    "chisquare(obs,exp)[1] < significance_level"
   ]
  },
  {
   "cell_type": "code",
   "execution_count": null,
   "id": "1ddd58c4",
   "metadata": {},
   "outputs": [],
   "source": [
    "# accept null hypothesis"
   ]
  },
  {
   "cell_type": "code",
   "execution_count": null,
   "id": "8c7945af",
   "metadata": {},
   "outputs": [],
   "source": []
  },
  {
   "cell_type": "code",
   "execution_count": null,
   "id": "875498b9",
   "metadata": {},
   "outputs": [],
   "source": []
  },
  {
   "cell_type": "markdown",
   "id": "f1981208",
   "metadata": {},
   "source": [
    "### REVISION"
   ]
  },
  {
   "cell_type": "code",
   "execution_count": 1,
   "id": "eb018bcc",
   "metadata": {},
   "outputs": [],
   "source": [
    "from scipy.stats import chi2_contingency\n",
    "from scipy.stats import chisquare"
   ]
  },
  {
   "cell_type": "markdown",
   "id": "98e46b27",
   "metadata": {},
   "source": [
    "Regarding the hypotheses to be tested, all chi-square tests have the same general null and research hypotheses. \n",
    "The null hypothesis states that there is no relationship between the two variables, \n",
    "while the research hypothesis states that there is a relationship between the two variables."
   ]
  },
  {
   "cell_type": "code",
   "execution_count": null,
   "id": "6b2dda52",
   "metadata": {},
   "outputs": [],
   "source": [
    "# Q1"
   ]
  },
  {
   "cell_type": "code",
   "execution_count": 2,
   "id": "5ccf2900",
   "metadata": {},
   "outputs": [],
   "source": [
    "data = [[67,213,74],[411,633,129],[85,51,7],[27,60,15]]"
   ]
  },
  {
   "cell_type": "code",
   "execution_count": 3,
   "id": "ea451b4d",
   "metadata": {},
   "outputs": [
    {
     "data": {
      "text/plain": [
       "(94.26880078578765,\n",
       " 3.925170647869838e-18,\n",
       " 6,\n",
       " array([[[117.86681716, 191.18397291,  44.94920993],\n",
       "         [390.55869074, 633.49943567, 148.94187359],\n",
       "         [ 47.61286682,  77.22968397,  18.15744921],\n",
       "         [ 33.96162528,  55.08690745,  12.95146727]]]))"
      ]
     },
     "execution_count": 3,
     "metadata": {},
     "output_type": "execute_result"
    }
   ],
   "source": [
    "chi2_contingency([data])"
   ]
  },
  {
   "cell_type": "code",
   "execution_count": null,
   "id": "62235ec1",
   "metadata": {},
   "outputs": [],
   "source": [
    "# Ho : not associated, Ha : associated"
   ]
  },
  {
   "cell_type": "code",
   "execution_count": null,
   "id": "19c5fd39",
   "metadata": {},
   "outputs": [],
   "source": []
  },
  {
   "cell_type": "code",
   "execution_count": null,
   "id": "b0c3b543",
   "metadata": {},
   "outputs": [],
   "source": [
    "# Q2"
   ]
  },
  {
   "cell_type": "code",
   "execution_count": null,
   "id": "8e524469",
   "metadata": {},
   "outputs": [],
   "source": [
    "# Ho: not exist, Ha: exist"
   ]
  },
  {
   "cell_type": "code",
   "execution_count": 4,
   "id": "0f55c7ea",
   "metadata": {},
   "outputs": [],
   "source": [
    "data = [[33,218],[25,389],[20,393],[17,178]]"
   ]
  },
  {
   "cell_type": "code",
   "execution_count": 5,
   "id": "9a78b246",
   "metadata": {},
   "outputs": [
    {
     "data": {
      "text/plain": [
       "(17.51186847271713,\n",
       " 0.000554511571355531,\n",
       " 3,\n",
       " array([[ 18.73134328, 232.26865672],\n",
       "        [ 30.89552239, 383.10447761],\n",
       "        [ 30.82089552, 382.17910448],\n",
       "        [ 14.55223881, 180.44776119]]))"
      ]
     },
     "execution_count": 5,
     "metadata": {},
     "output_type": "execute_result"
    }
   ],
   "source": [
    "chi2_contingency(data)"
   ]
  },
  {
   "cell_type": "code",
   "execution_count": null,
   "id": "65293bd9",
   "metadata": {},
   "outputs": [],
   "source": [
    "# Educational level and diabetic state are associated"
   ]
  },
  {
   "cell_type": "code",
   "execution_count": null,
   "id": "2a92dc01",
   "metadata": {},
   "outputs": [],
   "source": []
  },
  {
   "cell_type": "code",
   "execution_count": null,
   "id": "d4a6e494",
   "metadata": {},
   "outputs": [],
   "source": [
    "# Q3"
   ]
  },
  {
   "cell_type": "code",
   "execution_count": null,
   "id": "b1e6a74a",
   "metadata": {},
   "outputs": [],
   "source": [
    "# Ho:exist, Ha:not exist"
   ]
  },
  {
   "cell_type": "code",
   "execution_count": 8,
   "id": "8c4cf26e",
   "metadata": {},
   "outputs": [],
   "source": [
    "data = [[77,149,78],[23,56,36],[8,24,29],[6,15,8]]"
   ]
  },
  {
   "cell_type": "code",
   "execution_count": 9,
   "id": "8f39e2ed",
   "metadata": {},
   "outputs": [
    {
     "data": {
      "text/plain": [
       "(13.322313008960627,\n",
       " 0.038193742691133806,\n",
       " 6,\n",
       " array([[ 68.08644401, 145.72888016,  90.18467583],\n",
       "        [ 25.75638507,  55.12770138,  34.11591356],\n",
       "        [ 13.66208251,  29.24165029,  18.09626719],\n",
       "        [  6.49508841,  13.90176817,   8.60314342]]))"
      ]
     },
     "execution_count": 9,
     "metadata": {},
     "output_type": "execute_result"
    }
   ],
   "source": [
    "chi2_contingency(data)"
   ]
  },
  {
   "cell_type": "code",
   "execution_count": null,
   "id": "032468c8",
   "metadata": {},
   "outputs": [],
   "source": [
    "# not exist"
   ]
  },
  {
   "cell_type": "code",
   "execution_count": null,
   "id": "3a1ef663",
   "metadata": {},
   "outputs": [],
   "source": []
  },
  {
   "cell_type": "code",
   "execution_count": null,
   "id": "fa326811",
   "metadata": {},
   "outputs": [],
   "source": [
    "# Q4"
   ]
  },
  {
   "cell_type": "code",
   "execution_count": 10,
   "id": "12eb4a61",
   "metadata": {},
   "outputs": [],
   "source": [
    "data = [[335,348,318],[35,23,50]]"
   ]
  },
  {
   "cell_type": "code",
   "execution_count": 11,
   "id": "53ed87fb",
   "metadata": {},
   "outputs": [
    {
     "data": {
      "text/plain": [
       "(11.519544916042339,\n",
       " 0.003151828690194211,\n",
       " 2,\n",
       " array([[333.96753832, 334.87015329, 332.16230839],\n",
       "        [ 36.03246168,  36.12984671,  35.83769161]]))"
      ]
     },
     "execution_count": 11,
     "metadata": {},
     "output_type": "execute_result"
    }
   ],
   "source": [
    "chi2_contingency(data)"
   ]
  },
  {
   "cell_type": "code",
   "execution_count": null,
   "id": "9069f360",
   "metadata": {},
   "outputs": [],
   "source": [
    "# not associated"
   ]
  },
  {
   "cell_type": "code",
   "execution_count": null,
   "id": "1a7dd124",
   "metadata": {},
   "outputs": [],
   "source": []
  },
  {
   "cell_type": "code",
   "execution_count": null,
   "id": "02a4ee1c",
   "metadata": {},
   "outputs": [],
   "source": [
    "# Q5"
   ]
  },
  {
   "cell_type": "code",
   "execution_count": 12,
   "id": "e34df8dd",
   "metadata": {},
   "outputs": [],
   "source": [
    "data = [[6,38,31],[14,31,4],[50,50,5]]"
   ]
  },
  {
   "cell_type": "code",
   "execution_count": 13,
   "id": "ee1167b4",
   "metadata": {},
   "outputs": [
    {
     "data": {
      "text/plain": [
       "(60.74604310295546,\n",
       " 2.0217185191724964e-12,\n",
       " 4,\n",
       " array([[22.92576419, 38.97379913, 13.10043668],\n",
       "        [14.97816594, 25.4628821 ,  8.55895197],\n",
       "        [32.09606987, 54.56331878, 18.34061135]]))"
      ]
     },
     "execution_count": 13,
     "metadata": {},
     "output_type": "execute_result"
    }
   ],
   "source": [
    "chi2_contingency(data)"
   ]
  }
 ],
 "metadata": {
  "kernelspec": {
   "display_name": "Python 3 (ipykernel)",
   "language": "python",
   "name": "python3"
  },
  "language_info": {
   "codemirror_mode": {
    "name": "ipython",
    "version": 3
   },
   "file_extension": ".py",
   "mimetype": "text/x-python",
   "name": "python",
   "nbconvert_exporter": "python",
   "pygments_lexer": "ipython3",
   "version": "3.9.12"
  },
  "widgets": {
   "application/vnd.jupyter.widget-state+json": {
    "state": {},
    "version_major": 2,
    "version_minor": 0
   }
  }
 },
 "nbformat": 4,
 "nbformat_minor": 5
}

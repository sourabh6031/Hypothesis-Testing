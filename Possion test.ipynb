{
 "cells": [
  {
   "cell_type": "code",
   "execution_count": 24,
   "id": "e32296eb",
   "metadata": {},
   "outputs": [],
   "source": [
    "from scipy.stats import poisson "
   ]
  },
  {
   "cell_type": "code",
   "execution_count": 4,
   "id": "48ab09b4",
   "metadata": {},
   "outputs": [
    {
     "data": {
      "text/plain": [
       "0.9997765937064377"
      ]
     },
     "execution_count": 4,
     "metadata": {},
     "output_type": "execute_result"
    }
   ],
   "source": [
    "1 - poisson.cdf(mu=18.5,k=5)"
   ]
  },
  {
   "cell_type": "code",
   "execution_count": 5,
   "id": "03569af7",
   "metadata": {},
   "outputs": [
    {
     "data": {
      "text/plain": [
       "3.3912621288737476e-09"
      ]
     },
     "execution_count": 5,
     "metadata": {},
     "output_type": "execute_result"
    }
   ],
   "source": [
    "poisson.pmf(mu = 2,k=15)"
   ]
  },
  {
   "cell_type": "code",
   "execution_count": null,
   "id": "f7e9ebfb",
   "metadata": {},
   "outputs": [],
   "source": []
  },
  {
   "cell_type": "markdown",
   "id": "d6720fe1",
   "metadata": {},
   "source": [
    "### ASSUMPTIONS :"
   ]
  },
  {
   "cell_type": "markdown",
   "id": "60d9bebb",
   "metadata": {},
   "source": [
    "- COUNTING - RANDOM VARIABLE CAN BE COUNTED.\n",
    "- RATE - AVG MUST BE SAME.\n",
    "- NO SIMULTANEOUS EVENTS SHOULD OCCUR.\n",
    "- MUST BE INDEPENDENT EVENT"
   ]
  },
  {
   "cell_type": "code",
   "execution_count": null,
   "id": "a76e9155",
   "metadata": {},
   "outputs": [],
   "source": []
  },
  {
   "cell_type": "markdown",
   "id": "18fd5b29",
   "metadata": {},
   "source": [
    "### Q\n",
    "#### A shop is open for 8 hours. The average number of customer is 74.assume poisson distributed.what is the probability that in 2 hours there will be atmost 15 customers ?"
   ]
  },
  {
   "cell_type": "code",
   "execution_count": null,
   "id": "76bc6c4d",
   "metadata": {},
   "outputs": [],
   "source": [
    "for 8 hours avg = 74\n",
    "for 1 hour avg = 74/8\n",
    "for 2 hour avg = 74/8 * 2 = 18.5"
   ]
  },
  {
   "cell_type": "code",
   "execution_count": 7,
   "id": "3191f153",
   "metadata": {},
   "outputs": [
    {
     "data": {
      "text/plain": [
       "18.5"
      ]
     },
     "execution_count": 7,
     "metadata": {},
     "output_type": "execute_result"
    }
   ],
   "source": [
    "74/8 * 2"
   ]
  },
  {
   "cell_type": "code",
   "execution_count": 8,
   "id": "da4aba90",
   "metadata": {},
   "outputs": [
    {
     "data": {
      "text/plain": [
       "0.24902769151284776"
      ]
     },
     "execution_count": 8,
     "metadata": {},
     "output_type": "execute_result"
    }
   ],
   "source": [
    "poisson.cdf(mu=18.5,k=15)"
   ]
  },
  {
   "cell_type": "code",
   "execution_count": 9,
   "id": "daad9fab",
   "metadata": {},
   "outputs": [
    {
     "data": {
      "text/plain": [
       "0.9999434065481432"
      ]
     },
     "execution_count": 9,
     "metadata": {},
     "output_type": "execute_result"
    }
   ],
   "source": [
    "1 - poisson.cdf(mu=18.5,k=4)"
   ]
  },
  {
   "cell_type": "markdown",
   "id": "1061446a",
   "metadata": {},
   "source": [
    "#### Q.  you receive 240 msg per hour on avg - assume poission distribution. what is the probability that there is no msg in 15 sec."
   ]
  },
  {
   "cell_type": "code",
   "execution_count": 10,
   "id": "95583b8d",
   "metadata": {},
   "outputs": [
    {
     "data": {
      "text/plain": [
       "0.06666666666666667"
      ]
     },
     "execution_count": 10,
     "metadata": {},
     "output_type": "execute_result"
    }
   ],
   "source": [
    "one_sec = 240/3600\n",
    "one_sec"
   ]
  },
  {
   "cell_type": "code",
   "execution_count": 11,
   "id": "ca53276a",
   "metadata": {},
   "outputs": [
    {
     "data": {
      "text/plain": [
       "1.0"
      ]
     },
     "execution_count": 11,
     "metadata": {},
     "output_type": "execute_result"
    }
   ],
   "source": [
    "sec_15 = 240/3600 * 15\n",
    "sec_15"
   ]
  },
  {
   "cell_type": "code",
   "execution_count": 14,
   "id": "9324e2f1",
   "metadata": {},
   "outputs": [
    {
     "data": {
      "text/plain": [
       "0.36787944117144233"
      ]
     },
     "execution_count": 14,
     "metadata": {},
     "output_type": "execute_result"
    }
   ],
   "source": [
    "poisson.pmf(mu=1,k=0)"
   ]
  },
  {
   "cell_type": "code",
   "execution_count": null,
   "id": "482576c5",
   "metadata": {},
   "outputs": [],
   "source": []
  },
  {
   "cell_type": "markdown",
   "id": "16b9bac9",
   "metadata": {},
   "source": [
    "#### Q. There are 80 children in school. Each of them has 0.015 Prob. of forgetting their lunch.What is the Prob. that exactly 3 of them will forget their lunch ?"
   ]
  },
  {
   "cell_type": "code",
   "execution_count": 15,
   "id": "3c4f4f67",
   "metadata": {},
   "outputs": [],
   "source": [
    "n = 80\n",
    "avg_forgetting = 0.015*80"
   ]
  },
  {
   "cell_type": "code",
   "execution_count": 16,
   "id": "66ff81d1",
   "metadata": {},
   "outputs": [
    {
     "data": {
      "text/plain": [
       "1.2"
      ]
     },
     "execution_count": 16,
     "metadata": {},
     "output_type": "execute_result"
    }
   ],
   "source": [
    "avg_forgetting"
   ]
  },
  {
   "cell_type": "code",
   "execution_count": 17,
   "id": "24f3654f",
   "metadata": {},
   "outputs": [
    {
     "data": {
      "text/plain": [
       "0.08674393303071422"
      ]
     },
     "execution_count": 17,
     "metadata": {},
     "output_type": "execute_result"
    }
   ],
   "source": [
    "poisson.pmf(mu=1.2,k=3)"
   ]
  },
  {
   "cell_type": "code",
   "execution_count": 1,
   "id": "74ac45a0",
   "metadata": {},
   "outputs": [],
   "source": [
    "from scipy.stats import binom"
   ]
  },
  {
   "cell_type": "code",
   "execution_count": 2,
   "id": "23ec7997",
   "metadata": {},
   "outputs": [
    {
     "data": {
      "text/plain": [
       "0.08660120920447557"
      ]
     },
     "execution_count": 2,
     "metadata": {},
     "output_type": "execute_result"
    }
   ],
   "source": [
    "binom.pmf(n = 80,p = 0.015,k=3)"
   ]
  },
  {
   "cell_type": "code",
   "execution_count": null,
   "id": "1f542b08",
   "metadata": {},
   "outputs": [],
   "source": []
  },
  {
   "cell_type": "markdown",
   "id": "3dfc945f",
   "metadata": {},
   "source": [
    "### ASSIGNMENT"
   ]
  },
  {
   "cell_type": "code",
   "execution_count": null,
   "id": "7a80de02",
   "metadata": {},
   "outputs": [],
   "source": [
    "# Q1"
   ]
  },
  {
   "cell_type": "code",
   "execution_count": null,
   "id": "90063dfa",
   "metadata": {},
   "outputs": [],
   "source": [
    "'''\n",
    "If electricity power failures occur according to a poisson distribution with an average of three failures every 20 weeks, \n",
    "calculate the probability that there will not be more than one failure during a week.\n",
    "'''"
   ]
  },
  {
   "cell_type": "code",
   "execution_count": 3,
   "id": "235f15f6",
   "metadata": {},
   "outputs": [
    {
     "data": {
      "text/plain": [
       "0.9898141728888165"
      ]
     },
     "execution_count": 3,
     "metadata": {},
     "output_type": "execute_result"
    }
   ],
   "source": [
    "poisson.cdf(mu=3/20,k=1)"
   ]
  },
  {
   "cell_type": "code",
   "execution_count": null,
   "id": "0f301d2f",
   "metadata": {},
   "outputs": [],
   "source": []
  },
  {
   "cell_type": "code",
   "execution_count": null,
   "id": "4d367217",
   "metadata": {},
   "outputs": [],
   "source": [
    "# Q2"
   ]
  },
  {
   "cell_type": "code",
   "execution_count": null,
   "id": "4b7fa341",
   "metadata": {},
   "outputs": [],
   "source": [
    "'''\n",
    "An observer counts 240 vehicles per hour (3600 seconds) at a specific vehicle arrival location on a highway.\n",
    "\n",
    "Assume that the arrivals follow the poisson distribution, \n",
    "   What is the probability of one vehicle arriving over a 30-second time interval?\n",
    "'''"
   ]
  },
  {
   "cell_type": "code",
   "execution_count": 4,
   "id": "679e41aa",
   "metadata": {},
   "outputs": [
    {
     "data": {
      "text/plain": [
       "2.0"
      ]
     },
     "execution_count": 4,
     "metadata": {},
     "output_type": "execute_result"
    }
   ],
   "source": [
    "(240/3600)*30"
   ]
  },
  {
   "cell_type": "code",
   "execution_count": 5,
   "id": "6136e024",
   "metadata": {},
   "outputs": [
    {
     "data": {
      "text/plain": [
       "0.2706705664732254"
      ]
     },
     "execution_count": 5,
     "metadata": {},
     "output_type": "execute_result"
    }
   ],
   "source": [
    "poisson.pmf(mu=2.0,k=1)"
   ]
  },
  {
   "cell_type": "code",
   "execution_count": null,
   "id": "1af8e83d",
   "metadata": {},
   "outputs": [],
   "source": []
  },
  {
   "cell_type": "code",
   "execution_count": 6,
   "id": "d6b8f75b",
   "metadata": {},
   "outputs": [],
   "source": [
    "# Q3"
   ]
  },
  {
   "cell_type": "code",
   "execution_count": null,
   "id": "c845635a",
   "metadata": {},
   "outputs": [],
   "source": [
    "'''\n",
    "Suppose that trees are distributed in a forest according to a Poisson process with a rate of λ per acre. \n",
    "The expected number of trees per acre is equal to 74.\n",
    "\n",
    "What is the probability that in a certain quarter-acre plot, there will be at most 15 trees?\n",
    "What is the probability that in a certain quarter-acre plot, there will be at least 7 trees?\n",
    "'''"
   ]
  },
  {
   "cell_type": "code",
   "execution_count": 9,
   "id": "fe80a154",
   "metadata": {},
   "outputs": [
    {
     "data": {
      "text/plain": [
       "0.24902769151284776"
      ]
     },
     "execution_count": 9,
     "metadata": {},
     "output_type": "execute_result"
    }
   ],
   "source": [
    "poisson.cdf(mu=74/4,k=15)"
   ]
  },
  {
   "cell_type": "code",
   "execution_count": 7,
   "id": "7e5599f1",
   "metadata": {},
   "outputs": [
    {
     "data": {
      "text/plain": [
       "0.25"
      ]
     },
     "execution_count": 7,
     "metadata": {},
     "output_type": "execute_result"
    }
   ],
   "source": [
    "1/4"
   ]
  },
  {
   "cell_type": "code",
   "execution_count": 10,
   "id": "c2d89edf",
   "metadata": {},
   "outputs": [
    {
     "data": {
      "text/plain": [
       "0.9992622541111789"
      ]
     },
     "execution_count": 10,
     "metadata": {},
     "output_type": "execute_result"
    }
   ],
   "source": [
    "1 - poisson.cdf(mu=74/4,k=6)"
   ]
  },
  {
   "cell_type": "code",
   "execution_count": null,
   "id": "687baa78",
   "metadata": {},
   "outputs": [],
   "source": []
  },
  {
   "cell_type": "code",
   "execution_count": null,
   "id": "066074d1",
   "metadata": {},
   "outputs": [],
   "source": [
    "# Q4"
   ]
  },
  {
   "cell_type": "code",
   "execution_count": null,
   "id": "e5521e83",
   "metadata": {},
   "outputs": [],
   "source": [
    "'''You go to a party of 500 guests. What is the probability that exactly one other guest has the same birthday as you?\n",
    "\n",
    "Note: Exclude birthdays on February 29.'''"
   ]
  },
  {
   "cell_type": "code",
   "execution_count": 14,
   "id": "b5b3e72f",
   "metadata": {},
   "outputs": [],
   "source": [
    "n=500\n",
    "p=1/365\n",
    "k=1"
   ]
  },
  {
   "cell_type": "code",
   "execution_count": 12,
   "id": "3ae99cb4",
   "metadata": {},
   "outputs": [],
   "source": [
    "from scipy.stats import binom"
   ]
  },
  {
   "cell_type": "code",
   "execution_count": 15,
   "id": "376c749f",
   "metadata": {},
   "outputs": [
    {
     "data": {
      "text/plain": [
       "0.34844017001836897"
      ]
     },
     "execution_count": 15,
     "metadata": {},
     "output_type": "execute_result"
    }
   ],
   "source": [
    "binom.pmf(n=n,p=p,k=k)"
   ]
  },
  {
   "cell_type": "code",
   "execution_count": null,
   "id": "1eb12c95",
   "metadata": {},
   "outputs": [],
   "source": []
  },
  {
   "cell_type": "code",
   "execution_count": null,
   "id": "36f5b086",
   "metadata": {},
   "outputs": [],
   "source": []
  },
  {
   "cell_type": "code",
   "execution_count": 16,
   "id": "b225a40b",
   "metadata": {},
   "outputs": [],
   "source": [
    "# Q5"
   ]
  },
  {
   "cell_type": "code",
   "execution_count": null,
   "id": "76692c6d",
   "metadata": {},
   "outputs": [],
   "source": [
    "'''\n",
    "0.02% of credit card holders of a company report theft of their credit cards each month. \n",
    "The company has a total of 15,000 credit cards.\n",
    "\n",
    "a. What is the probability that no one reports theft of credit cards during the next month?\n",
    "\n",
    "b. Determine the expected number of reported stolen credit cards in a month.\n",
    "'''"
   ]
  },
  {
   "cell_type": "code",
   "execution_count": 20,
   "id": "7935b61b",
   "metadata": {},
   "outputs": [
    {
     "data": {
      "text/plain": [
       "0.0002"
      ]
     },
     "execution_count": 20,
     "metadata": {},
     "output_type": "execute_result"
    }
   ],
   "source": [
    "0.02/100"
   ]
  },
  {
   "cell_type": "code",
   "execution_count": 22,
   "id": "e249c0d3",
   "metadata": {
    "scrolled": true
   },
   "outputs": [
    {
     "data": {
      "text/plain": [
       "3.0"
      ]
     },
     "execution_count": 22,
     "metadata": {},
     "output_type": "execute_result"
    }
   ],
   "source": [
    "0.0002*15000"
   ]
  },
  {
   "cell_type": "code",
   "execution_count": 23,
   "id": "da133da1",
   "metadata": {},
   "outputs": [
    {
     "data": {
      "text/plain": [
       "0.049787068367863944"
      ]
     },
     "execution_count": 23,
     "metadata": {},
     "output_type": "execute_result"
    }
   ],
   "source": [
    "poisson.pmf(mu=3,k=0)"
   ]
  },
  {
   "cell_type": "code",
   "execution_count": null,
   "id": "ddd4113f",
   "metadata": {},
   "outputs": [],
   "source": []
  },
  {
   "cell_type": "code",
   "execution_count": null,
   "id": "ff0891b6",
   "metadata": {},
   "outputs": [],
   "source": []
  },
  {
   "cell_type": "code",
   "execution_count": 28,
   "id": "693aabfc",
   "metadata": {},
   "outputs": [
    {
     "data": {
      "text/plain": [
       "0.6577219206449387"
      ]
     },
     "execution_count": 28,
     "metadata": {},
     "output_type": "execute_result"
    }
   ],
   "source": [
    "1-poisson.pmf(mu=10/15,k=1) "
   ]
  },
  {
   "cell_type": "code",
   "execution_count": null,
   "id": "dc91e661",
   "metadata": {},
   "outputs": [],
   "source": []
  }
 ],
 "metadata": {
  "kernelspec": {
   "display_name": "Python 3 (ipykernel)",
   "language": "python",
   "name": "python3"
  },
  "language_info": {
   "codemirror_mode": {
    "name": "ipython",
    "version": 3
   },
   "file_extension": ".py",
   "mimetype": "text/x-python",
   "name": "python",
   "nbconvert_exporter": "python",
   "pygments_lexer": "ipython3",
   "version": "3.9.12"
  }
 },
 "nbformat": 4,
 "nbformat_minor": 5
}

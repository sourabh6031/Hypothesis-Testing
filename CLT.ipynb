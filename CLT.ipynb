{
 "cells": [
  {
   "cell_type": "code",
   "execution_count": 1,
   "id": "93742cd3",
   "metadata": {},
   "outputs": [],
   "source": [
    "import pandas as pd\n",
    "import numpy as np\n",
    "import seaborn as sns\n",
    "import matplotlib.pyplot as plt"
   ]
  },
  {
   "cell_type": "code",
   "execution_count": 3,
   "id": "6f0a36d5",
   "metadata": {},
   "outputs": [],
   "source": [
    "data = pd.read_csv('weight-height.csv')"
   ]
  },
  {
   "cell_type": "code",
   "execution_count": 4,
   "id": "dadb6117",
   "metadata": {},
   "outputs": [
    {
     "data": {
      "text/html": [
       "<div>\n",
       "<style scoped>\n",
       "    .dataframe tbody tr th:only-of-type {\n",
       "        vertical-align: middle;\n",
       "    }\n",
       "\n",
       "    .dataframe tbody tr th {\n",
       "        vertical-align: top;\n",
       "    }\n",
       "\n",
       "    .dataframe thead th {\n",
       "        text-align: right;\n",
       "    }\n",
       "</style>\n",
       "<table border=\"1\" class=\"dataframe\">\n",
       "  <thead>\n",
       "    <tr style=\"text-align: right;\">\n",
       "      <th></th>\n",
       "      <th>Gender</th>\n",
       "      <th>Height</th>\n",
       "      <th>Weight</th>\n",
       "    </tr>\n",
       "  </thead>\n",
       "  <tbody>\n",
       "    <tr>\n",
       "      <th>0</th>\n",
       "      <td>Male</td>\n",
       "      <td>73.847017</td>\n",
       "      <td>241.893563</td>\n",
       "    </tr>\n",
       "    <tr>\n",
       "      <th>1</th>\n",
       "      <td>Male</td>\n",
       "      <td>68.781904</td>\n",
       "      <td>162.310473</td>\n",
       "    </tr>\n",
       "    <tr>\n",
       "      <th>2</th>\n",
       "      <td>Male</td>\n",
       "      <td>74.110105</td>\n",
       "      <td>212.740856</td>\n",
       "    </tr>\n",
       "    <tr>\n",
       "      <th>3</th>\n",
       "      <td>Male</td>\n",
       "      <td>71.730978</td>\n",
       "      <td>220.042470</td>\n",
       "    </tr>\n",
       "    <tr>\n",
       "      <th>4</th>\n",
       "      <td>Male</td>\n",
       "      <td>69.881796</td>\n",
       "      <td>206.349801</td>\n",
       "    </tr>\n",
       "    <tr>\n",
       "      <th>...</th>\n",
       "      <td>...</td>\n",
       "      <td>...</td>\n",
       "      <td>...</td>\n",
       "    </tr>\n",
       "    <tr>\n",
       "      <th>9995</th>\n",
       "      <td>Female</td>\n",
       "      <td>66.172652</td>\n",
       "      <td>136.777454</td>\n",
       "    </tr>\n",
       "    <tr>\n",
       "      <th>9996</th>\n",
       "      <td>Female</td>\n",
       "      <td>67.067155</td>\n",
       "      <td>170.867906</td>\n",
       "    </tr>\n",
       "    <tr>\n",
       "      <th>9997</th>\n",
       "      <td>Female</td>\n",
       "      <td>63.867992</td>\n",
       "      <td>128.475319</td>\n",
       "    </tr>\n",
       "    <tr>\n",
       "      <th>9998</th>\n",
       "      <td>Female</td>\n",
       "      <td>69.034243</td>\n",
       "      <td>163.852461</td>\n",
       "    </tr>\n",
       "    <tr>\n",
       "      <th>9999</th>\n",
       "      <td>Female</td>\n",
       "      <td>61.944246</td>\n",
       "      <td>113.649103</td>\n",
       "    </tr>\n",
       "  </tbody>\n",
       "</table>\n",
       "<p>10000 rows × 3 columns</p>\n",
       "</div>"
      ],
      "text/plain": [
       "      Gender     Height      Weight\n",
       "0       Male  73.847017  241.893563\n",
       "1       Male  68.781904  162.310473\n",
       "2       Male  74.110105  212.740856\n",
       "3       Male  71.730978  220.042470\n",
       "4       Male  69.881796  206.349801\n",
       "...      ...        ...         ...\n",
       "9995  Female  66.172652  136.777454\n",
       "9996  Female  67.067155  170.867906\n",
       "9997  Female  63.867992  128.475319\n",
       "9998  Female  69.034243  163.852461\n",
       "9999  Female  61.944246  113.649103\n",
       "\n",
       "[10000 rows x 3 columns]"
      ]
     },
     "execution_count": 4,
     "metadata": {},
     "output_type": "execute_result"
    }
   ],
   "source": [
    "data"
   ]
  },
  {
   "cell_type": "code",
   "execution_count": null,
   "id": "eeddad6b",
   "metadata": {},
   "outputs": [],
   "source": []
  },
  {
   "cell_type": "code",
   "execution_count": 5,
   "id": "04d0166d",
   "metadata": {},
   "outputs": [],
   "source": [
    "from scipy.stats import norm"
   ]
  },
  {
   "cell_type": "code",
   "execution_count": null,
   "id": "847f7041",
   "metadata": {},
   "outputs": [],
   "source": []
  },
  {
   "cell_type": "code",
   "execution_count": null,
   "id": "8176c0ed",
   "metadata": {},
   "outputs": [],
   "source": [
    "# Q"
   ]
  },
  {
   "cell_type": "code",
   "execution_count": 8,
   "id": "041f7d28",
   "metadata": {},
   "outputs": [
    {
     "data": {
      "text/plain": [
       "0.9331927987311419"
      ]
     },
     "execution_count": 8,
     "metadata": {},
     "output_type": "execute_result"
    }
   ],
   "source": [
    "norm.cdf(1.5)"
   ]
  },
  {
   "cell_type": "code",
   "execution_count": 9,
   "id": "3250a4bd",
   "metadata": {},
   "outputs": [
    {
     "data": {
      "text/plain": [
       "0.06680720126885809"
      ]
     },
     "execution_count": 9,
     "metadata": {},
     "output_type": "execute_result"
    }
   ],
   "source": [
    "1 - norm.cdf(1.5)"
   ]
  },
  {
   "cell_type": "code",
   "execution_count": null,
   "id": "19b5dc54",
   "metadata": {},
   "outputs": [],
   "source": []
  },
  {
   "cell_type": "code",
   "execution_count": null,
   "id": "55f86cae",
   "metadata": {},
   "outputs": [],
   "source": []
  },
  {
   "cell_type": "code",
   "execution_count": null,
   "id": "1b4cd993",
   "metadata": {},
   "outputs": [],
   "source": []
  },
  {
   "cell_type": "code",
   "execution_count": null,
   "id": "d0aff0f1",
   "metadata": {},
   "outputs": [],
   "source": []
  },
  {
   "cell_type": "code",
   "execution_count": 11,
   "id": "f05c7616",
   "metadata": {},
   "outputs": [
    {
     "data": {
      "text/plain": [
       "0       73.847017\n",
       "1       68.781904\n",
       "2       74.110105\n",
       "3       71.730978\n",
       "4       69.881796\n",
       "          ...    \n",
       "9995    66.172652\n",
       "9996    67.067155\n",
       "9997    63.867992\n",
       "9998    69.034243\n",
       "9999    61.944246\n",
       "Name: Height, Length: 10000, dtype: float64"
      ]
     },
     "execution_count": 11,
     "metadata": {},
     "output_type": "execute_result"
    }
   ],
   "source": [
    "height = data['Height']\n",
    "height"
   ]
  },
  {
   "cell_type": "code",
   "execution_count": 17,
   "id": "85385374",
   "metadata": {},
   "outputs": [
    {
     "data": {
      "text/plain": [
       "66.37"
      ]
     },
     "execution_count": 17,
     "metadata": {},
     "output_type": "execute_result"
    }
   ],
   "source": [
    "mu = round(np.mean(height),2)\n",
    "mu"
   ]
  },
  {
   "cell_type": "code",
   "execution_count": 18,
   "id": "2b655b19",
   "metadata": {},
   "outputs": [
    {
     "data": {
      "text/plain": [
       "3.85"
      ]
     },
     "execution_count": 18,
     "metadata": {},
     "output_type": "execute_result"
    }
   ],
   "source": [
    "std = round(np.std(height),2)\n",
    "std"
   ]
  },
  {
   "cell_type": "code",
   "execution_count": null,
   "id": "52f8515e",
   "metadata": {},
   "outputs": [],
   "source": []
  },
  {
   "cell_type": "code",
   "execution_count": 20,
   "id": "34380967",
   "metadata": {},
   "outputs": [
    {
     "data": {
      "image/png": "[encoded data removed]",
      "text/plain": [
       "<Figure size 432x288 with 1 Axes>"
      ]
     },
     "metadata": {
      "needs_background": "light"
     },
     "output_type": "display_data"
    }
   ],
   "source": [
    "sns.histplot(height,kde=True)\n",
    "plt.title(f'Mean = {mu},  Standart Deviation = {std}')\n",
    "plt.show()"
   ]
  },
  {
   "cell_type": "code",
   "execution_count": 21,
   "id": "b5f0bc21",
   "metadata": {},
   "outputs": [],
   "source": [
    "n=5"
   ]
  },
  {
   "cell_type": "code",
   "execution_count": 27,
   "id": "96770286",
   "metadata": {},
   "outputs": [
    {
     "data": {
      "text/plain": [
       "1608    68.482708\n",
       "7167    63.834491\n",
       "1865    68.819430\n",
       "1696    75.682808\n",
       "9414    62.396207\n",
       "Name: Height, dtype: float64"
      ]
     },
     "execution_count": 27,
     "metadata": {},
     "output_type": "execute_result"
    }
   ],
   "source": [
    "height.sample(n)"
   ]
  },
  {
   "cell_type": "code",
   "execution_count": 31,
   "id": "ff61fedc",
   "metadata": {},
   "outputs": [
    {
     "data": {
      "text/plain": [
       "63.24"
      ]
     },
     "execution_count": 31,
     "metadata": {},
     "output_type": "execute_result"
    }
   ],
   "source": [
    "round(np.mean(height.sample(5)),2)"
   ]
  },
  {
   "cell_type": "code",
   "execution_count": 35,
   "id": "6f6c9092",
   "metadata": {
    "scrolled": true
   },
   "outputs": [
    {
     "data": {
      "text/plain": [
       "[69.36,\n",
       " 70.01,\n",
       " 64.49,\n",
       " 61.91,\n",
       " 63.71,\n",
       " 63.72,\n",
       " 65.32,\n",
       " 64.89,\n",
       " 65.13,\n",
       " 66.36,\n",
       " 64.36,\n",
       " 65.92,\n",
       " 67.34,\n",
       " 65.03,\n",
       " 68.53,\n",
       " 65.98,\n",
       " 65.86,\n",
       " 65.17,\n",
       " 67.21,\n",
       " 69.8,\n",
       " 66.76,\n",
       " 65.21,\n",
       " 66.92,\n",
       " 64.91,\n",
       " 65.2,\n",
       " 69.02,\n",
       " 65.07,\n",
       " 68.27,\n",
       " 67.51,\n",
       " 68.83,\n",
       " 68.99,\n",
       " 69.19,\n",
       " 67.77,\n",
       " 64.98,\n",
       " 64.25,\n",
       " 65.09,\n",
       " 67.17,\n",
       " 63.81,\n",
       " 67.75,\n",
       " 66.56,\n",
       " 66.79,\n",
       " 66.58,\n",
       " 69.15,\n",
       " 65.68,\n",
       " 68.25,\n",
       " 66.08,\n",
       " 67.67,\n",
       " 65.12,\n",
       " 67.22,\n",
       " 64.99,\n",
       " 63.89,\n",
       " 68.19,\n",
       " 64.82,\n",
       " 68.06,\n",
       " 65.76,\n",
       " 68.51,\n",
       " 67.59,\n",
       " 65.91,\n",
       " 67.24,\n",
       " 66.27,\n",
       " 64.8,\n",
       " 63.25,\n",
       " 66.17,\n",
       " 70.86,\n",
       " 65.1,\n",
       " 67.39,\n",
       " 69.56,\n",
       " 63.76,\n",
       " 65.68,\n",
       " 65.86,\n",
       " 63.16,\n",
       " 69.76,\n",
       " 64.72,\n",
       " 68.07,\n",
       " 70.59,\n",
       " 65.2,\n",
       " 66.63,\n",
       " 64.97,\n",
       " 65.58,\n",
       " 63.78,\n",
       " 65.92,\n",
       " 66.99,\n",
       " 65.91,\n",
       " 63.39,\n",
       " 67.33,\n",
       " 68.09,\n",
       " 65.65,\n",
       " 64.43,\n",
       " 66.24,\n",
       " 64.65,\n",
       " 64.1,\n",
       " 67.21,\n",
       " 67.02,\n",
       " 65.43,\n",
       " 68.06,\n",
       " 63.32,\n",
       " 68.45,\n",
       " 64.34,\n",
       " 67.61,\n",
       " 64.53,\n",
       " 64.59,\n",
       " 67.61,\n",
       " 66.02,\n",
       " 71.73,\n",
       " 67.39,\n",
       " 67.87,\n",
       " 67.32,\n",
       " 64.22,\n",
       " 65.64,\n",
       " 65.47,\n",
       " 66.31,\n",
       " 65.83,\n",
       " 65.15,\n",
       " 67.84,\n",
       " 65.85,\n",
       " 65.41,\n",
       " 66.95,\n",
       " 69.49,\n",
       " 65.7,\n",
       " 66.77,\n",
       " 64.21,\n",
       " 63.38,\n",
       " 66.33,\n",
       " 65.44,\n",
       " 67.52,\n",
       " 63.21,\n",
       " 65.54,\n",
       " 67.13,\n",
       " 65.33,\n",
       " 68.35,\n",
       " 66.65,\n",
       " 67.64,\n",
       " 65.73,\n",
       " 65.31,\n",
       " 65.47,\n",
       " 65.75,\n",
       " 64.34,\n",
       " 63.75,\n",
       " 62.93,\n",
       " 65.45,\n",
       " 66.11,\n",
       " 68.72,\n",
       " 68.43,\n",
       " 64.86,\n",
       " 66.75,\n",
       " 64.49,\n",
       " 63.72,\n",
       " 63.41,\n",
       " 68.75,\n",
       " 66.92,\n",
       " 66.87,\n",
       " 67.23,\n",
       " 66.4,\n",
       " 69.07,\n",
       " 67.95,\n",
       " 65.03,\n",
       " 67.73,\n",
       " 65.33,\n",
       " 61.92,\n",
       " 68.68,\n",
       " 68.0,\n",
       " 67.32,\n",
       " 64.8,\n",
       " 64.28,\n",
       " 66.02,\n",
       " 66.47,\n",
       " 66.53,\n",
       " 66.7,\n",
       " 66.45,\n",
       " 65.29,\n",
       " 65.52,\n",
       " 67.73,\n",
       " 70.47,\n",
       " 66.92,\n",
       " 64.47,\n",
       " 66.64,\n",
       " 67.91,\n",
       " 67.62,\n",
       " 65.55,\n",
       " 66.12,\n",
       " 66.35,\n",
       " 65.88,\n",
       " 66.85,\n",
       " 68.11,\n",
       " 64.95,\n",
       " 64.84,\n",
       " 66.48,\n",
       " 64.46,\n",
       " 64.84,\n",
       " 67.58,\n",
       " 68.49,\n",
       " 64.59,\n",
       " 67.16,\n",
       " 66.12,\n",
       " 66.85,\n",
       " 68.8,\n",
       " 69.48,\n",
       " 67.46,\n",
       " 66.61,\n",
       " 67.43,\n",
       " 64.84,\n",
       " 63.91,\n",
       " 67.23,\n",
       " 66.33,\n",
       " 67.6,\n",
       " 65.79,\n",
       " 68.42,\n",
       " 65.78,\n",
       " 68.52,\n",
       " 68.17,\n",
       " 68.2,\n",
       " 67.2,\n",
       " 63.75,\n",
       " 66.69,\n",
       " 66.91,\n",
       " 66.16,\n",
       " 65.78,\n",
       " 63.88,\n",
       " 67.14,\n",
       " 66.22,\n",
       " 65.72,\n",
       " 68.01,\n",
       " 68.32,\n",
       " 65.37,\n",
       " 65.49,\n",
       " 66.47,\n",
       " 66.44,\n",
       " 67.59,\n",
       " 67.8,\n",
       " 66.34,\n",
       " 67.42,\n",
       " 64.16,\n",
       " 62.98,\n",
       " 65.66,\n",
       " 66.17,\n",
       " 67.8,\n",
       " 68.89,\n",
       " 69.47,\n",
       " 69.51,\n",
       " 66.26,\n",
       " 66.27,\n",
       " 65.44,\n",
       " 63.05,\n",
       " 66.42,\n",
       " 68.61,\n",
       " 69.84,\n",
       " 66.06,\n",
       " 63.08,\n",
       " 63.03,\n",
       " 67.36,\n",
       " 65.77,\n",
       " 65.13,\n",
       " 65.64,\n",
       " 64.6,\n",
       " 66.69,\n",
       " 64.79,\n",
       " 63.03,\n",
       " 69.04,\n",
       " 66.04,\n",
       " 67.75,\n",
       " 68.05,\n",
       " 65.17,\n",
       " 64.49,\n",
       " 67.52,\n",
       " 69.21,\n",
       " 64.81,\n",
       " 66.36,\n",
       " 66.37,\n",
       " 67.01,\n",
       " 65.84,\n",
       " 68.25,\n",
       " 66.59,\n",
       " 64.91,\n",
       " 65.1,\n",
       " 64.75,\n",
       " 67.29,\n",
       " 66.54,\n",
       " 69.12,\n",
       " 63.86,\n",
       " 64.3,\n",
       " 65.36,\n",
       " 66.28,\n",
       " 64.18,\n",
       " 66.55,\n",
       " 67.6,\n",
       " 67.51,\n",
       " 66.87,\n",
       " 69.93,\n",
       " 66.12,\n",
       " 65.38,\n",
       " 67.18,\n",
       " 69.2,\n",
       " 68.33,\n",
       " 65.03,\n",
       " 64.19,\n",
       " 69.01,\n",
       " 68.08,\n",
       " 69.34,\n",
       " 63.39,\n",
       " 64.07,\n",
       " 67.43,\n",
       " 67.6,\n",
       " 65.18,\n",
       " 66.8,\n",
       " 67.01,\n",
       " 69.97,\n",
       " 64.87,\n",
       " 68.73,\n",
       " 67.42,\n",
       " 66.94,\n",
       " 66.38,\n",
       " 65.06,\n",
       " 65.88,\n",
       " 68.92,\n",
       " 69.6,\n",
       " 67.14,\n",
       " 69.52,\n",
       " 67.38,\n",
       " 64.68,\n",
       " 64.95,\n",
       " 64.07,\n",
       " 66.06,\n",
       " 66.99,\n",
       " 66.86,\n",
       " 66.09,\n",
       " 64.38,\n",
       " 64.84,\n",
       " 63.95,\n",
       " 67.7,\n",
       " 66.53,\n",
       " 69.53,\n",
       " 64.35,\n",
       " 69.34,\n",
       " 68.76,\n",
       " 66.57,\n",
       " 66.46,\n",
       " 64.66,\n",
       " 65.87,\n",
       " 65.86,\n",
       " 65.69,\n",
       " 64.64,\n",
       " 69.37,\n",
       " 68.36,\n",
       " 66.31,\n",
       " 66.65,\n",
       " 64.44,\n",
       " 68.62,\n",
       " 67.32,\n",
       " 68.9,\n",
       " 68.23,\n",
       " 66.23,\n",
       " 68.22,\n",
       " 66.79,\n",
       " 65.73,\n",
       " 64.82,\n",
       " 66.76,\n",
       " 68.57,\n",
       " 65.36,\n",
       " 66.5,\n",
       " 68.68,\n",
       " 66.33,\n",
       " 67.47,\n",
       " 67.0,\n",
       " 64.51,\n",
       " 66.58,\n",
       " 63.69,\n",
       " 65.45,\n",
       " 65.4,\n",
       " 65.4,\n",
       " 68.54,\n",
       " 64.9,\n",
       " 65.07,\n",
       " 66.8,\n",
       " 63.23,\n",
       " 67.31,\n",
       " 63.8,\n",
       " 68.99,\n",
       " 66.4,\n",
       " 64.18,\n",
       " 67.96,\n",
       " 66.29,\n",
       " 68.26,\n",
       " 67.18,\n",
       " 67.18,\n",
       " 66.81,\n",
       " 65.63,\n",
       " 65.42,\n",
       " 63.63,\n",
       " 66.51,\n",
       " 66.85,\n",
       " 66.51,\n",
       " 67.34,\n",
       " 66.62,\n",
       " 68.26,\n",
       " 65.56,\n",
       " 67.26,\n",
       " 65.97,\n",
       " 64.5,\n",
       " 68.1,\n",
       " 65.58,\n",
       " 66.67,\n",
       " 65.33,\n",
       " 67.4,\n",
       " 62.7,\n",
       " 64.06,\n",
       " 65.31,\n",
       " 66.23,\n",
       " 68.16,\n",
       " 67.26,\n",
       " 64.12,\n",
       " 66.32,\n",
       " 65.51,\n",
       " 62.82,\n",
       " 70.12,\n",
       " 66.07,\n",
       " 66.6,\n",
       " 63.74,\n",
       " 65.16,\n",
       " 63.54,\n",
       " 64.35,\n",
       " 63.65,\n",
       " 68.01,\n",
       " 65.35,\n",
       " 71.0,\n",
       " 69.33,\n",
       " 70.83,\n",
       " 65.01,\n",
       " 61.69,\n",
       " 65.19,\n",
       " 63.88,\n",
       " 66.59,\n",
       " 65.58,\n",
       " 68.18,\n",
       " 66.07,\n",
       " 65.36,\n",
       " 68.6,\n",
       " 65.33,\n",
       " 65.81,\n",
       " 64.08,\n",
       " 66.13,\n",
       " 65.44,\n",
       " 66.89,\n",
       " 66.6,\n",
       " 70.27,\n",
       " 65.48,\n",
       " 68.26,\n",
       " 67.51,\n",
       " 67.67,\n",
       " 66.68,\n",
       " 62.33,\n",
       " 67.27,\n",
       " 69.72,\n",
       " 65.49,\n",
       " 64.99,\n",
       " 68.86,\n",
       " 68.31,\n",
       " 64.43,\n",
       " 67.79,\n",
       " 68.56,\n",
       " 66.25,\n",
       " 65.06,\n",
       " 65.97,\n",
       " 68.85,\n",
       " 68.31,\n",
       " 69.0,\n",
       " 70.67,\n",
       " 66.7,\n",
       " 64.62,\n",
       " 65.21,\n",
       " 65.38,\n",
       " 69.31,\n",
       " 63.43,\n",
       " 63.61,\n",
       " 68.06,\n",
       " 66.26,\n",
       " 65.87,\n",
       " 66.79,\n",
       " 64.02,\n",
       " 67.58,\n",
       " 64.99,\n",
       " 70.12,\n",
       " 66.46,\n",
       " 66.54,\n",
       " 64.51,\n",
       " 66.39,\n",
       " 64.77,\n",
       " 66.41,\n",
       " 64.9,\n",
       " 64.36,\n",
       " 66.15,\n",
       " 65.88,\n",
       " 67.88,\n",
       " 65.09,\n",
       " 67.67,\n",
       " 67.01,\n",
       " 64.18,\n",
       " 66.89,\n",
       " 66.95,\n",
       " 64.62,\n",
       " 68.75,\n",
       " 67.81,\n",
       " 68.02,\n",
       " 67.26,\n",
       " 67.2,\n",
       " 63.29,\n",
       " 65.78,\n",
       " 67.16,\n",
       " 67.98,\n",
       " 66.26,\n",
       " 68.56,\n",
       " 66.63,\n",
       " 65.87,\n",
       " 66.9,\n",
       " 67.73,\n",
       " 65.25,\n",
       " 64.9,\n",
       " 65.59,\n",
       " 70.64,\n",
       " 63.8,\n",
       " 67.19,\n",
       " 65.9,\n",
       " 63.11,\n",
       " 67.0,\n",
       " 66.27,\n",
       " 66.87,\n",
       " 63.98,\n",
       " 67.54,\n",
       " 65.8,\n",
       " 67.53,\n",
       " 69.64,\n",
       " 64.85,\n",
       " 64.13,\n",
       " 64.39,\n",
       " 67.13,\n",
       " 65.02,\n",
       " 66.54,\n",
       " 65.03,\n",
       " 66.8,\n",
       " 70.27,\n",
       " 66.89,\n",
       " 66.41,\n",
       " 66.37,\n",
       " 68.45,\n",
       " 69.79,\n",
       " 69.14,\n",
       " 65.49,\n",
       " 66.68,\n",
       " 66.76,\n",
       " 63.96,\n",
       " 66.08,\n",
       " 66.27,\n",
       " 64.95,\n",
       " 65.0,\n",
       " 63.95,\n",
       " 67.64,\n",
       " 64.45,\n",
       " 65.65,\n",
       " 65.8,\n",
       " 67.36,\n",
       " 63.92,\n",
       " 67.34,\n",
       " 66.55,\n",
       " 63.56,\n",
       " 67.01,\n",
       " 66.06,\n",
       " 64.73,\n",
       " 66.86,\n",
       " 64.72,\n",
       " 66.04,\n",
       " 68.15,\n",
       " 63.23,\n",
       " 65.55,\n",
       " 68.0,\n",
       " 66.17,\n",
       " 66.59,\n",
       " 67.42,\n",
       " 66.06,\n",
       " 68.28,\n",
       " 67.56,\n",
       " 66.73,\n",
       " 63.67,\n",
       " 66.56,\n",
       " 66.91,\n",
       " 65.98,\n",
       " 67.43,\n",
       " 66.33,\n",
       " 66.93,\n",
       " 67.91,\n",
       " 66.39,\n",
       " 65.86,\n",
       " 66.47,\n",
       " 69.36,\n",
       " 66.31,\n",
       " 66.52,\n",
       " 68.23,\n",
       " 67.72,\n",
       " 66.62,\n",
       " 66.0,\n",
       " 65.24,\n",
       " 65.01,\n",
       " 64.7,\n",
       " 64.79,\n",
       " 64.97,\n",
       " 67.51,\n",
       " 66.89,\n",
       " 67.17,\n",
       " 64.56,\n",
       " 67.48,\n",
       " 71.05,\n",
       " 63.41,\n",
       " 68.32,\n",
       " 66.0,\n",
       " 67.48,\n",
       " 68.08,\n",
       " 63.49,\n",
       " 65.59,\n",
       " 67.71,\n",
       " 63.96,\n",
       " 66.75,\n",
       " 66.39,\n",
       " 68.97,\n",
       " 67.81,\n",
       " 67.43,\n",
       " 67.11,\n",
       " 68.13,\n",
       " 65.9,\n",
       " 68.4,\n",
       " 65.23,\n",
       " 69.48,\n",
       " 66.68,\n",
       " 65.95,\n",
       " 66.89,\n",
       " 65.63,\n",
       " 65.75,\n",
       " 69.3,\n",
       " 66.24,\n",
       " 67.42,\n",
       " 66.73,\n",
       " 66.19,\n",
       " 63.91,\n",
       " 64.74,\n",
       " 66.5,\n",
       " 65.49,\n",
       " 68.46,\n",
       " 65.07,\n",
       " 67.2,\n",
       " 66.8,\n",
       " 68.89,\n",
       " 63.57,\n",
       " 65.18,\n",
       " 65.87,\n",
       " 65.02,\n",
       " 67.58,\n",
       " 64.95,\n",
       " 67.3,\n",
       " 65.52,\n",
       " 66.16,\n",
       " 68.15,\n",
       " 69.45,\n",
       " 65.21,\n",
       " 66.29,\n",
       " 63.88,\n",
       " 67.1,\n",
       " 65.71,\n",
       " 67.07,\n",
       " 66.49,\n",
       " 66.32,\n",
       " 64.72,\n",
       " 68.01,\n",
       " 62.28,\n",
       " 62.63,\n",
       " 68.39,\n",
       " 66.23,\n",
       " 66.65,\n",
       " 69.69,\n",
       " 66.15,\n",
       " 67.79,\n",
       " 69.07,\n",
       " 65.1,\n",
       " 67.31,\n",
       " 69.05,\n",
       " 66.4,\n",
       " 70.15,\n",
       " 70.67,\n",
       " 66.79,\n",
       " 60.89,\n",
       " 65.15,\n",
       " 65.02,\n",
       " 69.27,\n",
       " 64.87,\n",
       " 66.54,\n",
       " 68.4,\n",
       " 66.7,\n",
       " 66.59,\n",
       " 65.36,\n",
       " 67.64,\n",
       " 67.62,\n",
       " 66.43,\n",
       " 64.96,\n",
       " 68.56,\n",
       " 63.15,\n",
       " 68.71,\n",
       " 68.22,\n",
       " 64.18,\n",
       " 64.86,\n",
       " 64.59,\n",
       " 64.28,\n",
       " 63.59,\n",
       " 63.91,\n",
       " 71.18,\n",
       " 69.22,\n",
       " 65.89,\n",
       " 65.17,\n",
       " 67.44,\n",
       " 65.09,\n",
       " 65.76,\n",
       " 64.63,\n",
       " 65.64,\n",
       " 68.69,\n",
       " 67.81,\n",
       " 65.93,\n",
       " 69.74,\n",
       " 68.39,\n",
       " 64.27,\n",
       " 66.06,\n",
       " 68.72,\n",
       " 66.24,\n",
       " 68.68,\n",
       " 70.67,\n",
       " 68.5,\n",
       " 65.01,\n",
       " 63.33,\n",
       " 66.89,\n",
       " 67.78,\n",
       " 69.64,\n",
       " 66.71,\n",
       " 66.36,\n",
       " 67.75,\n",
       " 64.86,\n",
       " 64.07,\n",
       " 67.23,\n",
       " 66.31,\n",
       " 66.61,\n",
       " 65.13,\n",
       " 65.98,\n",
       " 68.69,\n",
       " 68.55,\n",
       " 67.34,\n",
       " 66.78,\n",
       " 66.78,\n",
       " 65.7,\n",
       " 67.04,\n",
       " 67.92,\n",
       " 68.45,\n",
       " 64.39,\n",
       " 66.11,\n",
       " 67.47,\n",
       " 67.61,\n",
       " 67.04,\n",
       " 64.28,\n",
       " 66.73,\n",
       " 67.92,\n",
       " 68.39,\n",
       " 65.06,\n",
       " 69.97,\n",
       " 63.82,\n",
       " 63.63,\n",
       " 64.71,\n",
       " 66.5,\n",
       " 65.14,\n",
       " 66.98,\n",
       " 66.41,\n",
       " 66.22,\n",
       " 66.3,\n",
       " 64.44,\n",
       " 69.51,\n",
       " 64.34,\n",
       " 66.63,\n",
       " 68.06,\n",
       " 65.02,\n",
       " 67.64,\n",
       " 65.67,\n",
       " 69.48,\n",
       " 67.2,\n",
       " 62.81,\n",
       " 66.87,\n",
       " 68.04,\n",
       " 70.06,\n",
       " 64.88,\n",
       " 67.92,\n",
       " 66.92,\n",
       " 69.0,\n",
       " 66.85,\n",
       " 66.0,\n",
       " 68.9,\n",
       " 65.9,\n",
       " 63.94,\n",
       " 67.07,\n",
       " 63.99,\n",
       " 65.98,\n",
       " 68.69,\n",
       " 65.64,\n",
       " 63.15,\n",
       " 63.99,\n",
       " 64.34,\n",
       " 67.0,\n",
       " 68.19,\n",
       " 66.61,\n",
       " 68.55,\n",
       " 69.09,\n",
       " 66.36,\n",
       " 65.24,\n",
       " 68.54,\n",
       " 66.35,\n",
       " 68.07,\n",
       " 66.39,\n",
       " 65.44,\n",
       " 67.6,\n",
       " 65.89,\n",
       " 67.13,\n",
       " 66.39,\n",
       " 65.38,\n",
       " 66.26,\n",
       " 67.8,\n",
       " 67.34,\n",
       " 66.43,\n",
       " 63.56,\n",
       " 65.94,\n",
       " 65.98,\n",
       " 67.21,\n",
       " 68.46,\n",
       " 64.82,\n",
       " 69.3,\n",
       " 66.46,\n",
       " 71.05,\n",
       " 63.12,\n",
       " 67.72,\n",
       " 69.41,\n",
       " 64.31,\n",
       " 65.63,\n",
       " 66.41,\n",
       " 66.49,\n",
       " 62.94,\n",
       " 65.7,\n",
       " 68.53,\n",
       " 65.87,\n",
       " 69.75,\n",
       " 65.2,\n",
       " 69.79,\n",
       " 66.43,\n",
       " 66.93,\n",
       " 67.73,\n",
       " 67.01,\n",
       " 65.64,\n",
       " 69.05,\n",
       " 66.04,\n",
       " 65.25,\n",
       " 67.11,\n",
       " 63.4,\n",
       " 68.72,\n",
       " 67.67,\n",
       " 67.02,\n",
       " 64.89,\n",
       " 67.56,\n",
       " 63.52,\n",
       " 65.77,\n",
       " 68.16,\n",
       " 66.88,\n",
       " 68.21,\n",
       " 72.46,\n",
       " 67.4,\n",
       " 67.52,\n",
       " 66.83,\n",
       " 66.21,\n",
       " 67.49,\n",
       " 65.49,\n",
       " 68.44,\n",
       " 62.44,\n",
       " 65.76,\n",
       " 64.63,\n",
       " 64.16,\n",
       " 68.86,\n",
       " 66.01,\n",
       " 67.35,\n",
       " 65.19,\n",
       " 64.65,\n",
       " 64.59,\n",
       " 67.46,\n",
       " 66.17,\n",
       " 66.88,\n",
       " 68.51,\n",
       " 67.64,\n",
       " 68.9,\n",
       " 64.31,\n",
       " 68.05,\n",
       " 67.06,\n",
       " 66.48,\n",
       " 66.01,\n",
       " 67.57,\n",
       " 69.29,\n",
       " 60.11,\n",
       " 64.93,\n",
       " 67.4,\n",
       " 63.59,\n",
       " 62.91,\n",
       " 63.63,\n",
       " 66.79,\n",
       " 65.14,\n",
       " 65.68,\n",
       " 67.5,\n",
       " 65.03,\n",
       " 63.84,\n",
       " 62.75,\n",
       " 65.4,\n",
       " 67.37,\n",
       " 66.79,\n",
       " 66.59,\n",
       " 67.96,\n",
       " 67.45,\n",
       " 65.1,\n",
       " 66.53,\n",
       " 66.39,\n",
       " 62.27,\n",
       " 67.29,\n",
       " 65.3,\n",
       " 68.19,\n",
       " 64.92,\n",
       " 65.0,\n",
       " 68.8,\n",
       " 67.0,\n",
       " 67.17,\n",
       " 67.72,\n",
       " 65.4,\n",
       " 65.43,\n",
       " 64.92,\n",
       " 64.93,\n",
       " 65.44,\n",
       " 67.21,\n",
       " 63.46,\n",
       " 65.08,\n",
       " 64.06,\n",
       " 65.33,\n",
       " 63.4,\n",
       " 67.33,\n",
       " 65.26,\n",
       " 65.97,\n",
       " 65.13,\n",
       " 64.44,\n",
       " 67.22,\n",
       " 66.27,\n",
       " 64.43,\n",
       " 67.99,\n",
       " 64.17,\n",
       " 68.09,\n",
       " 66.09,\n",
       " 66.05,\n",
       " 68.59,\n",
       " 66.47,\n",
       " 61.41,\n",
       " 69.1,\n",
       " 65.75,\n",
       " 67.43,\n",
       " 66.05,\n",
       " 65.85,\n",
       " 66.76,\n",
       " 66.81,\n",
       " 67.01,\n",
       " 68.07,\n",
       " 64.55,\n",
       " 68.57,\n",
       " 65.42,\n",
       " 66.86,\n",
       " 68.29,\n",
       " 65.78,\n",
       " 68.67,\n",
       " 66.4,\n",
       " 64.91,\n",
       " 68.28,\n",
       " 68.0,\n",
       " 68.04,\n",
       " 67.51,\n",
       " 63.74,\n",
       " 67.01,\n",
       " 65.7,\n",
       " 67.22,\n",
       " 66.33,\n",
       " 65.64,\n",
       " 64.96,\n",
       " 66.38,\n",
       " 66.52,\n",
       " 66.85,\n",
       " 68.76,\n",
       " 67.9,\n",
       " 65.26,\n",
       " 66.21,\n",
       " 66.62,\n",
       " 66.53,\n",
       " 65.43,\n",
       " 63.28,\n",
       " 68.06,\n",
       " ...]"
      ]
     },
     "execution_count": 35,
     "metadata": {},
     "output_type": "execute_result"
    }
   ],
   "source": [
    "sample_mean=[]\n",
    "for i in range(2000):\n",
    "    sample_mean.append(round(np.mean(height.sample(5)),2))\n",
    "sample_mean"
   ]
  },
  {
   "cell_type": "code",
   "execution_count": 36,
   "id": "2f5ccc65",
   "metadata": {},
   "outputs": [
    {
     "data": {
      "text/plain": [
       "2000"
      ]
     },
     "execution_count": 36,
     "metadata": {},
     "output_type": "execute_result"
    }
   ],
   "source": [
    "len(sample_mean)"
   ]
  },
  {
   "cell_type": "code",
   "execution_count": null,
   "id": "7a277117",
   "metadata": {},
   "outputs": [],
   "source": []
  },
  {
   "cell_type": "code",
   "execution_count": null,
   "id": "325521c2",
   "metadata": {},
   "outputs": [],
   "source": []
  },
  {
   "cell_type": "markdown",
   "id": "c4a722b6",
   "metadata": {},
   "source": [
    "### BOOTSTRAPING"
   ]
  },
  {
   "cell_type": "code",
   "execution_count": null,
   "id": "ab757e1c",
   "metadata": {},
   "outputs": [],
   "source": [
    "# IN THIS PROCESS WE TAKE A SAMPLE FROM A DATA AND STORE THE VALUE OF IT, THIS WE DO AGAIN AND AGAIN FOR X TIMES "
   ]
  },
  {
   "cell_type": "code",
   "execution_count": 38,
   "id": "ba77d8ae",
   "metadata": {},
   "outputs": [],
   "source": [
    "# mean of random 5 value, done 2000 times.\n",
    "\n",
    "sample_mean_5 = [round(np.mean(height.sample(5)),2) for i in range(2000) ]"
   ]
  },
  {
   "cell_type": "code",
   "execution_count": 39,
   "id": "66c50cc6",
   "metadata": {},
   "outputs": [
    {
     "data": {
      "text/plain": [
       "[64.83, 65.54, 68.72, 66.13, 65.27]"
      ]
     },
     "execution_count": 39,
     "metadata": {},
     "output_type": "execute_result"
    }
   ],
   "source": [
    "sample_mean_5[:5]"
   ]
  },
  {
   "cell_type": "code",
   "execution_count": null,
   "id": "7409a749",
   "metadata": {},
   "outputs": [],
   "source": []
  },
  {
   "cell_type": "code",
   "execution_count": 42,
   "id": "4c57644f",
   "metadata": {},
   "outputs": [
    {
     "data": {
      "text/plain": [
       "66.36"
      ]
     },
     "execution_count": 42,
     "metadata": {},
     "output_type": "execute_result"
    }
   ],
   "source": [
    "# mean of mean of random 5 value.\n",
    "# this mean is very close to mean of original height's data.\n",
    "round(np.mean(sample_mean_5),2)"
   ]
  },
  {
   "cell_type": "code",
   "execution_count": 43,
   "id": "368a5fbe",
   "metadata": {},
   "outputs": [
    {
     "data": {
      "text/plain": [
       "1.71"
      ]
     },
     "execution_count": 43,
     "metadata": {},
     "output_type": "execute_result"
    }
   ],
   "source": [
    "# std of mean of random 5 value.\n",
    "# this std is different(less) to std of original height's data.\n",
    "round(np.std(sample_mean_5),2)"
   ]
  },
  {
   "cell_type": "code",
   "execution_count": null,
   "id": "c6ed1935",
   "metadata": {},
   "outputs": [],
   "source": []
  },
  {
   "cell_type": "code",
   "execution_count": 49,
   "id": "fa8d74a4",
   "metadata": {},
   "outputs": [
    {
     "data": {
      "image/png": "[encoded data removed]",
      "text/plain": [
       "<Figure size 432x288 with 1 Axes>"
      ]
     },
     "metadata": {
      "needs_background": "light"
     },
     "output_type": "display_data"
    }
   ],
   "source": [
    "sns.histplot(height,kde=True)\n",
    "plt.title(f'Without Boothstraped - Mean = {mu},  Standart Deviation = {std}')\n",
    "plt.show()"
   ]
  },
  {
   "cell_type": "code",
   "execution_count": 48,
   "id": "8c7f1e31",
   "metadata": {
    "scrolled": true
   },
   "outputs": [
    {
     "data": {
      "image/png": "[encoded data removed]",
      "text/plain": [
       "<Figure size 432x288 with 1 Axes>"
      ]
     },
     "metadata": {
      "needs_background": "light"
     },
     "output_type": "display_data"
    }
   ],
   "source": [
    "sns.histplot(sample_mean_5, kde=True)\n",
    "plt.title(f'With bootstraped - Mean = {round(np.mean(sample_mean_5),2)}  ,Standart Deviation = {round(np.std(sample_mean_5),2)}')\n",
    "plt.show()"
   ]
  },
  {
   "cell_type": "code",
   "execution_count": null,
   "id": "9ddfa321",
   "metadata": {},
   "outputs": [],
   "source": []
  },
  {
   "cell_type": "code",
   "execution_count": null,
   "id": "b59734f3",
   "metadata": {},
   "outputs": [],
   "source": []
  },
  {
   "cell_type": "markdown",
   "id": "80d5bbdb",
   "metadata": {},
   "source": [
    "### ASSIGNMENT"
   ]
  },
  {
   "cell_type": "code",
   "execution_count": null,
   "id": "1545959d",
   "metadata": {},
   "outputs": [],
   "source": [
    "# Q1"
   ]
  },
  {
   "cell_type": "code",
   "execution_count": 67,
   "id": "b649c55e",
   "metadata": {},
   "outputs": [],
   "source": [
    "cdf_58 = (norm.cdf(-1.97))"
   ]
  },
  {
   "cell_type": "code",
   "execution_count": 68,
   "id": "a84e39fd",
   "metadata": {},
   "outputs": [
    {
     "data": {
      "text/plain": [
       "0.024419185280222543"
      ]
     },
     "execution_count": 68,
     "metadata": {},
     "output_type": "execute_result"
    }
   ],
   "source": [
    "cdf_58"
   ]
  },
  {
   "cell_type": "code",
   "execution_count": null,
   "id": "8531559c",
   "metadata": {},
   "outputs": [],
   "source": []
  },
  {
   "cell_type": "code",
   "execution_count": 71,
   "id": "47287b28",
   "metadata": {},
   "outputs": [],
   "source": [
    "cdf_92 = norm.cdf(0.79)"
   ]
  },
  {
   "cell_type": "code",
   "execution_count": 72,
   "id": "82ab3c00",
   "metadata": {},
   "outputs": [
    {
     "data": {
      "text/plain": [
       "0.7852361158363629"
      ]
     },
     "execution_count": 72,
     "metadata": {},
     "output_type": "execute_result"
    }
   ],
   "source": [
    "cdf_92"
   ]
  },
  {
   "cell_type": "code",
   "execution_count": 73,
   "id": "b8ad0508",
   "metadata": {},
   "outputs": [
    {
     "data": {
      "text/plain": [
       "0.7608169305561403"
      ]
     },
     "execution_count": 73,
     "metadata": {},
     "output_type": "execute_result"
    }
   ],
   "source": [
    "cdf_92 - cdf_58"
   ]
  },
  {
   "cell_type": "code",
   "execution_count": null,
   "id": "64924b25",
   "metadata": {},
   "outputs": [],
   "source": []
  },
  {
   "cell_type": "code",
   "execution_count": null,
   "id": "e8ce69ef",
   "metadata": {},
   "outputs": [],
   "source": [
    "# Q3"
   ]
  },
  {
   "cell_type": "code",
   "execution_count": 88,
   "id": "734abc4f",
   "metadata": {},
   "outputs": [],
   "source": [
    "import math"
   ]
  },
  {
   "cell_type": "code",
   "execution_count": 86,
   "id": "f57a9bf1",
   "metadata": {},
   "outputs": [],
   "source": [
    "n=5\n",
    "mean=5\n",
    "std=0.5\n",
    "x=5.5"
   ]
  },
  {
   "cell_type": "code",
   "execution_count": 89,
   "id": "5f8f6851",
   "metadata": {},
   "outputs": [],
   "source": [
    "se=std/(math.sqrt(n))"
   ]
  },
  {
   "cell_type": "code",
   "execution_count": 90,
   "id": "cc52b72c",
   "metadata": {},
   "outputs": [
    {
     "data": {
      "text/plain": [
       "0.22360679774997896"
      ]
     },
     "execution_count": 90,
     "metadata": {},
     "output_type": "execute_result"
    }
   ],
   "source": [
    "se"
   ]
  },
  {
   "cell_type": "code",
   "execution_count": 91,
   "id": "9deec5bd",
   "metadata": {},
   "outputs": [
    {
     "data": {
      "text/plain": [
       "2.23606797749979"
      ]
     },
     "execution_count": 91,
     "metadata": {},
     "output_type": "execute_result"
    }
   ],
   "source": [
    "z=(x-mean)/se \n",
    "z"
   ]
  },
  {
   "cell_type": "code",
   "execution_count": 92,
   "id": "3c76010d",
   "metadata": {},
   "outputs": [
    {
     "data": {
      "text/plain": [
       "0.9873263406612659"
      ]
     },
     "execution_count": 92,
     "metadata": {},
     "output_type": "execute_result"
    }
   ],
   "source": [
    "norm.cdf(z)"
   ]
  },
  {
   "cell_type": "code",
   "execution_count": null,
   "id": "eb4db037",
   "metadata": {},
   "outputs": [],
   "source": []
  },
  {
   "cell_type": "code",
   "execution_count": null,
   "id": "77fafed0",
   "metadata": {},
   "outputs": [],
   "source": []
  },
  {
   "cell_type": "code",
   "execution_count": null,
   "id": "57c512bc",
   "metadata": {},
   "outputs": [],
   "source": [
    "# Q4"
   ]
  },
  {
   "cell_type": "code",
   "execution_count": 93,
   "id": "84120fbf",
   "metadata": {},
   "outputs": [
    {
     "data": {
      "text/plain": [
       "42.03807797699604"
      ]
     },
     "execution_count": 93,
     "metadata": {},
     "output_type": "execute_result"
    }
   ],
   "source": [
    "sd = 188/(math.sqrt(20))\n",
    "sd"
   ]
  },
  {
   "cell_type": "code",
   "execution_count": 95,
   "id": "157b9916",
   "metadata": {},
   "outputs": [
    {
     "data": {
      "text/plain": [
       "-1.2512465491115852"
      ]
     },
     "execution_count": 95,
     "metadata": {},
     "output_type": "execute_result"
    }
   ],
   "source": [
    "(947.4-1000)/(188/(math.sqrt(20)))"
   ]
  },
  {
   "cell_type": "code",
   "execution_count": 97,
   "id": "c849019f",
   "metadata": {},
   "outputs": [
    {
     "data": {
      "text/plain": [
       "0.10542226996329152"
      ]
     },
     "execution_count": 97,
     "metadata": {},
     "output_type": "execute_result"
    }
   ],
   "source": [
    "norm.cdf(-1.2512465491115852)"
   ]
  },
  {
   "cell_type": "code",
   "execution_count": null,
   "id": "4f2aa749",
   "metadata": {},
   "outputs": [],
   "source": []
  },
  {
   "cell_type": "code",
   "execution_count": null,
   "id": "f1da65f7",
   "metadata": {},
   "outputs": [],
   "source": []
  }
 ],
 "metadata": {
  "kernelspec": {
   "display_name": "Python 3 (ipykernel)",
   "language": "python",
   "name": "python3"
  },
  "language_info": {
   "codemirror_mode": {
    "name": "ipython",
    "version": 3
   },
   "file_extension": ".py",
   "mimetype": "text/x-python",
   "name": "python",
   "nbconvert_exporter": "python",
   "pygments_lexer": "ipython3",
   "version": "3.9.12"
  }
 },
 "nbformat": 4,
 "nbformat_minor": 5
}

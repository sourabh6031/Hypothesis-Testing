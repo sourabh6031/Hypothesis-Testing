{
 "cells": [
  {
   "cell_type": "markdown",
   "id": "644216db",
   "metadata": {},
   "source": [
    "The null hypothesis (H0) of ANOVA is that there is no difference among group means. \n",
    "\n",
    "The alternative hypothesis (Ha) is that at least one group differs significantly from the overall mean of the dependent variable.\n",
    "\n",
    "If you only want to compare two groups, use a t test instead.\n",
    "\n",
    "If any of the group means is significantly different from the overall mean, then the null hypothesis is rejected."
   ]
  },
  {
   "cell_type": "code",
   "execution_count": null,
   "id": "a691989a",
   "metadata": {},
   "outputs": [],
   "source": [
    "# NAME OF TEST - ANOVA\n",
    "# TEST-STAT - F-RATIO\n",
    "# IT FOLLOWS F-DISTRIBUTION"
   ]
  },
  {
   "cell_type": "code",
   "execution_count": 2,
   "id": "f81f9751",
   "metadata": {},
   "outputs": [],
   "source": [
    "import pandas as pd\n",
    "import seaborn as sns\n",
    "import matplotlib.pyplot as plt"
   ]
  },
  {
   "cell_type": "code",
   "execution_count": 1,
   "id": "91cfbb18",
   "metadata": {},
   "outputs": [],
   "source": [
    "from scipy.stats import f_oneway"
   ]
  },
  {
   "cell_type": "code",
   "execution_count": 3,
   "id": "24bd6c69",
   "metadata": {},
   "outputs": [],
   "source": [
    "from scipy.stats import chisquare"
   ]
  },
  {
   "cell_type": "code",
   "execution_count": null,
   "id": "d428b12c",
   "metadata": {},
   "outputs": [],
   "source": [
    "# WHEN F-RATIO IS HIGH, P-VALUE IS LOW / REJECT NULL HYPOTHESIS\n",
    "# WHEN F-RATIO IS LOW , P-VALUE IS HIGH / ACCEPT NULL HYPOTHESIS"
   ]
  },
  {
   "cell_type": "code",
   "execution_count": null,
   "id": "64e5bd86",
   "metadata": {},
   "outputs": [],
   "source": []
  },
  {
   "cell_type": "code",
   "execution_count": 5,
   "id": "d8f22454",
   "metadata": {},
   "outputs": [],
   "source": [
    "data = pd.read_csv('aerofit_treadmill.csv')"
   ]
  },
  {
   "cell_type": "code",
   "execution_count": 4,
   "id": "5e45a885",
   "metadata": {},
   "outputs": [
    {
     "data": {
      "text/html": [
       "<div>\n",
       "<style scoped>\n",
       "    .dataframe tbody tr th:only-of-type {\n",
       "        vertical-align: middle;\n",
       "    }\n",
       "\n",
       "    .dataframe tbody tr th {\n",
       "        vertical-align: top;\n",
       "    }\n",
       "\n",
       "    .dataframe thead th {\n",
       "        text-align: right;\n",
       "    }\n",
       "</style>\n",
       "<table border=\"1\" class=\"dataframe\">\n",
       "  <thead>\n",
       "    <tr style=\"text-align: right;\">\n",
       "      <th></th>\n",
       "      <th>Product</th>\n",
       "      <th>Age</th>\n",
       "      <th>Gender</th>\n",
       "      <th>Education</th>\n",
       "      <th>MaritalStatus</th>\n",
       "      <th>Usage</th>\n",
       "      <th>Fitness</th>\n",
       "      <th>Income</th>\n",
       "      <th>Miles</th>\n",
       "    </tr>\n",
       "  </thead>\n",
       "  <tbody>\n",
       "    <tr>\n",
       "      <th>0</th>\n",
       "      <td>KP281</td>\n",
       "      <td>18</td>\n",
       "      <td>Male</td>\n",
       "      <td>14</td>\n",
       "      <td>Single</td>\n",
       "      <td>3</td>\n",
       "      <td>4</td>\n",
       "      <td>29562</td>\n",
       "      <td>112</td>\n",
       "    </tr>\n",
       "    <tr>\n",
       "      <th>1</th>\n",
       "      <td>KP281</td>\n",
       "      <td>19</td>\n",
       "      <td>Male</td>\n",
       "      <td>15</td>\n",
       "      <td>Single</td>\n",
       "      <td>2</td>\n",
       "      <td>3</td>\n",
       "      <td>31836</td>\n",
       "      <td>75</td>\n",
       "    </tr>\n",
       "    <tr>\n",
       "      <th>2</th>\n",
       "      <td>KP281</td>\n",
       "      <td>19</td>\n",
       "      <td>Female</td>\n",
       "      <td>14</td>\n",
       "      <td>Partnered</td>\n",
       "      <td>4</td>\n",
       "      <td>3</td>\n",
       "      <td>30699</td>\n",
       "      <td>66</td>\n",
       "    </tr>\n",
       "    <tr>\n",
       "      <th>3</th>\n",
       "      <td>KP281</td>\n",
       "      <td>19</td>\n",
       "      <td>Male</td>\n",
       "      <td>12</td>\n",
       "      <td>Single</td>\n",
       "      <td>3</td>\n",
       "      <td>3</td>\n",
       "      <td>32973</td>\n",
       "      <td>85</td>\n",
       "    </tr>\n",
       "    <tr>\n",
       "      <th>4</th>\n",
       "      <td>KP281</td>\n",
       "      <td>20</td>\n",
       "      <td>Male</td>\n",
       "      <td>13</td>\n",
       "      <td>Partnered</td>\n",
       "      <td>4</td>\n",
       "      <td>2</td>\n",
       "      <td>35247</td>\n",
       "      <td>47</td>\n",
       "    </tr>\n",
       "  </tbody>\n",
       "</table>\n",
       "</div>"
      ],
      "text/plain": [
       "  Product  Age  Gender  Education MaritalStatus  Usage  Fitness  Income  Miles\n",
       "0   KP281   18    Male         14        Single      3        4   29562    112\n",
       "1   KP281   19    Male         15        Single      2        3   31836     75\n",
       "2   KP281   19  Female         14     Partnered      4        3   30699     66\n",
       "3   KP281   19    Male         12        Single      3        3   32973     85\n",
       "4   KP281   20    Male         13     Partnered      4        2   35247     47"
      ]
     },
     "execution_count": 4,
     "metadata": {},
     "output_type": "execute_result"
    }
   ],
   "source": [
    "data.head(5)"
   ]
  },
  {
   "cell_type": "code",
   "execution_count": 6,
   "id": "39ed40b8",
   "metadata": {},
   "outputs": [
    {
     "data": {
      "text/plain": [
       "0     29562\n",
       "1     31836\n",
       "2     30699\n",
       "3     32973\n",
       "4     35247\n",
       "      ...  \n",
       "75    53439\n",
       "76    57987\n",
       "77    60261\n",
       "78    56850\n",
       "79    64809\n",
       "Name: Income, Length: 80, dtype: int64"
      ]
     },
     "execution_count": 6,
     "metadata": {},
     "output_type": "execute_result"
    }
   ],
   "source": [
    "kp281 = data[data['Product']=='KP281']['Income']\n",
    "kp281"
   ]
  },
  {
   "cell_type": "code",
   "execution_count": 7,
   "id": "d5c8cbd6",
   "metadata": {},
   "outputs": [
    {
     "data": {
      "text/plain": [
       "80    31836\n",
       "81    32973\n",
       "Name: Income, dtype: int64"
      ]
     },
     "execution_count": 7,
     "metadata": {},
     "output_type": "execute_result"
    }
   ],
   "source": [
    "kp481 = data[data['Product']=='KP481']['Income']\n",
    "kp481.head(2)"
   ]
  },
  {
   "cell_type": "code",
   "execution_count": 8,
   "id": "6b94d7f0",
   "metadata": {},
   "outputs": [
    {
     "data": {
      "text/plain": [
       "140    48658\n",
       "141    54781\n",
       "Name: Income, dtype: int64"
      ]
     },
     "execution_count": 8,
     "metadata": {},
     "output_type": "execute_result"
    }
   ],
   "source": [
    "kp781 = data[data['Product']=='KP781']['Income']\n",
    "kp781.head(2)"
   ]
  },
  {
   "cell_type": "code",
   "execution_count": null,
   "id": "419bf904",
   "metadata": {},
   "outputs": [],
   "source": []
  },
  {
   "cell_type": "code",
   "execution_count": 9,
   "id": "a8473aef",
   "metadata": {},
   "outputs": [
    {
     "data": {
      "text/plain": [
       "<AxesSubplot:xlabel='Income', ylabel='Density'>"
      ]
     },
     "execution_count": 9,
     "metadata": {},
     "output_type": "execute_result"
    },
    {
     "data": {
      "image/png": "[encoded data removed]",
      "text/plain": [
       "<Figure size 432x288 with 1 Axes>"
      ]
     },
     "metadata": {
      "needs_background": "light"
     },
     "output_type": "display_data"
    }
   ],
   "source": [
    "sns.kdeplot(data=data,x='Income',hue='Product')"
   ]
  },
  {
   "cell_type": "code",
   "execution_count": null,
   "id": "a607463c",
   "metadata": {},
   "outputs": [],
   "source": [
    "# Ho = ALL PRODUCT HAVE SAME INCOME MEAN\n",
    "# hA = ATLEAST ONE OR MORE PRODUCT HAVE DIFFERENT INCOME MEAN"
   ]
  },
  {
   "cell_type": "code",
   "execution_count": 10,
   "id": "2f11fe21",
   "metadata": {},
   "outputs": [],
   "source": [
    "f_stat,pvalue =  f_oneway(kp281,kp481,kp781)"
   ]
  },
  {
   "cell_type": "code",
   "execution_count": 13,
   "id": "e974273c",
   "metadata": {},
   "outputs": [
    {
     "data": {
      "text/plain": [
       "(89.25903546601671, 1.5644991316342494e-27)"
      ]
     },
     "execution_count": 13,
     "metadata": {},
     "output_type": "execute_result"
    }
   ],
   "source": [
    "f_stat,pvalue"
   ]
  },
  {
   "cell_type": "code",
   "execution_count": 15,
   "id": "da5bee45",
   "metadata": {},
   "outputs": [],
   "source": [
    "alpha = 0.05"
   ]
  },
  {
   "cell_type": "code",
   "execution_count": 17,
   "id": "af5f0b6d",
   "metadata": {},
   "outputs": [
    {
     "name": "stdout",
     "output_type": "stream",
     "text": [
      "reject null hypothesis\n"
     ]
    }
   ],
   "source": [
    "if pvalue<alpha:\n",
    "    print('reject null hypothesis')\n",
    "else:\n",
    "    print('accept null hypothesis')"
   ]
  },
  {
   "cell_type": "code",
   "execution_count": null,
   "id": "ea510903",
   "metadata": {},
   "outputs": [],
   "source": []
  },
  {
   "cell_type": "code",
   "execution_count": null,
   "id": "762d89e1",
   "metadata": {},
   "outputs": [],
   "source": []
  },
  {
   "cell_type": "markdown",
   "id": "9689ee26",
   "metadata": {},
   "source": [
    "#### ASSUMPTIONS OF ANOVA:\n",
    "- ALL GROUP HAVE NORMAL DISTRIBUTION - USE: QQ-PLOT OR SHAPIRO-WILK-TEST TO CHECK FOR NORMALITY\n",
    "- ALL HAVE INDEPENDENT VARIABLE -\n",
    "- ALL GROUP HAVE EQUAL VARIANCE - USE LEVENE-TEST TO CHECK FOR EQUALITY OF VARIANCE"
   ]
  },
  {
   "cell_type": "markdown",
   "id": "0ee1af8f",
   "metadata": {},
   "source": [
    "#### IF ANY ASSUMPTION FAILS, THEN USE KRUSKAL. IT WORKS BEST IF SAMPLE IS BETWEEN 100-200. "
   ]
  },
  {
   "cell_type": "code",
   "execution_count": null,
   "id": "335ca280",
   "metadata": {},
   "outputs": [],
   "source": []
  },
  {
   "cell_type": "code",
   "execution_count": null,
   "id": "3161bdbf",
   "metadata": {},
   "outputs": [],
   "source": []
  },
  {
   "cell_type": "markdown",
   "id": "88ab2ce0",
   "metadata": {},
   "source": [
    "#### 1ST ASSUMPTION: ALL HAVE NORMAL DISTRIBUTION"
   ]
  },
  {
   "cell_type": "code",
   "execution_count": 18,
   "id": "9f51f89a",
   "metadata": {},
   "outputs": [
    {
     "data": {
      "text/html": [
       "<div>\n",
       "<style scoped>\n",
       "    .dataframe tbody tr th:only-of-type {\n",
       "        vertical-align: middle;\n",
       "    }\n",
       "\n",
       "    .dataframe tbody tr th {\n",
       "        vertical-align: top;\n",
       "    }\n",
       "\n",
       "    .dataframe thead th {\n",
       "        text-align: right;\n",
       "    }\n",
       "</style>\n",
       "<table border=\"1\" class=\"dataframe\">\n",
       "  <thead>\n",
       "    <tr style=\"text-align: right;\">\n",
       "      <th></th>\n",
       "      <th>Gender</th>\n",
       "      <th>Height</th>\n",
       "      <th>Weight</th>\n",
       "    </tr>\n",
       "  </thead>\n",
       "  <tbody>\n",
       "    <tr>\n",
       "      <th>0</th>\n",
       "      <td>Male</td>\n",
       "      <td>73.847017</td>\n",
       "      <td>241.893563</td>\n",
       "    </tr>\n",
       "    <tr>\n",
       "      <th>1</th>\n",
       "      <td>Male</td>\n",
       "      <td>68.781904</td>\n",
       "      <td>162.310473</td>\n",
       "    </tr>\n",
       "    <tr>\n",
       "      <th>2</th>\n",
       "      <td>Male</td>\n",
       "      <td>74.110105</td>\n",
       "      <td>212.740856</td>\n",
       "    </tr>\n",
       "    <tr>\n",
       "      <th>3</th>\n",
       "      <td>Male</td>\n",
       "      <td>71.730978</td>\n",
       "      <td>220.042470</td>\n",
       "    </tr>\n",
       "    <tr>\n",
       "      <th>4</th>\n",
       "      <td>Male</td>\n",
       "      <td>69.881796</td>\n",
       "      <td>206.349801</td>\n",
       "    </tr>\n",
       "    <tr>\n",
       "      <th>...</th>\n",
       "      <td>...</td>\n",
       "      <td>...</td>\n",
       "      <td>...</td>\n",
       "    </tr>\n",
       "    <tr>\n",
       "      <th>9995</th>\n",
       "      <td>Female</td>\n",
       "      <td>66.172652</td>\n",
       "      <td>136.777454</td>\n",
       "    </tr>\n",
       "    <tr>\n",
       "      <th>9996</th>\n",
       "      <td>Female</td>\n",
       "      <td>67.067155</td>\n",
       "      <td>170.867906</td>\n",
       "    </tr>\n",
       "    <tr>\n",
       "      <th>9997</th>\n",
       "      <td>Female</td>\n",
       "      <td>63.867992</td>\n",
       "      <td>128.475319</td>\n",
       "    </tr>\n",
       "    <tr>\n",
       "      <th>9998</th>\n",
       "      <td>Female</td>\n",
       "      <td>69.034243</td>\n",
       "      <td>163.852461</td>\n",
       "    </tr>\n",
       "    <tr>\n",
       "      <th>9999</th>\n",
       "      <td>Female</td>\n",
       "      <td>61.944246</td>\n",
       "      <td>113.649103</td>\n",
       "    </tr>\n",
       "  </tbody>\n",
       "</table>\n",
       "<p>10000 rows × 3 columns</p>\n",
       "</div>"
      ],
      "text/plain": [
       "      Gender     Height      Weight\n",
       "0       Male  73.847017  241.893563\n",
       "1       Male  68.781904  162.310473\n",
       "2       Male  74.110105  212.740856\n",
       "3       Male  71.730978  220.042470\n",
       "4       Male  69.881796  206.349801\n",
       "...      ...        ...         ...\n",
       "9995  Female  66.172652  136.777454\n",
       "9996  Female  67.067155  170.867906\n",
       "9997  Female  63.867992  128.475319\n",
       "9998  Female  69.034243  163.852461\n",
       "9999  Female  61.944246  113.649103\n",
       "\n",
       "[10000 rows x 3 columns]"
      ]
     },
     "execution_count": 18,
     "metadata": {},
     "output_type": "execute_result"
    }
   ],
   "source": [
    "data = pd.read_csv('weight-height.csv')\n",
    "data"
   ]
  },
  {
   "cell_type": "code",
   "execution_count": 19,
   "id": "fd9b511c",
   "metadata": {},
   "outputs": [
    {
     "data": {
      "text/html": [
       "<div>\n",
       "<style scoped>\n",
       "    .dataframe tbody tr th:only-of-type {\n",
       "        vertical-align: middle;\n",
       "    }\n",
       "\n",
       "    .dataframe tbody tr th {\n",
       "        vertical-align: top;\n",
       "    }\n",
       "\n",
       "    .dataframe thead th {\n",
       "        text-align: right;\n",
       "    }\n",
       "</style>\n",
       "<table border=\"1\" class=\"dataframe\">\n",
       "  <thead>\n",
       "    <tr style=\"text-align: right;\">\n",
       "      <th></th>\n",
       "      <th>Gender</th>\n",
       "      <th>Height</th>\n",
       "      <th>Weight</th>\n",
       "    </tr>\n",
       "  </thead>\n",
       "  <tbody>\n",
       "    <tr>\n",
       "      <th>0</th>\n",
       "      <td>Male</td>\n",
       "      <td>73.847017</td>\n",
       "      <td>241.893563</td>\n",
       "    </tr>\n",
       "    <tr>\n",
       "      <th>1</th>\n",
       "      <td>Male</td>\n",
       "      <td>68.781904</td>\n",
       "      <td>162.310473</td>\n",
       "    </tr>\n",
       "    <tr>\n",
       "      <th>2</th>\n",
       "      <td>Male</td>\n",
       "      <td>74.110105</td>\n",
       "      <td>212.740856</td>\n",
       "    </tr>\n",
       "    <tr>\n",
       "      <th>3</th>\n",
       "      <td>Male</td>\n",
       "      <td>71.730978</td>\n",
       "      <td>220.042470</td>\n",
       "    </tr>\n",
       "    <tr>\n",
       "      <th>4</th>\n",
       "      <td>Male</td>\n",
       "      <td>69.881796</td>\n",
       "      <td>206.349801</td>\n",
       "    </tr>\n",
       "  </tbody>\n",
       "</table>\n",
       "</div>"
      ],
      "text/plain": [
       "  Gender     Height      Weight\n",
       "0   Male  73.847017  241.893563\n",
       "1   Male  68.781904  162.310473\n",
       "2   Male  74.110105  212.740856\n",
       "3   Male  71.730978  220.042470\n",
       "4   Male  69.881796  206.349801"
      ]
     },
     "execution_count": 19,
     "metadata": {},
     "output_type": "execute_result"
    }
   ],
   "source": [
    "data.head()"
   ]
  },
  {
   "cell_type": "code",
   "execution_count": 22,
   "id": "56ffa1d0",
   "metadata": {},
   "outputs": [
    {
     "data": {
      "text/plain": [
       "<AxesSubplot:xlabel='Height', ylabel='Count'>"
      ]
     },
     "execution_count": 22,
     "metadata": {},
     "output_type": "execute_result"
    },
    {
     "data": {
      "image/png": "[encoded data removed]",
      "text/plain": [
       "<Figure size 432x288 with 1 Axes>"
      ]
     },
     "metadata": {
      "needs_background": "light"
     },
     "output_type": "display_data"
    }
   ],
   "source": [
    "height = data['Height']\n",
    "sns.histplot(data=height)"
   ]
  },
  {
   "cell_type": "code",
   "execution_count": null,
   "id": "6673b9d2",
   "metadata": {},
   "outputs": [],
   "source": []
  },
  {
   "cell_type": "markdown",
   "id": "d9f2ef98",
   "metadata": {},
   "source": [
    "#### TO CHECK IF DATA IS NORMAL DISTRIBUTION OR NOT"
   ]
  },
  {
   "cell_type": "markdown",
   "id": "b4c324bb",
   "metadata": {},
   "source": [
    "#### 1ST WAY"
   ]
  },
  {
   "cell_type": "code",
   "execution_count": 24,
   "id": "7215dbf8",
   "metadata": {},
   "outputs": [],
   "source": [
    "# import qq plot\n",
    "from statsmodels.graphics.gofplots import qqplot"
   ]
  },
  {
   "cell_type": "code",
   "execution_count": 28,
   "id": "18d39370",
   "metadata": {},
   "outputs": [
    {
     "data": {
      "image/png": "[encoded data removed]",
      "text/plain": [
       "<Figure size 432x288 with 1 Axes>"
      ]
     },
     "metadata": {
      "needs_background": "light"
     },
     "output_type": "display_data"
    }
   ],
   "source": [
    "qqplot(data['Height'].sample(500),line='s')\n",
    "plt.show()"
   ]
  },
  {
   "cell_type": "code",
   "execution_count": null,
   "id": "e5df8786",
   "metadata": {},
   "outputs": [],
   "source": [
    "# if most points are on the red line, it means that it is almost close to normal distribution."
   ]
  },
  {
   "cell_type": "code",
   "execution_count": null,
   "id": "34350cb5",
   "metadata": {},
   "outputs": [],
   "source": []
  },
  {
   "cell_type": "code",
   "execution_count": null,
   "id": "b8df1089",
   "metadata": {},
   "outputs": [],
   "source": []
  },
  {
   "cell_type": "markdown",
   "id": "c9e94601",
   "metadata": {},
   "source": [
    "#### 2ND WAY"
   ]
  },
  {
   "cell_type": "code",
   "execution_count": null,
   "id": "b96894bf",
   "metadata": {},
   "outputs": [],
   "source": []
  },
  {
   "cell_type": "markdown",
   "id": "7f62122a",
   "metadata": {},
   "source": [
    "#### SHAPIRO-WILK TEST"
   ]
  },
  {
   "cell_type": "code",
   "execution_count": null,
   "id": "e23bd703",
   "metadata": {},
   "outputs": [],
   "source": [
    "# TEST WORKS BEST IF SAMPLE IS BETWEEN (50-200)"
   ]
  },
  {
   "cell_type": "code",
   "execution_count": 31,
   "id": "18bb985a",
   "metadata": {},
   "outputs": [
    {
     "data": {
      "image/png": "[encoded data removed]",
      "text/plain": [
       "<Figure size 432x288 with 1 Axes>"
      ]
     },
     "metadata": {
      "needs_background": "light"
     },
     "output_type": "display_data"
    }
   ],
   "source": [
    "s_height = height.sample(100)\n",
    "sns.kdeplot(data=s_height)\n",
    "plt.show()"
   ]
  },
  {
   "cell_type": "code",
   "execution_count": null,
   "id": "7a306504",
   "metadata": {},
   "outputs": [],
   "source": [
    "# IT LOOKS LIKE NORMAL, BUT HOW MUCH NORMAL. "
   ]
  },
  {
   "cell_type": "code",
   "execution_count": null,
   "id": "fef678ec",
   "metadata": {},
   "outputs": [],
   "source": [
    "# H0 = normal\n",
    "# Ha = not normal\n",
    "\n",
    "\n",
    "# if data is normal we expect p-value to be high\n",
    "alpha = 0.05\n",
    "\n",
    "# if p = 0.03\n",
    "# then it should be not normal"
   ]
  },
  {
   "cell_type": "code",
   "execution_count": 32,
   "id": "38733780",
   "metadata": {},
   "outputs": [],
   "source": [
    "from scipy.stats import shapiro"
   ]
  },
  {
   "cell_type": "code",
   "execution_count": 37,
   "id": "212bf6c6",
   "metadata": {},
   "outputs": [],
   "source": [
    "tstat,pvalue = shapiro(s_height)"
   ]
  },
  {
   "cell_type": "code",
   "execution_count": 38,
   "id": "9bfbe950",
   "metadata": {},
   "outputs": [
    {
     "data": {
      "text/plain": [
       "(0.9942134022712708, 0.9493476748466492)"
      ]
     },
     "execution_count": 38,
     "metadata": {},
     "output_type": "execute_result"
    }
   ],
   "source": [
    "tstat,pvalue"
   ]
  },
  {
   "cell_type": "code",
   "execution_count": null,
   "id": "2195b2a8",
   "metadata": {},
   "outputs": [],
   "source": [
    "# since p-value is higher than alpha, we should accept null hypothesis and confirm it is normal."
   ]
  },
  {
   "cell_type": "code",
   "execution_count": null,
   "id": "6441daac",
   "metadata": {},
   "outputs": [],
   "source": []
  },
  {
   "cell_type": "markdown",
   "id": "d13418e5",
   "metadata": {},
   "source": [
    "#### 2ND ASSUMPTION : EQUAL VARIANCE IN DIFFERENT GROUP"
   ]
  },
  {
   "cell_type": "markdown",
   "id": "9a70acf5",
   "metadata": {},
   "source": [
    "- LEVENE TEST"
   ]
  },
  {
   "cell_type": "code",
   "execution_count": 39,
   "id": "62b37945",
   "metadata": {},
   "outputs": [],
   "source": [
    "from scipy.stats import levene"
   ]
  },
  {
   "cell_type": "code",
   "execution_count": null,
   "id": "0ff2f9a5",
   "metadata": {},
   "outputs": [],
   "source": []
  },
  {
   "cell_type": "code",
   "execution_count": null,
   "id": "935b8076",
   "metadata": {},
   "outputs": [],
   "source": [
    "# H0 : distribution have equal variance\n",
    "# Ha : distribution have unequal variance"
   ]
  },
  {
   "cell_type": "code",
   "execution_count": 41,
   "id": "a26d02db",
   "metadata": {},
   "outputs": [
    {
     "data": {
      "text/plain": [
       "<AxesSubplot:xlabel='Height', ylabel='Count'>"
      ]
     },
     "execution_count": 41,
     "metadata": {},
     "output_type": "execute_result"
    },
    {
     "data": {
      "image/png": "[encoded data removed]",
      "text/plain": [
       "<Figure size 432x288 with 1 Axes>"
      ]
     },
     "metadata": {
      "needs_background": "light"
     },
     "output_type": "display_data"
    }
   ],
   "source": [
    "sns.histplot(data=data,x=data['Height'],hue='Gender')"
   ]
  },
  {
   "cell_type": "code",
   "execution_count": 42,
   "id": "b0ebbc52",
   "metadata": {},
   "outputs": [
    {
     "data": {
      "text/plain": [
       "<AxesSubplot:xlabel='Height', ylabel='Density'>"
      ]
     },
     "execution_count": 42,
     "metadata": {},
     "output_type": "execute_result"
    },
    {
     "data": {
      "image/png": "[encoded data removed]",
      "text/plain": [
       "<Figure size 432x288 with 1 Axes>"
      ]
     },
     "metadata": {
      "needs_background": "light"
     },
     "output_type": "display_data"
    }
   ],
   "source": [
    "sns.kdeplot(data=data,x=data['Height'],hue='Gender')"
   ]
  },
  {
   "cell_type": "code",
   "execution_count": null,
   "id": "52710fd6",
   "metadata": {},
   "outputs": [],
   "source": []
  },
  {
   "cell_type": "code",
   "execution_count": 43,
   "id": "f7fa2380",
   "metadata": {},
   "outputs": [],
   "source": [
    "men_height = data[data['Gender']=='Male']['Height']\n",
    "women_height = data[data['Gender']=='Female']['Height']"
   ]
  },
  {
   "cell_type": "code",
   "execution_count": 44,
   "id": "6715572d",
   "metadata": {},
   "outputs": [
    {
     "data": {
      "text/plain": [
       "0    73.847017\n",
       "1    68.781904\n",
       "2    74.110105\n",
       "3    71.730978\n",
       "4    69.881796\n",
       "Name: Height, dtype: float64"
      ]
     },
     "execution_count": 44,
     "metadata": {},
     "output_type": "execute_result"
    }
   ],
   "source": [
    "men_height.head()"
   ]
  },
  {
   "cell_type": "code",
   "execution_count": 45,
   "id": "2b4c46cb",
   "metadata": {},
   "outputs": [
    {
     "data": {
      "text/plain": [
       "5000    58.910732\n",
       "5001    65.230013\n",
       "5002    63.369004\n",
       "5003    64.479997\n",
       "5004    61.793096\n",
       "Name: Height, dtype: float64"
      ]
     },
     "execution_count": 45,
     "metadata": {},
     "output_type": "execute_result"
    }
   ],
   "source": [
    "women_height.head()"
   ]
  },
  {
   "cell_type": "code",
   "execution_count": null,
   "id": "46b4ab7a",
   "metadata": {},
   "outputs": [],
   "source": [
    "# H0 : distribution have equal variance\n",
    "# Ha : distribution have unequal variance"
   ]
  },
  {
   "cell_type": "code",
   "execution_count": 46,
   "id": "c6fc6147",
   "metadata": {},
   "outputs": [],
   "source": [
    "from scipy.stats import levene"
   ]
  },
  {
   "cell_type": "code",
   "execution_count": 47,
   "id": "6caed384",
   "metadata": {},
   "outputs": [],
   "source": [
    "alpha = 0.05\n",
    "stat,pvalue = levene(men_height,women_height)"
   ]
  },
  {
   "cell_type": "code",
   "execution_count": 48,
   "id": "777e59b6",
   "metadata": {},
   "outputs": [
    {
     "data": {
      "text/plain": [
       "(12.284910854677701, 0.0004586349895436178)"
      ]
     },
     "execution_count": 48,
     "metadata": {},
     "output_type": "execute_result"
    }
   ],
   "source": [
    "stat,pvalue"
   ]
  },
  {
   "cell_type": "code",
   "execution_count": null,
   "id": "e581b24b",
   "metadata": {},
   "outputs": [],
   "source": [
    "# since pvalue is very low, reject null hypothesis / variance are different. "
   ]
  },
  {
   "cell_type": "code",
   "execution_count": null,
   "id": "68d21417",
   "metadata": {},
   "outputs": [],
   "source": []
  },
  {
   "cell_type": "code",
   "execution_count": null,
   "id": "99f51f91",
   "metadata": {},
   "outputs": [],
   "source": []
  },
  {
   "cell_type": "code",
   "execution_count": 49,
   "id": "e09cb8b0",
   "metadata": {},
   "outputs": [
    {
     "data": {
      "text/plain": [
       "LeveneResult(statistic=38.36776096611407, pvalue=1.4384394862120984e-14)"
      ]
     },
     "execution_count": 49,
     "metadata": {},
     "output_type": "execute_result"
    }
   ],
   "source": [
    "# testing for these 3 products\n",
    "#one of the variance must be diffeent.\n",
    "\n",
    "levene(kp281,kp481,kp781)"
   ]
  },
  {
   "cell_type": "code",
   "execution_count": null,
   "id": "4a6d7ca7",
   "metadata": {},
   "outputs": [],
   "source": []
  },
  {
   "cell_type": "code",
   "execution_count": null,
   "id": "b3d69a84",
   "metadata": {},
   "outputs": [],
   "source": []
  },
  {
   "cell_type": "markdown",
   "id": "ab9a2ee8",
   "metadata": {},
   "source": [
    "### KRUSKAL"
   ]
  },
  {
   "cell_type": "markdown",
   "id": "be5c2b56",
   "metadata": {},
   "source": [
    "#### IF ASSUMPTIONS OF ANOVA FAILS THEN USE KRUSKAL"
   ]
  },
  {
   "cell_type": "code",
   "execution_count": null,
   "id": "184a4afc",
   "metadata": {},
   "outputs": [],
   "source": []
  },
  {
   "cell_type": "code",
   "execution_count": 50,
   "id": "4ae5e9c1",
   "metadata": {},
   "outputs": [],
   "source": [
    "from scipy.stats import kruskal"
   ]
  },
  {
   "cell_type": "code",
   "execution_count": 51,
   "id": "d695c8b3",
   "metadata": {},
   "outputs": [
    {
     "data": {
      "text/plain": [
       "KruskalResult(statistic=61.43670384567185, pvalue=4.562357014275808e-14)"
      ]
     },
     "execution_count": 51,
     "metadata": {},
     "output_type": "execute_result"
    }
   ],
   "source": [
    "kruskal(kp281,kp481,kp781)"
   ]
  },
  {
   "cell_type": "code",
   "execution_count": null,
   "id": "44670571",
   "metadata": {},
   "outputs": [],
   "source": [
    "# null hypothesis of anova and kruskal are same"
   ]
  },
  {
   "cell_type": "code",
   "execution_count": null,
   "id": "781bcbcb",
   "metadata": {},
   "outputs": [],
   "source": []
  },
  {
   "cell_type": "code",
   "execution_count": null,
   "id": "218e0a86",
   "metadata": {},
   "outputs": [],
   "source": []
  },
  {
   "cell_type": "markdown",
   "id": "40460513",
   "metadata": {},
   "source": [
    "### ASSIGNMENT"
   ]
  },
  {
   "cell_type": "code",
   "execution_count": null,
   "id": "86bab7d4",
   "metadata": {},
   "outputs": [],
   "source": []
  },
  {
   "cell_type": "code",
   "execution_count": null,
   "id": "e2915b37",
   "metadata": {},
   "outputs": [],
   "source": [
    "# Q1"
   ]
  },
  {
   "cell_type": "code",
   "execution_count": 56,
   "id": "63c6b69d",
   "metadata": {},
   "outputs": [],
   "source": [
    "alpha = 0.05\n",
    "# H0: no difference\n",
    "# Ha: atleast one of them are different"
   ]
  },
  {
   "cell_type": "code",
   "execution_count": 54,
   "id": "498fc68e",
   "metadata": {},
   "outputs": [],
   "source": [
    "a = [13, 8, 11, 12, 11]\n",
    "b = [15, 10, 16, 11, 13, 10]\n",
    "c = [5, 11, 9, 5]\n",
    "d = [8, 10, 6, 5, 7]"
   ]
  },
  {
   "cell_type": "code",
   "execution_count": 55,
   "id": "5beb418e",
   "metadata": {},
   "outputs": [
    {
     "data": {
      "text/plain": [
       "F_onewayResult(statistic=6.324748040313554, pvalue=0.0049302919205628576)"
      ]
     },
     "execution_count": 55,
     "metadata": {},
     "output_type": "execute_result"
    }
   ],
   "source": [
    "f_oneway(a,b,c,d)"
   ]
  },
  {
   "cell_type": "code",
   "execution_count": null,
   "id": "7772ab8b",
   "metadata": {},
   "outputs": [],
   "source": [
    "# since pvalue is lower than alpha, reject H0 / atleast one of them are different"
   ]
  },
  {
   "cell_type": "code",
   "execution_count": null,
   "id": "fe89ec9d",
   "metadata": {},
   "outputs": [],
   "source": []
  },
  {
   "cell_type": "code",
   "execution_count": null,
   "id": "a0f51854",
   "metadata": {},
   "outputs": [],
   "source": []
  },
  {
   "cell_type": "code",
   "execution_count": null,
   "id": "466a9a36",
   "metadata": {},
   "outputs": [],
   "source": [
    "# Q2"
   ]
  },
  {
   "cell_type": "code",
   "execution_count": 57,
   "id": "56b3e4f6",
   "metadata": {},
   "outputs": [],
   "source": [
    "one_star = [382, 391, 335, 368, 400, 372]\n",
    "two_star = [560, 343, 512, 329, 391, 367]\n",
    "three_star = [384, 458, 409, 309, 374, 459]\n",
    "four_star = [325, 390, 304, 240, 306, 169]\n",
    "five_star = [360, 298, 272, 368, 320, 326]"
   ]
  },
  {
   "cell_type": "code",
   "execution_count": 59,
   "id": "e12fa51d",
   "metadata": {},
   "outputs": [],
   "source": [
    "tstat,pvalue =  f_oneway(one_star,two_star,three_star,four_star,five_star)"
   ]
  },
  {
   "cell_type": "code",
   "execution_count": 60,
   "id": "50099787",
   "metadata": {},
   "outputs": [],
   "source": [
    "alpha = 0.01\n",
    "# H0 : they are same\n",
    "# Ha : atleast one of them are different"
   ]
  },
  {
   "cell_type": "code",
   "execution_count": 66,
   "id": "b6c4b3d6",
   "metadata": {},
   "outputs": [
    {
     "name": "stdout",
     "output_type": "stream",
     "text": [
      "pvalue is 0.009362001936328837 therefore, reject null hypothesis.\n",
      "Atleast one of them are different\n"
     ]
    }
   ],
   "source": [
    "if pvalue < alpha:\n",
    "    print(f'pvalue is {pvalue} therefore, reject null hypothesis.\\nAtleast one of them are different')\n",
    "else:\n",
    "    print('cant reject null hypothesis. \\n they are same')"
   ]
  },
  {
   "cell_type": "code",
   "execution_count": null,
   "id": "7f5e5d51",
   "metadata": {},
   "outputs": [],
   "source": []
  },
  {
   "cell_type": "code",
   "execution_count": null,
   "id": "ef30234d",
   "metadata": {},
   "outputs": [],
   "source": [
    "# Q3"
   ]
  },
  {
   "cell_type": "code",
   "execution_count": 67,
   "id": "74a77787",
   "metadata": {},
   "outputs": [],
   "source": [
    "Brand_A = [19.60, 18.82, 19.00, 18.45, 19.79, 19.03, 17.89, 19.42]\n",
    "Brand_B = [21.10, 20.00, 20.43, 19.67, 18.99, 19.98, 20.14, 19.78]\n",
    "Brand_C = [10.31, 10.02, 9.41, 9.89, 10.05, 10.52, 11.02, 10.42]\n",
    "Brand_D = [17.02, 16.71, 17.78, 18.65, 15.98, 17.63, 17.00, 16.78, 16.92, 17.14]"
   ]
  },
  {
   "cell_type": "code",
   "execution_count": 68,
   "id": "c1422be0",
   "metadata": {},
   "outputs": [],
   "source": [
    "t_stat,pvalue = f_oneway(Brand_A,Brand_B,Brand_C,Brand_D)"
   ]
  },
  {
   "cell_type": "code",
   "execution_count": 69,
   "id": "f904f342",
   "metadata": {},
   "outputs": [],
   "source": [
    " alpha = 0.05\n",
    "# H0 : all are same\n",
    "# Ha : atleast one of them are different"
   ]
  },
  {
   "cell_type": "code",
   "execution_count": 70,
   "id": "5cc8fc11",
   "metadata": {},
   "outputs": [
    {
     "name": "stdout",
     "output_type": "stream",
     "text": [
      "pvalue is 2.392149441499325e-24 therefore, reject null hypothesis.\n",
      "Atleast one of them are different\n"
     ]
    }
   ],
   "source": [
    "if pvalue<alpha:\n",
    "    print(f'pvalue is {pvalue} therefore, reject null hypothesis.\\nAtleast one of them are different')\n",
    "else:\n",
    "    print('cant reject null hypothesis. \\n they are same')"
   ]
  },
  {
   "cell_type": "code",
   "execution_count": null,
   "id": "cfa54cd9",
   "metadata": {},
   "outputs": [],
   "source": []
  },
  {
   "cell_type": "code",
   "execution_count": null,
   "id": "45ebd6cb",
   "metadata": {},
   "outputs": [],
   "source": []
  },
  {
   "cell_type": "code",
   "execution_count": null,
   "id": "0d7555fc",
   "metadata": {},
   "outputs": [],
   "source": [
    "# Q4"
   ]
  },
  {
   "cell_type": "code",
   "execution_count": 73,
   "id": "3725e5d5",
   "metadata": {},
   "outputs": [],
   "source": [
    "cars = [19.9, 15.3, 2.2, 6.8, 34.2, 8.3, 12.0, 7.0, 9.5, 1.1]\n",
    "buses = [1.8, 24.6, 7.2, 37.0, 7.2, 21.2, 6.5, 23.6]\n",
    "trucks = [13.3, 23.0, 25.4, 15.3, 57.1, 14.5, 26.0]"
   ]
  },
  {
   "cell_type": "code",
   "execution_count": 74,
   "id": "ef526aec",
   "metadata": {},
   "outputs": [
    {
     "data": {
      "text/plain": [
       "0.035"
      ]
     },
     "execution_count": 74,
     "metadata": {},
     "output_type": "execute_result"
    }
   ],
   "source": [
    "0.07/2"
   ]
  },
  {
   "cell_type": "code",
   "execution_count": 75,
   "id": "429b5bfd",
   "metadata": {},
   "outputs": [],
   "source": [
    "from scipy.stats import norm"
   ]
  },
  {
   "cell_type": "code",
   "execution_count": 76,
   "id": "612f1a81",
   "metadata": {},
   "outputs": [
    {
     "data": {
      "text/plain": [
       "-1.8119106729525978"
      ]
     },
     "execution_count": 76,
     "metadata": {},
     "output_type": "execute_result"
    }
   ],
   "source": [
    "norm.ppf(0.035)"
   ]
  },
  {
   "cell_type": "code",
   "execution_count": 78,
   "id": "ed5f5a7e",
   "metadata": {},
   "outputs": [],
   "source": [
    "tstat,pvalue = f_oneway(cars,buses,trucks)"
   ]
  },
  {
   "cell_type": "code",
   "execution_count": 79,
   "id": "5cf90640",
   "metadata": {},
   "outputs": [
    {
     "data": {
      "text/plain": [
       "(2.4686944536875277, 0.10782985675757563)"
      ]
     },
     "execution_count": 79,
     "metadata": {},
     "output_type": "execute_result"
    }
   ],
   "source": [
    "tstat,pvalue"
   ]
  },
  {
   "cell_type": "code",
   "execution_count": 80,
   "id": "19103cfe",
   "metadata": {},
   "outputs": [],
   "source": [
    "alpha = 0.07"
   ]
  },
  {
   "cell_type": "code",
   "execution_count": 81,
   "id": "89a149a7",
   "metadata": {},
   "outputs": [
    {
     "name": "stdout",
     "output_type": "stream",
     "text": [
      "accept null hypothesis\n"
     ]
    }
   ],
   "source": [
    "if pvalue<alpha:\n",
    "    print(f\"pvalue is {pvalue}. Therefore reject null hypothesis\")\n",
    "else:\n",
    "    print('accept null hypothesis')"
   ]
  },
  {
   "cell_type": "code",
   "execution_count": null,
   "id": "f33eab89",
   "metadata": {},
   "outputs": [],
   "source": []
  },
  {
   "cell_type": "code",
   "execution_count": null,
   "id": "6f114ad8",
   "metadata": {},
   "outputs": [],
   "source": []
  },
  {
   "cell_type": "code",
   "execution_count": null,
   "id": "7e47618a",
   "metadata": {},
   "outputs": [],
   "source": [
    "# Q5"
   ]
  },
  {
   "cell_type": "code",
   "execution_count": 82,
   "id": "b93d57e7",
   "metadata": {},
   "outputs": [],
   "source": [
    "college_students = [71, 62, 63, 59, 67, 68, 63, 62, 66, 65, 61, 60]\n",
    "athletes = [67, 68, 72, 66, 65, 69, 71, 70, 65, 64, 68]\n",
    "army = [68, 67, 66, 68, 69, 70, 71, 69, 66, 67]"
   ]
  },
  {
   "cell_type": "code",
   "execution_count": 83,
   "id": "ad629fc3",
   "metadata": {},
   "outputs": [],
   "source": [
    "alpha = 0.01\n",
    "# H0 : they are same\n",
    "# Ha : atleast one of them are different"
   ]
  },
  {
   "cell_type": "code",
   "execution_count": 84,
   "id": "13873f3f",
   "metadata": {},
   "outputs": [],
   "source": [
    "tstat,pvalue = f_oneway(college_students,athletes,army)"
   ]
  },
  {
   "cell_type": "code",
   "execution_count": 85,
   "id": "15749d05",
   "metadata": {},
   "outputs": [
    {
     "data": {
      "text/plain": [
       "(7.899836075209478, 0.0017534092082519943)"
      ]
     },
     "execution_count": 85,
     "metadata": {},
     "output_type": "execute_result"
    }
   ],
   "source": [
    "tstat,pvalue"
   ]
  },
  {
   "cell_type": "code",
   "execution_count": 86,
   "id": "d30d3fae",
   "metadata": {},
   "outputs": [
    {
     "name": "stdout",
     "output_type": "stream",
     "text": [
      "pvalue is 0.0017534092082519943. \n",
      "Reject null hypothesis\n"
     ]
    }
   ],
   "source": [
    "if pvalue<alpha:\n",
    "    print(f\"pvalue is {pvalue}. \\nReject null hypothesis\")\n",
    "else:\n",
    "    print(\"accept null hypothesis\")"
   ]
  },
  {
   "cell_type": "code",
   "execution_count": null,
   "id": "fa092947",
   "metadata": {},
   "outputs": [],
   "source": []
  },
  {
   "cell_type": "code",
   "execution_count": null,
   "id": "39fc3284",
   "metadata": {},
   "outputs": [],
   "source": []
  },
  {
   "cell_type": "code",
   "execution_count": null,
   "id": "c06f0e2b",
   "metadata": {},
   "outputs": [],
   "source": [
    "# Q6 CHISQUARE TEST"
   ]
  },
  {
   "cell_type": "code",
   "execution_count": 87,
   "id": "511ed05a",
   "metadata": {},
   "outputs": [
    {
     "data": {
      "text/plain": [
       "45.0"
      ]
     },
     "execution_count": 87,
     "metadata": {},
     "output_type": "execute_result"
    }
   ],
   "source": [
    "150*30/100"
   ]
  },
  {
   "cell_type": "code",
   "execution_count": 89,
   "id": "46a2ded5",
   "metadata": {},
   "outputs": [
    {
     "data": {
      "text/plain": [
       "60.0"
      ]
     },
     "execution_count": 89,
     "metadata": {},
     "output_type": "execute_result"
    }
   ],
   "source": [
    "0.4*150"
   ]
  },
  {
   "cell_type": "code",
   "execution_count": 90,
   "id": "2fcaf20d",
   "metadata": {},
   "outputs": [
    {
     "data": {
      "text/plain": [
       "45.0"
      ]
     },
     "execution_count": 90,
     "metadata": {},
     "output_type": "execute_result"
    }
   ],
   "source": [
    "0.3*150"
   ]
  },
  {
   "cell_type": "code",
   "execution_count": 92,
   "id": "3f76a815",
   "metadata": {},
   "outputs": [],
   "source": [
    "exp = [45,60,45]\n",
    "obs = [45,50,55]"
   ]
  },
  {
   "cell_type": "code",
   "execution_count": 96,
   "id": "16e0f97b",
   "metadata": {},
   "outputs": [],
   "source": [
    "tstat,pvalue = chisquare(obs,exp)"
   ]
  },
  {
   "cell_type": "code",
   "execution_count": 97,
   "id": "7f34b1e9",
   "metadata": {},
   "outputs": [
    {
     "data": {
      "text/plain": [
       "(3.8888888888888893, 0.1430666827544082)"
      ]
     },
     "execution_count": 97,
     "metadata": {},
     "output_type": "execute_result"
    }
   ],
   "source": [
    "tstat,pvalue"
   ]
  },
  {
   "cell_type": "code",
   "execution_count": 95,
   "id": "e5a4a9a7",
   "metadata": {},
   "outputs": [],
   "source": [
    "alpha = 0.05\n",
    "# H0 : same\n",
    "# Ha : not same"
   ]
  },
  {
   "cell_type": "code",
   "execution_count": 98,
   "id": "d1515d28",
   "metadata": {},
   "outputs": [
    {
     "name": "stdout",
     "output_type": "stream",
     "text": [
      "accept null hypothesis\n"
     ]
    }
   ],
   "source": [
    "if pvalue<alpha:\n",
    "    print('reject null hypothesis')\n",
    "else:\n",
    "    print('accept null hypothesis')"
   ]
  },
  {
   "cell_type": "code",
   "execution_count": null,
   "id": "3f5c3040",
   "metadata": {},
   "outputs": [],
   "source": []
  },
  {
   "cell_type": "code",
   "execution_count": null,
   "id": "8af64da1",
   "metadata": {},
   "outputs": [],
   "source": [
    "# Q7"
   ]
  },
  {
   "cell_type": "code",
   "execution_count": 100,
   "id": "48f4bf10",
   "metadata": {},
   "outputs": [
    {
     "data": {
      "text/plain": [
       "(40.0, 100.0, 60.0)"
      ]
     },
     "execution_count": 100,
     "metadata": {},
     "output_type": "execute_result"
    }
   ],
   "source": [
    "0.2*200,0.5*200,0.3*200"
   ]
  },
  {
   "cell_type": "code",
   "execution_count": 103,
   "id": "8e1a5a3d",
   "metadata": {},
   "outputs": [],
   "source": [
    "obs = [30,85,85]\n",
    "exp = [40,100,60]"
   ]
  },
  {
   "cell_type": "code",
   "execution_count": 105,
   "id": "c680e366",
   "metadata": {},
   "outputs": [],
   "source": [
    "tstat,pvalue = chisquare(obs,exp)"
   ]
  },
  {
   "cell_type": "code",
   "execution_count": 107,
   "id": "8b5cc6e1",
   "metadata": {},
   "outputs": [
    {
     "data": {
      "text/plain": [
       "0.0005088621855732918"
      ]
     },
     "execution_count": 107,
     "metadata": {},
     "output_type": "execute_result"
    }
   ],
   "source": [
    "pvalue"
   ]
  },
  {
   "cell_type": "code",
   "execution_count": 108,
   "id": "bc6d022a",
   "metadata": {},
   "outputs": [],
   "source": [
    "alpha = 0.05"
   ]
  },
  {
   "cell_type": "code",
   "execution_count": 111,
   "id": "ec53698c",
   "metadata": {},
   "outputs": [
    {
     "name": "stdout",
     "output_type": "stream",
     "text": [
      "pvalue is 0.0005088621855732918.\n",
      "Therefore reject null hypothesis\n"
     ]
    }
   ],
   "source": [
    "if pvalue<alpha:\n",
    "    print(f\"pvalue is {pvalue}.\\nTherefore reject null hypothesis\")\n",
    "else:\n",
    "    print(\"accept null hypothesis\")"
   ]
  },
  {
   "cell_type": "code",
   "execution_count": null,
   "id": "c703a0d1",
   "metadata": {},
   "outputs": [],
   "source": []
  },
  {
   "cell_type": "code",
   "execution_count": null,
   "id": "f175f69c",
   "metadata": {},
   "outputs": [],
   "source": []
  }
 ],
 "metadata": {
  "kernelspec": {
   "display_name": "Python 3 (ipykernel)",
   "language": "python",
   "name": "python3"
  },
  "language_info": {
   "codemirror_mode": {
    "name": "ipython",
    "version": 3
   },
   "file_extension": ".py",
   "mimetype": "text/x-python",
   "name": "python",
   "nbconvert_exporter": "python",
   "pygments_lexer": "ipython3",
   "version": "3.9.12"
  }
 },
 "nbformat": 4,
 "nbformat_minor": 5
}

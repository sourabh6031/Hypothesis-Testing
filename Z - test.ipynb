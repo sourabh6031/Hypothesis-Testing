{
 "cells": [
  {
   "cell_type": "code",
   "execution_count": null,
   "id": "85c3a062",
   "metadata": {},
   "outputs": [],
   "source": [
    "# A z-test is used to test a Null Hypothesis if the population variance is known, or \n",
    "# if the sample size is larger than 30, for an unknown population variance.\n",
    "\n",
    "# if population variance or sample size greater than 30"
   ]
  },
  {
   "cell_type": "code",
   "execution_count": null,
   "id": "cd01a068",
   "metadata": {},
   "outputs": [],
   "source": []
  },
  {
   "cell_type": "code",
   "execution_count": null,
   "id": "c49e1fac",
   "metadata": {},
   "outputs": [],
   "source": [
    "# Z-TEST FOLLOWS NORMAL DISTRIBUTION. ALL CALCULATION WILL BE BASED ON NORMAL DISTRIBUTION."
   ]
  },
  {
   "cell_type": "markdown",
   "id": "142f4d86",
   "metadata": {},
   "source": [
    "### ASSIGNMENT"
   ]
  },
  {
   "cell_type": "code",
   "execution_count": 1,
   "id": "7b9c5d2a",
   "metadata": {},
   "outputs": [],
   "source": [
    "import numpy as np\n",
    "from scipy.stats import norm"
   ]
  },
  {
   "cell_type": "code",
   "execution_count": null,
   "id": "722485a8",
   "metadata": {},
   "outputs": [],
   "source": [
    "# Q1"
   ]
  },
  {
   "cell_type": "code",
   "execution_count": null,
   "id": "5a494338",
   "metadata": {},
   "outputs": [],
   "source": [
    "'''\n",
    "A country has a population average height of 65 inches with a standard deviation of 2.5. \n",
    "A person feels people from his state are shorter. He takes the average of 20 people and sees that it is 64.5.\n",
    "\n",
    "At a 5% significance level (or 95% confidence level), can we conclude that people from his state are shorter, \n",
    "using the Z-test? What is the p-value?\n",
    "'''"
   ]
  },
  {
   "cell_type": "code",
   "execution_count": 1,
   "id": "74c23dab",
   "metadata": {},
   "outputs": [],
   "source": [
    "pop_mean = 65\n",
    "sd = 2.5\n",
    "sample_size = 20\n",
    "mean_x = 64.5"
   ]
  },
  {
   "cell_type": "code",
   "execution_count": null,
   "id": "7afa4d66",
   "metadata": {},
   "outputs": [],
   "source": [
    "# Ho : height is same\n",
    "# Ha : height is less\n",
    "# significance level = 0.05"
   ]
  },
  {
   "cell_type": "code",
   "execution_count": 3,
   "id": "4bd3291f",
   "metadata": {},
   "outputs": [
    {
     "data": {
      "text/plain": [
       "0.5590169943749475"
      ]
     },
     "execution_count": 3,
     "metadata": {},
     "output_type": "execute_result"
    }
   ],
   "source": [
    "standard_error = sd/np.sqrt(sample_size)\n",
    "standard_error"
   ]
  },
  {
   "cell_type": "code",
   "execution_count": 4,
   "id": "9502500d",
   "metadata": {},
   "outputs": [
    {
     "data": {
      "text/plain": [
       "-0.8944271909999159"
      ]
     },
     "execution_count": 4,
     "metadata": {},
     "output_type": "execute_result"
    }
   ],
   "source": [
    "z_score = (mean_x - pop_mean)/standard_error\n",
    "z_score"
   ]
  },
  {
   "cell_type": "code",
   "execution_count": 6,
   "id": "25c68d24",
   "metadata": {},
   "outputs": [
    {
     "data": {
      "text/plain": [
       "0.18554668476134878"
      ]
     },
     "execution_count": 6,
     "metadata": {},
     "output_type": "execute_result"
    }
   ],
   "source": [
    "p_value = norm.cdf(z_score)\n",
    "p_value"
   ]
  },
  {
   "cell_type": "code",
   "execution_count": null,
   "id": "d688a74c",
   "metadata": {},
   "outputs": [],
   "source": [
    "# since pvalue is higher we accept null value. height is same"
   ]
  },
  {
   "cell_type": "code",
   "execution_count": null,
   "id": "c5090be6",
   "metadata": {},
   "outputs": [],
   "source": []
  },
  {
   "cell_type": "code",
   "execution_count": null,
   "id": "57a7cd63",
   "metadata": {},
   "outputs": [],
   "source": []
  },
  {
   "cell_type": "code",
   "execution_count": null,
   "id": "b889155c",
   "metadata": {},
   "outputs": [],
   "source": [
    "# Q3"
   ]
  },
  {
   "cell_type": "code",
   "execution_count": null,
   "id": "04684276",
   "metadata": {},
   "outputs": [],
   "source": [
    "'''\n",
    "A french cake shop claims that the average number of pastries they can produce in a day exceeds 500.\n",
    "\n",
    "The average number of pastries produced per day over a 70 day period was found to be 530. \n",
    "Assume that the population standard deviation for the pastries produced per day is 125.\n",
    "\n",
    "Test the claim using a z-test with the critical z-value = 1.64 at the alpha (significance level) = 0.05, \n",
    "and state your interpretation.\n",
    "\n",
    "Note: Round off the z-score to two decimal places.\n",
    "'''"
   ]
  },
  {
   "cell_type": "code",
   "execution_count": null,
   "id": "86476c5a",
   "metadata": {},
   "outputs": [],
   "source": [
    "# Ho : same sale , Ha : high sale\n",
    "# SL : 0.05"
   ]
  },
  {
   "cell_type": "code",
   "execution_count": 2,
   "id": "1978302c",
   "metadata": {},
   "outputs": [],
   "source": [
    "n = 70\n",
    "x_mean = 530\n",
    "pop_std = 125"
   ]
  },
  {
   "cell_type": "code",
   "execution_count": 3,
   "id": "2157d740",
   "metadata": {},
   "outputs": [
    {
     "data": {
      "text/plain": [
       "14.94035761667992"
      ]
     },
     "execution_count": 3,
     "metadata": {},
     "output_type": "execute_result"
    }
   ],
   "source": [
    "standard_error = pop_std/np.sqrt(n)\n",
    "standard_error"
   ]
  },
  {
   "cell_type": "code",
   "execution_count": 4,
   "id": "7bb58725",
   "metadata": {},
   "outputs": [
    {
     "data": {
      "text/plain": [
       "2.007984063681781"
      ]
     },
     "execution_count": 4,
     "metadata": {},
     "output_type": "execute_result"
    }
   ],
   "source": [
    "z_score = (x_mean - 500)/standard_error\n",
    "z_score"
   ]
  },
  {
   "cell_type": "code",
   "execution_count": 5,
   "id": "f8a5818e",
   "metadata": {},
   "outputs": [
    {
     "data": {
      "text/plain": [
       "0.022322492581293485"
      ]
     },
     "execution_count": 5,
     "metadata": {},
     "output_type": "execute_result"
    }
   ],
   "source": [
    "p_value = 1 - norm.cdf(z_score)\n",
    "p_value"
   ]
  },
  {
   "cell_type": "code",
   "execution_count": null,
   "id": "be9f2499",
   "metadata": {},
   "outputs": [],
   "source": [
    "# since p_value is less than pvalue, we reject null hypothesis."
   ]
  },
  {
   "cell_type": "code",
   "execution_count": 10,
   "id": "bca654f9",
   "metadata": {},
   "outputs": [
    {
     "data": {
      "text/plain": [
       "1.959963984540054"
      ]
     },
     "execution_count": 10,
     "metadata": {},
     "output_type": "execute_result"
    }
   ],
   "source": [
    "norm.ppf(0.05/2 + 0.95)"
   ]
  },
  {
   "cell_type": "code",
   "execution_count": null,
   "id": "ec02d82a",
   "metadata": {},
   "outputs": [],
   "source": [
    "'''\n",
    "Critical z-value: The critical z-value is a value obtained from the standard normal distribution (a z-distribution) \n",
    "that corresponds to a specified significance level (often denoted as alpha.\n",
    "For example, if you're performing hypothesis testing with a significance level of 0.05 (95% confidence level), \n",
    "the critical z-value for a two-tailed test is approximately z=±1.96. \n",
    "\n",
    "This means that if the calculated z-score falls beyond ±1.96, \n",
    "you would reject the null hypothesis at the 0.05 significance level.\n",
    "\n",
    "The relation between the z-score and the critical z-value lies in their use in hypothesis testing:\n",
    "If the calculated z-score is greater than or equal to the critical z-value (in absolute value) for a one-tailed test, you would reject the null hypothesis.\n",
    "For a two-tailed test, if the calculated z-score falls beyond the critical z-values (positive or negative), you would reject the null hypothesis.\n",
    "'''"
   ]
  },
  {
   "cell_type": "code",
   "execution_count": null,
   "id": "5dc746a7",
   "metadata": {},
   "outputs": [],
   "source": []
  },
  {
   "cell_type": "code",
   "execution_count": null,
   "id": "25a685e5",
   "metadata": {},
   "outputs": [],
   "source": []
  },
  {
   "cell_type": "code",
   "execution_count": null,
   "id": "63ae4cfc",
   "metadata": {},
   "outputs": [],
   "source": [
    "# Q4. India runs on Chai"
   ]
  },
  {
   "cell_type": "code",
   "execution_count": null,
   "id": "b11783f4",
   "metadata": {},
   "outputs": [],
   "source": [
    "'''\n",
    "The Chai Point stall at Bengaluru airport estimates that each person visiting the store drinks an average of 1.7 small cups of tea.\n",
    "\n",
    "Assume a population standard deviation of 0.5 small cups. A sample of 30 customers collected over a few days averaged 1.85 small cups of tea per person.\n",
    "\n",
    "Test the claim using an appropriate test at an alpha = 0.05 significance value, with a critical z-score value of ±1.96.\n",
    "\n",
    "Note: Round off the z-score to two decimal places.\n",
    "'''"
   ]
  },
  {
   "cell_type": "code",
   "execution_count": 13,
   "id": "7250e92d",
   "metadata": {},
   "outputs": [],
   "source": [
    "pop_mean = 1.7\n",
    "pop_std = 0.5\n",
    "n = 30\n",
    "sample_mean = 1.85"
   ]
  },
  {
   "cell_type": "code",
   "execution_count": 14,
   "id": "de3c9584",
   "metadata": {},
   "outputs": [
    {
     "data": {
      "text/plain": [
       "0.09128709291752768"
      ]
     },
     "execution_count": 14,
     "metadata": {},
     "output_type": "execute_result"
    }
   ],
   "source": [
    "standard_error = pop_std/np.sqrt(30)\n",
    "standard_error"
   ]
  },
  {
   "cell_type": "code",
   "execution_count": 15,
   "id": "ce303270",
   "metadata": {},
   "outputs": [
    {
     "data": {
      "text/plain": [
       "1.6431676725155"
      ]
     },
     "execution_count": 15,
     "metadata": {},
     "output_type": "execute_result"
    }
   ],
   "source": [
    "z_score = (sample_mean - pop_mean)/standard_error\n",
    "z_score"
   ]
  },
  {
   "cell_type": "code",
   "execution_count": 16,
   "id": "0d818a49",
   "metadata": {},
   "outputs": [
    {
     "data": {
      "text/plain": [
       "0.05017412323114523"
      ]
     },
     "execution_count": 16,
     "metadata": {},
     "output_type": "execute_result"
    }
   ],
   "source": [
    "p_value = 1 - norm.cdf(z_score)\n",
    "p_value"
   ]
  },
  {
   "cell_type": "code",
   "execution_count": null,
   "id": "30db8f55",
   "metadata": {},
   "outputs": [],
   "source": [
    "# since p value is greater than significane level. we will accept null hypothesis."
   ]
  },
  {
   "cell_type": "code",
   "execution_count": null,
   "id": "338105a0",
   "metadata": {},
   "outputs": [],
   "source": []
  },
  {
   "cell_type": "code",
   "execution_count": null,
   "id": "928f8f5c",
   "metadata": {},
   "outputs": [],
   "source": []
  }
 ],
 "metadata": {
  "kernelspec": {
   "display_name": "Python 3 (ipykernel)",
   "language": "python",
   "name": "python3"
  },
  "language_info": {
   "codemirror_mode": {
    "name": "ipython",
    "version": 3
   },
   "file_extension": ".py",
   "mimetype": "text/x-python",
   "name": "python",
   "nbconvert_exporter": "python",
   "pygments_lexer": "ipython3",
   "version": "3.9.12"
  }
 },
 "nbformat": 4,
 "nbformat_minor": 5
}

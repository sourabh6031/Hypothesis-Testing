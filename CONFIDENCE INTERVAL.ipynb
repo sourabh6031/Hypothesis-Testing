{
 "cells": [
  {
   "cell_type": "code",
   "execution_count": 1,
   "id": "c7db386f",
   "metadata": {},
   "outputs": [],
   "source": [
    "import pandas as pd\n",
    "import numpy as np\n",
    "import seaborn as sns\n",
    "import matplotlib.pyplot as plt\n",
    "from scipy.stats import norm"
   ]
  },
  {
   "cell_type": "code",
   "execution_count": null,
   "id": "67bee8c7",
   "metadata": {},
   "outputs": [],
   "source": []
  },
  {
   "cell_type": "code",
   "execution_count": null,
   "id": "596317ac",
   "metadata": {},
   "outputs": [],
   "source": [
    "# sample mean = 64.5, std dev = 2.5 , sample size = 100\n",
    "\n",
    "# what will be the range between 95% confidence interval"
   ]
  },
  {
   "cell_type": "code",
   "execution_count": 2,
   "id": "91d634f5",
   "metadata": {},
   "outputs": [],
   "source": [
    "sm = 64.5\n",
    "ssd = 2.5\n",
    "ss = 100"
   ]
  },
  {
   "cell_type": "code",
   "execution_count": 11,
   "id": "2acee7fb",
   "metadata": {},
   "outputs": [
    {
     "data": {
      "text/plain": [
       "0.25"
      ]
     },
     "execution_count": 11,
     "metadata": {},
     "output_type": "execute_result"
    }
   ],
   "source": [
    "# se = standart error\n",
    "se = ssd/np.sqrt(100)\n",
    "se"
   ]
  },
  {
   "cell_type": "code",
   "execution_count": null,
   "id": "0f5bbbda",
   "metadata": {},
   "outputs": [],
   "source": [
    "# 95% CI = 0.95\n",
    "# 100-95=5% , 0.05/2 = 0.025.\n",
    "# so for x1's zsore ppf = 0.025, x2's zscore ppf = 0.95+0.025"
   ]
  },
  {
   "cell_type": "code",
   "execution_count": 198,
   "id": "aaee9b4a",
   "metadata": {},
   "outputs": [
    {
     "data": {
      "text/plain": [
       "0.025"
      ]
     },
     "execution_count": 198,
     "metadata": {},
     "output_type": "execute_result"
    }
   ],
   "source": [
    "0.05/2"
   ]
  },
  {
   "cell_type": "code",
   "execution_count": 8,
   "id": "55a280e6",
   "metadata": {},
   "outputs": [
    {
     "data": {
      "text/plain": [
       "-1.9599639845400545"
      ]
     },
     "execution_count": 8,
     "metadata": {},
     "output_type": "execute_result"
    }
   ],
   "source": [
    "x1_z = norm.ppf(0.025)\n",
    "x1_z"
   ]
  },
  {
   "cell_type": "code",
   "execution_count": 13,
   "id": "e212d00a",
   "metadata": {},
   "outputs": [
    {
     "data": {
      "text/plain": [
       "1.959963984540054"
      ]
     },
     "execution_count": 13,
     "metadata": {},
     "output_type": "execute_result"
    }
   ],
   "source": [
    "x2_z = norm.ppf(0.95+0.025)\n",
    "x2_z"
   ]
  },
  {
   "cell_type": "code",
   "execution_count": null,
   "id": "607b9f71",
   "metadata": {},
   "outputs": [],
   "source": []
  },
  {
   "cell_type": "code",
   "execution_count": 21,
   "id": "5f9c3cea",
   "metadata": {},
   "outputs": [
    {
     "data": {
      "text/plain": [
       "64.01000900386498"
      ]
     },
     "execution_count": 21,
     "metadata": {},
     "output_type": "execute_result"
    }
   ],
   "source": [
    "# Z Score = (x − x̅ )/σ\n",
    "\n",
    "x1 = x1_z * se + sm\n",
    "x1"
   ]
  },
  {
   "cell_type": "code",
   "execution_count": 22,
   "id": "116ecfe4",
   "metadata": {},
   "outputs": [
    {
     "data": {
      "text/plain": [
       "64.98999099613502"
      ]
     },
     "execution_count": 22,
     "metadata": {},
     "output_type": "execute_result"
    }
   ],
   "source": [
    "x2 = x2_z * se +sm\n",
    "x2"
   ]
  },
  {
   "cell_type": "code",
   "execution_count": 26,
   "id": "da05d8fe",
   "metadata": {},
   "outputs": [
    {
     "data": {
      "text/plain": [
       "array([64.01, 64.99])"
      ]
     },
     "execution_count": 26,
     "metadata": {},
     "output_type": "execute_result"
    }
   ],
   "source": [
    "np.round([x1,x2],2)"
   ]
  },
  {
   "cell_type": "code",
   "execution_count": null,
   "id": "e2224fd7",
   "metadata": {},
   "outputs": [],
   "source": [
    "# CONCLUSION\n",
    "# THIS INTERVAL ([64.01, 64.99]) CAPTURE TRUE POPULATION MEAN WITH 95% CONFIDENCE INTERVAL.\n",
    "# 95% OF SAMPLE MEANS LIES IN THIS RANGE ([64.01, 64.99])\n",
    "# pop mean(height) lies between the range 64.1 to 64.99 with 95% CI"
   ]
  },
  {
   "cell_type": "code",
   "execution_count": null,
   "id": "d6c14231",
   "metadata": {},
   "outputs": [],
   "source": []
  },
  {
   "cell_type": "code",
   "execution_count": null,
   "id": "d48216cf",
   "metadata": {},
   "outputs": [],
   "source": [
    "# FOR 99% CONFIDENCE INTERVAL"
   ]
  },
  {
   "cell_type": "code",
   "execution_count": 1,
   "id": "e6b91088",
   "metadata": {},
   "outputs": [
    {
     "data": {
      "text/plain": [
       "0.005"
      ]
     },
     "execution_count": 1,
     "metadata": {},
     "output_type": "execute_result"
    }
   ],
   "source": [
    "0.01/2"
   ]
  },
  {
   "cell_type": "code",
   "execution_count": null,
   "id": "79a0a109",
   "metadata": {},
   "outputs": [],
   "source": []
  },
  {
   "cell_type": "code",
   "execution_count": 32,
   "id": "c2b86ced",
   "metadata": {},
   "outputs": [
    {
     "data": {
      "text/plain": [
       "-2.5758293035489004"
      ]
     },
     "execution_count": 32,
     "metadata": {},
     "output_type": "execute_result"
    }
   ],
   "source": [
    "x1_z = norm.ppf(0.0050000000000000044)\n",
    "x1_z"
   ]
  },
  {
   "cell_type": "code",
   "execution_count": 33,
   "id": "9f6bcbc8",
   "metadata": {},
   "outputs": [
    {
     "data": {
      "text/plain": [
       "2.5758293035489004"
      ]
     },
     "execution_count": 33,
     "metadata": {},
     "output_type": "execute_result"
    }
   ],
   "source": [
    "x2_z = norm.ppf(0.99 + 0.0050000000000000044)\n",
    "x2_z"
   ]
  },
  {
   "cell_type": "code",
   "execution_count": 34,
   "id": "3ccbb166",
   "metadata": {},
   "outputs": [
    {
     "data": {
      "text/plain": [
       "63.85604267411277"
      ]
     },
     "execution_count": 34,
     "metadata": {},
     "output_type": "execute_result"
    }
   ],
   "source": [
    "# Z Score = (x − x̅ )/σ\n",
    "\n",
    "x1 = x1_z * se + sm\n",
    "x1"
   ]
  },
  {
   "cell_type": "code",
   "execution_count": 35,
   "id": "adc2cc46",
   "metadata": {},
   "outputs": [
    {
     "data": {
      "text/plain": [
       "65.14395732588723"
      ]
     },
     "execution_count": 35,
     "metadata": {},
     "output_type": "execute_result"
    }
   ],
   "source": [
    "x2 = x2_z * se +sm\n",
    "x2"
   ]
  },
  {
   "cell_type": "code",
   "execution_count": null,
   "id": "10d680d2",
   "metadata": {},
   "outputs": [],
   "source": []
  },
  {
   "cell_type": "code",
   "execution_count": 31,
   "id": "97ce02e8",
   "metadata": {},
   "outputs": [
    {
     "data": {
      "text/plain": [
       "0.0050000000000000044"
      ]
     },
     "execution_count": 31,
     "metadata": {},
     "output_type": "execute_result"
    }
   ],
   "source": [
    "(1-0.99)/2"
   ]
  },
  {
   "cell_type": "code",
   "execution_count": null,
   "id": "85945b5e",
   "metadata": {},
   "outputs": [],
   "source": []
  },
  {
   "cell_type": "code",
   "execution_count": null,
   "id": "33ad0917",
   "metadata": {},
   "outputs": [],
   "source": []
  },
  {
   "cell_type": "code",
   "execution_count": null,
   "id": "38ddbf3f",
   "metadata": {},
   "outputs": [],
   "source": [
    "# Q. THE SAMPLE MEAN RECOVERY TIME OF 100 PEOPLE AFTER TAKING A DRUG WAS SEEN TO BE 10.5 DAYS \n",
    "# WITH A SAMPLE STANDARD DEVIATION OF 2 DAYS.\n",
    "# FIND 95% CONFIDENCE INTERVAL OF THE TRUE MEAN."
   ]
  },
  {
   "cell_type": "code",
   "execution_count": 2,
   "id": "6c0108c8",
   "metadata": {},
   "outputs": [],
   "source": [
    "s_mean = 10.5\n",
    "s_sd = 2\n",
    "n = 100"
   ]
  },
  {
   "cell_type": "code",
   "execution_count": 3,
   "id": "48dd7315",
   "metadata": {},
   "outputs": [
    {
     "data": {
      "text/plain": [
       "0.2"
      ]
     },
     "execution_count": 3,
     "metadata": {},
     "output_type": "execute_result"
    }
   ],
   "source": [
    "se = 2/np.sqrt(n)\n",
    "se"
   ]
  },
  {
   "cell_type": "code",
   "execution_count": 4,
   "id": "f1613b41",
   "metadata": {},
   "outputs": [
    {
     "data": {
      "text/plain": [
       "0.025"
      ]
     },
     "execution_count": 4,
     "metadata": {},
     "output_type": "execute_result"
    }
   ],
   "source": [
    "0.05/2"
   ]
  },
  {
   "cell_type": "code",
   "execution_count": 5,
   "id": "5c36288f",
   "metadata": {},
   "outputs": [
    {
     "data": {
      "text/plain": [
       "-1.9599639845400545"
      ]
     },
     "execution_count": 5,
     "metadata": {},
     "output_type": "execute_result"
    }
   ],
   "source": [
    "z_x1 = norm.ppf(0.025)\n",
    "z_x1"
   ]
  },
  {
   "cell_type": "code",
   "execution_count": 6,
   "id": "3ba414c6",
   "metadata": {},
   "outputs": [
    {
     "data": {
      "text/plain": [
       "-1.6448536269514729"
      ]
     },
     "execution_count": 6,
     "metadata": {},
     "output_type": "execute_result"
    }
   ],
   "source": [
    "# for testing\n",
    "z_01 = norm.ppf(0.05)\n",
    "z_01"
   ]
  },
  {
   "cell_type": "code",
   "execution_count": 7,
   "id": "5cbac7d5",
   "metadata": {},
   "outputs": [
    {
     "data": {
      "text/plain": [
       "1.959963984540054"
      ]
     },
     "execution_count": 7,
     "metadata": {},
     "output_type": "execute_result"
    }
   ],
   "source": [
    "z_x2 = norm.ppf(0.95 + 0.025)\n",
    "z_x2"
   ]
  },
  {
   "cell_type": "code",
   "execution_count": 8,
   "id": "5c68dbe5",
   "metadata": {},
   "outputs": [
    {
     "data": {
      "text/plain": [
       "1.6448536269514722"
      ]
     },
     "execution_count": 8,
     "metadata": {},
     "output_type": "execute_result"
    }
   ],
   "source": [
    "# for testing\n",
    "z_02 = norm.ppf(0.95)\n",
    "z_02"
   ]
  },
  {
   "cell_type": "code",
   "execution_count": null,
   "id": "17fd63b1",
   "metadata": {},
   "outputs": [],
   "source": []
  },
  {
   "cell_type": "code",
   "execution_count": 9,
   "id": "fc715a1b",
   "metadata": {},
   "outputs": [
    {
     "data": {
      "text/plain": [
       "10.108007203091988"
      ]
     },
     "execution_count": 9,
     "metadata": {},
     "output_type": "execute_result"
    }
   ],
   "source": [
    "x1 = z_x1 * se + s_mean\n",
    "x1"
   ]
  },
  {
   "cell_type": "code",
   "execution_count": 10,
   "id": "dab50821",
   "metadata": {},
   "outputs": [
    {
     "data": {
      "text/plain": [
       "10.89199279690801"
      ]
     },
     "execution_count": 10,
     "metadata": {},
     "output_type": "execute_result"
    }
   ],
   "source": [
    "x2 = z_x2 * se + s_mean\n",
    "x2"
   ]
  },
  {
   "cell_type": "code",
   "execution_count": null,
   "id": "879a1b7e",
   "metadata": {},
   "outputs": [],
   "source": []
  },
  {
   "cell_type": "code",
   "execution_count": 11,
   "id": "8c0ef5f0",
   "metadata": {},
   "outputs": [],
   "source": [
    "# for testing\n",
    "x01 = [z_01 *se + s_mean]\n",
    "x02 = [z_02 *se + s_mean]"
   ]
  },
  {
   "cell_type": "code",
   "execution_count": null,
   "id": "72fea8d0",
   "metadata": {},
   "outputs": [],
   "source": []
  },
  {
   "cell_type": "code",
   "execution_count": 12,
   "id": "648bbe3a",
   "metadata": {},
   "outputs": [
    {
     "data": {
      "text/plain": [
       "array([10.11, 10.89])"
      ]
     },
     "execution_count": 12,
     "metadata": {},
     "output_type": "execute_result"
    }
   ],
   "source": [
    "np.round([x1,x2],2)"
   ]
  },
  {
   "cell_type": "code",
   "execution_count": 13,
   "id": "33b0290c",
   "metadata": {},
   "outputs": [
    {
     "data": {
      "text/plain": [
       "array([[10.17],\n",
       "       [10.83]])"
      ]
     },
     "execution_count": 13,
     "metadata": {},
     "output_type": "execute_result"
    }
   ],
   "source": [
    "# for testing\n",
    "np.round([x01,x02],2)"
   ]
  },
  {
   "cell_type": "code",
   "execution_count": null,
   "id": "c87e49d3",
   "metadata": {},
   "outputs": [],
   "source": []
  },
  {
   "cell_type": "markdown",
   "id": "5d6a138d",
   "metadata": {},
   "source": [
    "### BOOTSTAPING"
   ]
  },
  {
   "cell_type": "code",
   "execution_count": 51,
   "id": "3173b7bb",
   "metadata": {},
   "outputs": [
    {
     "data": {
      "text/plain": [
       "[35, 36, 33, 37, 34, 35]"
      ]
     },
     "execution_count": 51,
     "metadata": {},
     "output_type": "execute_result"
    }
   ],
   "source": [
    "data = [35,36,33,37,34,35]\n",
    "data"
   ]
  },
  {
   "cell_type": "code",
   "execution_count": null,
   "id": "8c76b670",
   "metadata": {},
   "outputs": [],
   "source": [
    "# FIND TRUE  AVERAGE OF DATA FROM SAMPLE"
   ]
  },
  {
   "cell_type": "code",
   "execution_count": 54,
   "id": "cdb567b4",
   "metadata": {},
   "outputs": [
    {
     "data": {
      "image/png": "[encoded data removed]",
      "text/plain": [
       "<Figure size 432x288 with 1 Axes>"
      ]
     },
     "metadata": {
      "needs_background": "light"
     },
     "output_type": "display_data"
    }
   ],
   "source": [
    "plt.hist(data)\n",
    "plt.show()"
   ]
  },
  {
   "cell_type": "code",
   "execution_count": 55,
   "id": "d3542fef",
   "metadata": {},
   "outputs": [
    {
     "data": {
      "text/plain": [
       "35.0"
      ]
     },
     "execution_count": 55,
     "metadata": {},
     "output_type": "execute_result"
    }
   ],
   "source": [
    "# not true mean\n",
    "np.mean(data)"
   ]
  },
  {
   "cell_type": "code",
   "execution_count": 80,
   "id": "f76de2f1",
   "metadata": {},
   "outputs": [
    {
     "data": {
      "text/plain": [
       "array([37, 36, 36, 36, 35, 34, 37, 36, 34, 36])"
      ]
     },
     "execution_count": 80,
     "metadata": {},
     "output_type": "execute_result"
    }
   ],
   "source": [
    "n = 10\n",
    "np.random.choice(data,n)"
   ]
  },
  {
   "cell_type": "code",
   "execution_count": null,
   "id": "2727948f",
   "metadata": {},
   "outputs": [],
   "source": []
  },
  {
   "cell_type": "code",
   "execution_count": 75,
   "id": "2faffe44",
   "metadata": {},
   "outputs": [],
   "source": [
    "# ANOTHER WAY"
   ]
  },
  {
   "cell_type": "code",
   "execution_count": 69,
   "id": "26b293d1",
   "metadata": {},
   "outputs": [],
   "source": [
    "import random"
   ]
  },
  {
   "cell_type": "code",
   "execution_count": 74,
   "id": "305e73f1",
   "metadata": {},
   "outputs": [
    {
     "data": {
      "text/plain": [
       "[35]"
      ]
     },
     "execution_count": 74,
     "metadata": {},
     "output_type": "execute_result"
    }
   ],
   "source": [
    "random.sample(data,1)"
   ]
  },
  {
   "cell_type": "code",
   "execution_count": null,
   "id": "55d2de34",
   "metadata": {},
   "outputs": [],
   "source": []
  },
  {
   "cell_type": "code",
   "execution_count": 115,
   "id": "98e971fd",
   "metadata": {},
   "outputs": [
    {
     "data": {
      "text/plain": [
       "34.8"
      ]
     },
     "execution_count": 115,
     "metadata": {},
     "output_type": "execute_result"
    }
   ],
   "source": [
    "n = 10\n",
    "sample = np.random.choice(data,n)\n",
    "sample_mean = np.mean(sample)\n",
    "sample_mean"
   ]
  },
  {
   "cell_type": "code",
   "execution_count": 120,
   "id": "c16258f6",
   "metadata": {},
   "outputs": [],
   "source": [
    "sample_means_aray =  [np.mean(np.random.choice(data,10)) for i in range(0,1000)]\n"
   ]
  },
  {
   "cell_type": "code",
   "execution_count": 127,
   "id": "d4c2da69",
   "metadata": {},
   "outputs": [
    {
     "data": {
      "image/png": "[encoded data removed]",
      "text/plain": [
       "<Figure size 576x504 with 1 Axes>"
      ]
     },
     "metadata": {
      "needs_background": "light"
     },
     "output_type": "display_data"
    }
   ],
   "source": [
    "plt.figure(figsize=(8,7))\n",
    "sns.histplot(data=sample_means_aray,kde=True)\n",
    "plt.show()"
   ]
  },
  {
   "cell_type": "code",
   "execution_count": 133,
   "id": "91fcc192",
   "metadata": {},
   "outputs": [
    {
     "data": {
      "image/png": "[encoded data removed]",
      "text/plain": [
       "<Figure size 576x504 with 1 Axes>"
      ]
     },
     "metadata": {
      "needs_background": "light"
     },
     "output_type": "display_data"
    }
   ],
   "source": [
    "plt.figure(figsize=(8,7))\n",
    "sns.stripplot(data=sample_means_aray,orient='h')\n",
    "plt.show()"
   ]
  },
  {
   "cell_type": "code",
   "execution_count": null,
   "id": "f7013875",
   "metadata": {},
   "outputs": [],
   "source": []
  },
  {
   "cell_type": "code",
   "execution_count": 134,
   "id": "8ce35a91",
   "metadata": {},
   "outputs": [
    {
     "data": {
      "text/plain": [
       "[35.9, 36.0, 35.3, 35.5, 34.5, 35.0, 34.7, 34.1, 35.5, 35.5]"
      ]
     },
     "execution_count": 134,
     "metadata": {},
     "output_type": "execute_result"
    }
   ],
   "source": [
    "sample_means_aray[:10]"
   ]
  },
  {
   "cell_type": "code",
   "execution_count": 135,
   "id": "38a21aeb",
   "metadata": {},
   "outputs": [
    {
     "data": {
      "text/plain": [
       "34.9994"
      ]
     },
     "execution_count": 135,
     "metadata": {},
     "output_type": "execute_result"
    }
   ],
   "source": [
    "# TRUE MEAN i.e. POPULATION MEAN\n",
    "np.mean(sample_means_aray)"
   ]
  },
  {
   "cell_type": "code",
   "execution_count": 137,
   "id": "82dd94fb",
   "metadata": {},
   "outputs": [],
   "source": [
    "x1 = np.percentile(sample_means_aray,2.5)\n",
    "x2 = np.percentile(sample_means_aray,97.5)"
   ]
  },
  {
   "cell_type": "code",
   "execution_count": 138,
   "id": "ce4199f3",
   "metadata": {},
   "outputs": [
    {
     "data": {
      "text/plain": [
       "(34.2, 35.8)"
      ]
     },
     "execution_count": 138,
     "metadata": {},
     "output_type": "execute_result"
    }
   ],
   "source": [
    "x1,x2"
   ]
  },
  {
   "cell_type": "code",
   "execution_count": null,
   "id": "283b77aa",
   "metadata": {},
   "outputs": [],
   "source": [
    "# CONCLUSION :\n",
    "# MEAN IS 34.9994 WITH 95% CI IS (34.2, 35.8)."
   ]
  },
  {
   "cell_type": "code",
   "execution_count": null,
   "id": "4593cbba",
   "metadata": {},
   "outputs": [],
   "source": []
  },
  {
   "cell_type": "markdown",
   "id": "70cb0feb",
   "metadata": {},
   "source": [
    "### VERIFYING WITH CENTRAL LIMIT THEOREM"
   ]
  },
  {
   "cell_type": "code",
   "execution_count": null,
   "id": "d9c5fb9a",
   "metadata": {},
   "outputs": [],
   "source": []
  },
  {
   "cell_type": "code",
   "execution_count": 141,
   "id": "685654a0",
   "metadata": {},
   "outputs": [
    {
     "data": {
      "text/plain": [
       "[35.9, 36.0, 35.3, 35.5, 34.5, 35.0, 34.7, 34.1, 35.5, 35.5]"
      ]
     },
     "execution_count": 141,
     "metadata": {},
     "output_type": "execute_result"
    }
   ],
   "source": [
    "sample_means_aray[:10]"
   ]
  },
  {
   "cell_type": "code",
   "execution_count": null,
   "id": "c0e001fd",
   "metadata": {},
   "outputs": [],
   "source": []
  },
  {
   "cell_type": "code",
   "execution_count": null,
   "id": "39605cda",
   "metadata": {},
   "outputs": [],
   "source": [
    "n = 10"
   ]
  },
  {
   "cell_type": "code",
   "execution_count": null,
   "id": "d14584a3",
   "metadata": {},
   "outputs": [],
   "source": []
  },
  {
   "cell_type": "code",
   "execution_count": null,
   "id": "8e2dced6",
   "metadata": {},
   "outputs": [],
   "source": []
  },
  {
   "cell_type": "markdown",
   "id": "a8a8af6d",
   "metadata": {},
   "source": [
    "### ASSIGNMENT"
   ]
  },
  {
   "cell_type": "code",
   "execution_count": null,
   "id": "4a190498",
   "metadata": {},
   "outputs": [],
   "source": [
    "# Q1"
   ]
  },
  {
   "cell_type": "code",
   "execution_count": null,
   "id": "9dc5760b",
   "metadata": {},
   "outputs": [],
   "source": [
    "'''\n",
    "The life of LED light bulbs manufactured in a factory is normally distributed with a mean equal to 900 hours \n",
    "and a standard deviation of 50 hours.\n",
    "Find the probability that a random sample of 20 bulbs will have an average life of less than 875 hours.\n",
    "'''"
   ]
  },
  {
   "cell_type": "code",
   "execution_count": 142,
   "id": "64d52684",
   "metadata": {},
   "outputs": [],
   "source": [
    "mu = 900\n",
    "sigma = 50\n",
    "ss = 20 "
   ]
  },
  {
   "cell_type": "code",
   "execution_count": 143,
   "id": "34aef805",
   "metadata": {},
   "outputs": [
    {
     "data": {
      "text/plain": [
       "11.180339887498947"
      ]
     },
     "execution_count": 143,
     "metadata": {},
     "output_type": "execute_result"
    }
   ],
   "source": [
    "s_std = sigma/np.sqrt(ss)\n",
    "s_std"
   ]
  },
  {
   "cell_type": "code",
   "execution_count": null,
   "id": "2e8da7ea",
   "metadata": {},
   "outputs": [],
   "source": [
    "# z = x-mu/sigma"
   ]
  },
  {
   "cell_type": "code",
   "execution_count": 146,
   "id": "47c6295b",
   "metadata": {},
   "outputs": [
    {
     "data": {
      "text/plain": [
       "-2.23606797749979"
      ]
     },
     "execution_count": 146,
     "metadata": {},
     "output_type": "execute_result"
    }
   ],
   "source": [
    "z = (875 - 900)/s_std\n",
    "z"
   ]
  },
  {
   "cell_type": "code",
   "execution_count": 147,
   "id": "dfd79f1a",
   "metadata": {},
   "outputs": [
    {
     "data": {
      "text/plain": [
       "0.012673659338734126"
      ]
     },
     "execution_count": 147,
     "metadata": {},
     "output_type": "execute_result"
    }
   ],
   "source": [
    "norm.cdf(z)"
   ]
  },
  {
   "cell_type": "code",
   "execution_count": null,
   "id": "754e9da2",
   "metadata": {},
   "outputs": [],
   "source": []
  },
  {
   "cell_type": "code",
   "execution_count": null,
   "id": "f67ff9eb",
   "metadata": {},
   "outputs": [],
   "source": [
    "# Q2"
   ]
  },
  {
   "cell_type": "code",
   "execution_count": null,
   "id": "f19d8671",
   "metadata": {},
   "outputs": [],
   "source": [
    "'''\n",
    "The tip percentage for a delivery person has a mean value of 28% and a standard deviation of 7%.\n",
    "\n",
    "What is the probability that the sample mean tip percentage for a random sample of 50 bills is between 26% and 31%?\n",
    "'''"
   ]
  },
  {
   "cell_type": "code",
   "execution_count": 3,
   "id": "2be76e8c",
   "metadata": {},
   "outputs": [],
   "source": [
    "mean = 0.28\n",
    "std = 0.07"
   ]
  },
  {
   "cell_type": "code",
   "execution_count": 4,
   "id": "2b1ce765",
   "metadata": {},
   "outputs": [],
   "source": [
    "n = 50"
   ]
  },
  {
   "cell_type": "code",
   "execution_count": 7,
   "id": "adb2fa0a",
   "metadata": {},
   "outputs": [
    {
     "data": {
      "text/plain": [
       "0.009899494936611667"
      ]
     },
     "execution_count": 7,
     "metadata": {},
     "output_type": "execute_result"
    }
   ],
   "source": [
    "se = std/np.sqrt(n)\n",
    "se"
   ]
  },
  {
   "cell_type": "code",
   "execution_count": 8,
   "id": "2e2c4756",
   "metadata": {},
   "outputs": [
    {
     "data": {
      "text/plain": [
       "-2.020305089104423"
      ]
     },
     "execution_count": 8,
     "metadata": {},
     "output_type": "execute_result"
    }
   ],
   "source": [
    "z_score1 = (0.26-0.28)/se\n",
    "z_score1"
   ]
  },
  {
   "cell_type": "code",
   "execution_count": 9,
   "id": "ef35e054",
   "metadata": {},
   "outputs": [
    {
     "data": {
      "text/plain": [
       "3.030457633656629"
      ]
     },
     "execution_count": 9,
     "metadata": {},
     "output_type": "execute_result"
    }
   ],
   "source": [
    "z_score2 = (0.31-0.28)/se\n",
    "z_score2"
   ]
  },
  {
   "cell_type": "code",
   "execution_count": 12,
   "id": "cb22b602",
   "metadata": {},
   "outputs": [
    {
     "data": {
      "text/plain": [
       "0.9771032071594303"
      ]
     },
     "execution_count": 12,
     "metadata": {},
     "output_type": "execute_result"
    }
   ],
   "source": [
    "norm.cdf(z_score2) - norm.cdf(z_score1)"
   ]
  },
  {
   "cell_type": "code",
   "execution_count": null,
   "id": "d2fbbed4",
   "metadata": {},
   "outputs": [],
   "source": []
  },
  {
   "cell_type": "code",
   "execution_count": null,
   "id": "97f489d7",
   "metadata": {},
   "outputs": [],
   "source": []
  },
  {
   "cell_type": "code",
   "execution_count": null,
   "id": "32e96f65",
   "metadata": {},
   "outputs": [],
   "source": [
    "# Q3"
   ]
  },
  {
   "cell_type": "code",
   "execution_count": null,
   "id": "7d22109f",
   "metadata": {},
   "outputs": [],
   "source": [
    "'''\n",
    "You are working for the Department of Endangered Species. Along with your team, you have bred a certain species of \n",
    "endangered fish in your pond.\n",
    "\n",
    "On taking a sample of 100 fishes, the calculated average length of this species came out to be 24cm. \n",
    "It is known that the population standard deviation in the length of these fishes is 8cm.\n",
    "\n",
    "\n",
    "Estimate the mean length confidence interval of the fishes in the pond with a confidence of 95 percent.\n",
    "\n",
    "Note: z-multiplier for 95% is 1.96.\n",
    "'''"
   ]
  },
  {
   "cell_type": "code",
   "execution_count": 162,
   "id": "9ebcb575",
   "metadata": {},
   "outputs": [],
   "source": [
    "ss = 100\n",
    "s_mean = 24\n",
    "p_std = 8"
   ]
  },
  {
   "cell_type": "code",
   "execution_count": 177,
   "id": "5c17cdde",
   "metadata": {},
   "outputs": [
    {
     "data": {
      "text/plain": [
       "0.8"
      ]
     },
     "execution_count": 177,
     "metadata": {},
     "output_type": "execute_result"
    }
   ],
   "source": [
    "se = p_std/np.sqrt(ss)\n",
    "se"
   ]
  },
  {
   "cell_type": "code",
   "execution_count": 178,
   "id": "c8d3a276",
   "metadata": {},
   "outputs": [
    {
     "data": {
      "text/plain": [
       "-1.9599639845400545"
      ]
     },
     "execution_count": 178,
     "metadata": {},
     "output_type": "execute_result"
    }
   ],
   "source": [
    "z_score1 = norm.ppf(0.025)\n",
    "z_score1"
   ]
  },
  {
   "cell_type": "code",
   "execution_count": 179,
   "id": "e5ad7305",
   "metadata": {},
   "outputs": [
    {
     "data": {
      "text/plain": [
       "1.959963984540054"
      ]
     },
     "execution_count": 179,
     "metadata": {},
     "output_type": "execute_result"
    }
   ],
   "source": [
    "z_score2 = norm.ppf(0.025+0.95)\n",
    "z_score2"
   ]
  },
  {
   "cell_type": "code",
   "execution_count": null,
   "id": "32cb87af",
   "metadata": {},
   "outputs": [],
   "source": [
    "# z = x-mu/se\n",
    "# x = z*se+mu"
   ]
  },
  {
   "cell_type": "code",
   "execution_count": 180,
   "id": "ded65b7b",
   "metadata": {},
   "outputs": [
    {
     "data": {
      "text/plain": [
       "22.432"
      ]
     },
     "execution_count": 180,
     "metadata": {},
     "output_type": "execute_result"
    }
   ],
   "source": [
    "x1 = -1.96 * se + 24\n",
    "x1"
   ]
  },
  {
   "cell_type": "code",
   "execution_count": 181,
   "id": "5670f9ba",
   "metadata": {},
   "outputs": [
    {
     "data": {
      "text/plain": [
       "25.568"
      ]
     },
     "execution_count": 181,
     "metadata": {},
     "output_type": "execute_result"
    }
   ],
   "source": [
    "x2 = 1.96 * se + 24\n",
    "x2"
   ]
  },
  {
   "cell_type": "code",
   "execution_count": null,
   "id": "637a8786",
   "metadata": {},
   "outputs": [],
   "source": []
  },
  {
   "cell_type": "code",
   "execution_count": null,
   "id": "cfdac120",
   "metadata": {},
   "outputs": [],
   "source": [
    "# Q4"
   ]
  },
  {
   "cell_type": "code",
   "execution_count": null,
   "id": "73a196b7",
   "metadata": {},
   "outputs": [],
   "source": [
    "'''\n",
    "Samples of size 100 are selected from a population with a mean of 37 and a standard deviation of 12.\n",
    "\n",
    "The standard error of the sampling distribution of sample means is :\n",
    "'''"
   ]
  },
  {
   "cell_type": "code",
   "execution_count": 195,
   "id": "344580b9",
   "metadata": {},
   "outputs": [],
   "source": [
    "ss = 100\n",
    "mean = 37\n",
    "sd = 12"
   ]
  },
  {
   "cell_type": "code",
   "execution_count": 196,
   "id": "cb38a5c1",
   "metadata": {},
   "outputs": [
    {
     "data": {
      "text/plain": [
       "1.2"
      ]
     },
     "execution_count": 196,
     "metadata": {},
     "output_type": "execute_result"
    }
   ],
   "source": [
    "se = sd/np.sqrt(ss)\n",
    "se"
   ]
  },
  {
   "cell_type": "code",
   "execution_count": null,
   "id": "2ab92f78",
   "metadata": {},
   "outputs": [],
   "source": []
  },
  {
   "cell_type": "code",
   "execution_count": null,
   "id": "ac369890",
   "metadata": {},
   "outputs": [],
   "source": [
    "# Q5"
   ]
  },
  {
   "cell_type": "code",
   "execution_count": null,
   "id": "5552bf62",
   "metadata": {},
   "outputs": [],
   "source": [
    "'''\n",
    "A company wants to estimate the average purchase amount made by customers on their e-commerce platform. \n",
    "They collect a random sample of 100 transactions and find that the average purchase amount is \\75withastandarddeviationof10.\n",
    "Construct a 90% confidence interval for the true average purchase amount. Since the number of samples is large, \n",
    "use the sample standard deviation as an approximation of population standard deviation.\n",
    "'''"
   ]
  },
  {
   "cell_type": "code",
   "execution_count": 182,
   "id": "1a893409",
   "metadata": {},
   "outputs": [],
   "source": [
    "n = 100\n",
    "sample_mean = 75\n",
    "sample_sd = 10"
   ]
  },
  {
   "cell_type": "code",
   "execution_count": 183,
   "id": "a22ce94f",
   "metadata": {},
   "outputs": [
    {
     "data": {
      "text/plain": [
       "1.0"
      ]
     },
     "execution_count": 183,
     "metadata": {},
     "output_type": "execute_result"
    }
   ],
   "source": [
    "se = sample_sd/np.sqrt(n)\n",
    "se"
   ]
  },
  {
   "cell_type": "code",
   "execution_count": 185,
   "id": "bac30f15",
   "metadata": {},
   "outputs": [
    {
     "data": {
      "text/plain": [
       "-1.6448536269514729"
      ]
     },
     "execution_count": 185,
     "metadata": {},
     "output_type": "execute_result"
    }
   ],
   "source": [
    "z_score1 = norm.ppf(0.05)\n",
    "z_score1"
   ]
  },
  {
   "cell_type": "code",
   "execution_count": 187,
   "id": "9140f70f",
   "metadata": {},
   "outputs": [
    {
     "data": {
      "text/plain": [
       "1.6448536269514733"
      ]
     },
     "execution_count": 187,
     "metadata": {},
     "output_type": "execute_result"
    }
   ],
   "source": [
    "z_score2 = norm.ppf(0.90+0.05)\n",
    "z_score2"
   ]
  },
  {
   "cell_type": "code",
   "execution_count": 188,
   "id": "2ca90c46",
   "metadata": {},
   "outputs": [],
   "source": [
    "x1 = z_score1 * se + sample_mean\n",
    "x2 = z_score2 * se + sample_mean"
   ]
  },
  {
   "cell_type": "code",
   "execution_count": 189,
   "id": "30789da0",
   "metadata": {},
   "outputs": [
    {
     "data": {
      "text/plain": [
       "(73.35514637304853, 76.64485362695147)"
      ]
     },
     "execution_count": 189,
     "metadata": {},
     "output_type": "execute_result"
    }
   ],
   "source": [
    "x1,x2"
   ]
  },
  {
   "cell_type": "code",
   "execution_count": null,
   "id": "a22c5816",
   "metadata": {},
   "outputs": [],
   "source": []
  },
  {
   "cell_type": "code",
   "execution_count": null,
   "id": "9d34d46f",
   "metadata": {},
   "outputs": [],
   "source": [
    "# Q6"
   ]
  },
  {
   "cell_type": "code",
   "execution_count": null,
   "id": "4202ff46",
   "metadata": {},
   "outputs": [],
   "source": [
    "'''\n",
    "The mean height of a sample of 100 adults was found to be 165 cm. \n",
    "The population standard deviation for height of adults is known to be 8 cm.\n",
    "\n",
    "Construct a 90% confidence interval for the true mean height of the adult population.\n",
    "'''"
   ]
  },
  {
   "cell_type": "code",
   "execution_count": 190,
   "id": "dfb22ed1",
   "metadata": {},
   "outputs": [],
   "source": [
    "n = 100\n",
    "sample_mean = 165\n",
    "sd = 8"
   ]
  },
  {
   "cell_type": "code",
   "execution_count": null,
   "id": "4e5df7b4",
   "metadata": {},
   "outputs": [],
   "source": [
    "# 90% CI "
   ]
  },
  {
   "cell_type": "code",
   "execution_count": 191,
   "id": "9a5e9da5",
   "metadata": {},
   "outputs": [
    {
     "data": {
      "text/plain": [
       "0.8"
      ]
     },
     "execution_count": 191,
     "metadata": {},
     "output_type": "execute_result"
    }
   ],
   "source": [
    "se = sd/np.sqrt(n)\n",
    "se"
   ]
  },
  {
   "cell_type": "code",
   "execution_count": 192,
   "id": "3ef43f74",
   "metadata": {},
   "outputs": [],
   "source": [
    "z_score1 = norm.ppf(0.05) \n",
    "z_score2 = norm.ppf(0.05+0.90)"
   ]
  },
  {
   "cell_type": "code",
   "execution_count": 193,
   "id": "8b3d67fd",
   "metadata": {},
   "outputs": [],
   "source": [
    "x1 = z_score1 * se + sample_mean\n",
    "x2 = z_score2 * se + sample_mean"
   ]
  },
  {
   "cell_type": "code",
   "execution_count": 194,
   "id": "4259997c",
   "metadata": {},
   "outputs": [
    {
     "data": {
      "text/plain": [
       "(163.68411709843883, 166.31588290156117)"
      ]
     },
     "execution_count": 194,
     "metadata": {},
     "output_type": "execute_result"
    }
   ],
   "source": [
    "x1,x2"
   ]
  }
 ],
 "metadata": {
  "kernelspec": {
   "display_name": "Python 3 (ipykernel)",
   "language": "python",
   "name": "python3"
  },
  "language_info": {
   "codemirror_mode": {
    "name": "ipython",
    "version": 3
   },
   "file_extension": ".py",
   "mimetype": "text/x-python",
   "name": "python",
   "nbconvert_exporter": "python",
   "pygments_lexer": "ipython3",
   "version": "3.9.12"
  }
 },
 "nbformat": 4,
 "nbformat_minor": 5
}

{
 "cells": [
  {
   "cell_type": "code",
   "execution_count": 3,
   "id": "e05ada62",
   "metadata": {},
   "outputs": [],
   "source": [
    "import pandas as pd\n",
    "import numpy as np\n",
    "import seaborn as sns\n",
    "import matplotlib.pyplot as plt\n",
    "import math\n"
   ]
  },
  {
   "cell_type": "code",
   "execution_count": 14,
   "id": "74f293ce",
   "metadata": {},
   "outputs": [],
   "source": [
    "# for importing binomial distribution. \n",
    "from scipy.stats import binom"
   ]
  },
  {
   "cell_type": "code",
   "execution_count": null,
   "id": "f8c7b624",
   "metadata": {},
   "outputs": [],
   "source": []
  },
  {
   "cell_type": "code",
   "execution_count": 4,
   "id": "ca818d7a",
   "metadata": {},
   "outputs": [
    {
     "data": {
      "text/plain": [
       "120"
      ]
     },
     "execution_count": 4,
     "metadata": {},
     "output_type": "execute_result"
    }
   ],
   "source": [
    "# factorial of 5\n",
    "\n",
    "math.factorial(5)"
   ]
  },
  {
   "cell_type": "code",
   "execution_count": 5,
   "id": "f5d39634",
   "metadata": {},
   "outputs": [
    {
     "data": {
      "text/plain": [
       "10"
      ]
     },
     "execution_count": 5,
     "metadata": {},
     "output_type": "execute_result"
    }
   ],
   "source": [
    "# 5C2\n",
    "\n",
    "math.comb(5,2)"
   ]
  },
  {
   "cell_type": "code",
   "execution_count": 6,
   "id": "0944c268",
   "metadata": {},
   "outputs": [
    {
     "data": {
      "text/plain": [
       "20"
      ]
     },
     "execution_count": 6,
     "metadata": {},
     "output_type": "execute_result"
    }
   ],
   "source": [
    "# 5P2\n",
    "\n",
    "math.perm(5,2)"
   ]
  },
  {
   "cell_type": "code",
   "execution_count": 7,
   "id": "020b5350",
   "metadata": {},
   "outputs": [],
   "source": [
    "p = 0.1 # prob of an offer\n",
    "n = 3 # no. of interviews"
   ]
  },
  {
   "cell_type": "code",
   "execution_count": null,
   "id": "2a1dcfda",
   "metadata": {},
   "outputs": [],
   "source": [
    "# formula = P(x=k) = nCk * p^k * (1-p)^n-k"
   ]
  },
  {
   "cell_type": "code",
   "execution_count": 9,
   "id": "70fcb352",
   "metadata": {},
   "outputs": [
    {
     "data": {
      "text/plain": [
       "0.729"
      ]
     },
     "execution_count": 9,
     "metadata": {},
     "output_type": "execute_result"
    }
   ],
   "source": [
    "# k = 0,1,2,3\n",
    "# P[x = k]\n",
    "# k = 0, FFF\n",
    "\n",
    "p_x_0 = math.comb(3,0) * p**0 * (1-p)**3\n",
    "p_x_0 = np.round(p_x_0,3)\n",
    "p_x_0"
   ]
  },
  {
   "cell_type": "code",
   "execution_count": 10,
   "id": "4b58e7b9",
   "metadata": {},
   "outputs": [
    {
     "data": {
      "text/plain": [
       "0.243"
      ]
     },
     "execution_count": 10,
     "metadata": {},
     "output_type": "execute_result"
    }
   ],
   "source": [
    "# k=1\n",
    "p_x_1 = math.comb(3,1) * p**1 * (1-p)**2\n",
    "p_x_1 = np.round(p_x_1,3)\n",
    "p_x_1"
   ]
  },
  {
   "cell_type": "code",
   "execution_count": 11,
   "id": "34c4e497",
   "metadata": {},
   "outputs": [
    {
     "data": {
      "text/plain": [
       "0.027"
      ]
     },
     "execution_count": 11,
     "metadata": {},
     "output_type": "execute_result"
    }
   ],
   "source": [
    "# k=2\n",
    "p_x_2 = math.comb(3,2) * p**2 * (1-p)**1\n",
    "p_x_2 = np.round(p_x_2,3)\n",
    "p_x_2"
   ]
  },
  {
   "cell_type": "code",
   "execution_count": 12,
   "id": "68e84214",
   "metadata": {},
   "outputs": [
    {
     "data": {
      "text/plain": [
       "0.001"
      ]
     },
     "execution_count": 12,
     "metadata": {},
     "output_type": "execute_result"
    }
   ],
   "source": [
    "# k=3\n",
    "p_x_3 = math.comb(3,3) * p**3 * (1-p)**0\n",
    "p_x_3 = np.round(p_x_3,3)\n",
    "p_x_3"
   ]
  },
  {
   "cell_type": "code",
   "execution_count": 13,
   "id": "1695a262",
   "metadata": {},
   "outputs": [
    {
     "data": {
      "text/plain": [
       "1.0"
      ]
     },
     "execution_count": 13,
     "metadata": {},
     "output_type": "execute_result"
    }
   ],
   "source": [
    "# since sum of all these probability = 1.\n",
    "p_x_0 + p_x_1 + p_x_2 + p_x_3"
   ]
  },
  {
   "cell_type": "code",
   "execution_count": null,
   "id": "48ef674f",
   "metadata": {},
   "outputs": [],
   "source": []
  },
  {
   "cell_type": "code",
   "execution_count": null,
   "id": "cd663e7f",
   "metadata": {},
   "outputs": [],
   "source": []
  },
  {
   "cell_type": "code",
   "execution_count": null,
   "id": "582d01ac",
   "metadata": {},
   "outputs": [],
   "source": [
    "# for importing binomial distribution. \n",
    "from scipy.stats import binom"
   ]
  },
  {
   "cell_type": "code",
   "execution_count": null,
   "id": "5ae5258f",
   "metadata": {},
   "outputs": [],
   "source": []
  },
  {
   "cell_type": "code",
   "execution_count": null,
   "id": "7cb39cc2",
   "metadata": {},
   "outputs": [],
   "source": [
    "# USING FORMULA"
   ]
  },
  {
   "cell_type": "code",
   "execution_count": 15,
   "id": "9aecbdb9",
   "metadata": {},
   "outputs": [
    {
     "data": {
      "text/plain": [
       "0.7290000000000001"
      ]
     },
     "execution_count": 15,
     "metadata": {},
     "output_type": "execute_result"
    }
   ],
   "source": [
    "# pmf (POINT/PROBABILITY MASS FUNCTION) - IT CALCULATES THE PROBABILITY OF POINT IN DISCREATE SERIES.\n",
    "# SAME AS math.comb(3,0) * p**0 * (1-p)**3\n",
    "\n",
    "n=3\n",
    "p=0.1\n",
    "k=0\n",
    "\n",
    "P_X_0 = binom.pmf(n=n,p=p,k=k)\n",
    "P_X_0"
   ]
  },
  {
   "cell_type": "code",
   "execution_count": null,
   "id": "aa113d70",
   "metadata": {},
   "outputs": [],
   "source": []
  },
  {
   "cell_type": "code",
   "execution_count": 33,
   "id": "36c926e1",
   "metadata": {},
   "outputs": [
    {
     "data": {
      "text/plain": [
       "[0.7290000000000001, 0.243, 0.027, 0.0010000000000000002]"
      ]
     },
     "execution_count": 33,
     "metadata": {},
     "output_type": "execute_result"
    }
   ],
   "source": [
    "# SAME\n",
    "#n = 3\n",
    "#p = 0.1\n",
    "\n",
    "#y = [binom.pmf(n=n,p=p,k=k) for k in (np.arange(n+1))]\n",
    "#y\n"
   ]
  },
  {
   "cell_type": "code",
   "execution_count": null,
   "id": "2a321854",
   "metadata": {},
   "outputs": [],
   "source": []
  },
  {
   "cell_type": "code",
   "execution_count": 32,
   "id": "181eb4a2",
   "metadata": {},
   "outputs": [
    {
     "data": {
      "text/plain": [
       "[0.7290000000000001, 0.243, 0.027, 0.0010000000000000002]"
      ]
     },
     "execution_count": 32,
     "metadata": {},
     "output_type": "execute_result"
    }
   ],
   "source": [
    "# SAME\n",
    "#n = 3\n",
    "#p = 0.1\n",
    "\n",
    "#y = [binom.pmf(n=n,p=p,k=k) for k in (range(n+1))]\n",
    "#y"
   ]
  },
  {
   "cell_type": "code",
   "execution_count": null,
   "id": "5997a08f",
   "metadata": {},
   "outputs": [],
   "source": []
  },
  {
   "cell_type": "code",
   "execution_count": 46,
   "id": "efeb0617",
   "metadata": {},
   "outputs": [
    {
     "name": "stderr",
     "output_type": "stream",
     "text": [
      "C:\\Users\\SOURABH\\anaconda3\\lib\\site-packages\\seaborn\\_decorators.py:36: FutureWarning: Pass the following variables as keyword args: x, y. From version 0.12, the only valid positional argument will be `data`, and passing other arguments without an explicit keyword will result in an error or misinterpretation.\n",
      "  warnings.warn(\n"
     ]
    },
    {
     "data": {
      "image/png": "[encoded data removed]",
      "text/plain": [
       "<Figure size 432x288 with 1 Axes>"
      ]
     },
     "metadata": {
      "needs_background": "light"
     },
     "output_type": "display_data"
    }
   ],
   "source": [
    "# SAME\n",
    "n = 3\n",
    "p = 0.1\n",
    "x = np.arange(0,n+1)\n",
    "\n",
    "y = [binom.pmf(n=n,p=p,k=k) for k in x]\n",
    "y\n",
    "\n",
    "ax = sns.barplot(x,y)\n",
    "\n",
    "for i in ax.containers:\n",
    "    ax.bar_label(i,weight = 'bold')\n",
    "plt.title(f'Probability Distribution of no. of success out of n= {n}trials, p={p},',size=10)\n",
    "plt.xlabel('No. of Success (k)')\n",
    "plt.ylabel(\"Probability of exactly k success\")\n",
    "plt.show()"
   ]
  },
  {
   "cell_type": "code",
   "execution_count": null,
   "id": "03818de8",
   "metadata": {},
   "outputs": [],
   "source": []
  },
  {
   "cell_type": "code",
   "execution_count": 45,
   "id": "ebdc0ff0",
   "metadata": {},
   "outputs": [
    {
     "name": "stderr",
     "output_type": "stream",
     "text": [
      "C:\\Users\\SOURABH\\anaconda3\\lib\\site-packages\\seaborn\\_decorators.py:36: FutureWarning: Pass the following variables as keyword args: x, y. From version 0.12, the only valid positional argument will be `data`, and passing other arguments without an explicit keyword will result in an error or misinterpretation.\n",
      "  warnings.warn(\n"
     ]
    },
    {
     "data": {
      "image/png": "[encoded data removed]",
      "text/plain": [
       "<Figure size 432x288 with 1 Axes>"
      ]
     },
     "metadata": {
      "needs_background": "light"
     },
     "output_type": "display_data"
    }
   ],
   "source": [
    "# SAME\n",
    "\n",
    "n = 3\n",
    "p = 0.1\n",
    "x = np.arange(0,n+1)\n",
    "\n",
    "y = [binom.pmf(n=n,p=p,k=k) for k in x]\n",
    "y\n",
    "\n",
    "ax = sns.barplot(x,y)\n",
    "\n",
    "for i in ax.containers:\n",
    "    ax.bar_label(i,weight = 'bold')\n",
    "    plt.title(f'Probability Distribution of no. of success out of n= {n}trials, p={p},',size=10)\n",
    "    plt.xlabel('No. of Success (k)')\n",
    "    plt.ylabel(\"Probability of exactly k success\")\n",
    "    plt.show()"
   ]
  },
  {
   "cell_type": "code",
   "execution_count": null,
   "id": "a47f2858",
   "metadata": {},
   "outputs": [],
   "source": []
  },
  {
   "cell_type": "code",
   "execution_count": null,
   "id": "ce6ebcad",
   "metadata": {},
   "outputs": [],
   "source": []
  },
  {
   "cell_type": "code",
   "execution_count": null,
   "id": "90afd502",
   "metadata": {},
   "outputs": [],
   "source": [
    "# PROBABILITY FOR CLEARING EXACTLY 5 INTERVIEWS"
   ]
  },
  {
   "cell_type": "code",
   "execution_count": 53,
   "id": "b0e54b80",
   "metadata": {},
   "outputs": [
    {
     "name": "stderr",
     "output_type": "stream",
     "text": [
      "C:\\Users\\SOURABH\\anaconda3\\lib\\site-packages\\seaborn\\_decorators.py:36: FutureWarning: Pass the following variables as keyword args: x, y. From version 0.12, the only valid positional argument will be `data`, and passing other arguments without an explicit keyword will result in an error or misinterpretation.\n",
      "  warnings.warn(\n"
     ]
    },
    {
     "data": {
      "image/png": "[encoded data removed]",
      "text/plain": [
       "<Figure size 648x504 with 1 Axes>"
      ]
     },
     "metadata": {
      "needs_background": "light"
     },
     "output_type": "display_data"
    }
   ],
   "source": [
    "n = 10\n",
    "p = 0.1\n",
    "x = np.arange(0,n+1)\n",
    "\n",
    "y = [np.round(binom.pmf(n=n,p=p,k=k),3) for k in x]\n",
    "y\n",
    "\n",
    "plt.figure(figsize=(9,7))\n",
    "ax = sns.barplot(x,y)\n",
    "\n",
    "for i in ax.containers:\n",
    "    ax.bar_label(i,weight = 'bold')\n",
    "    plt.title(f'Probability Distribution of no. of success out of n= {n}trials, p={p},',size=10)\n",
    "    plt.xlabel('No. of Success (k)')\n",
    "    plt.ylabel(\"Probability of exactly k success\")\n",
    "    plt.show()"
   ]
  },
  {
   "cell_type": "code",
   "execution_count": null,
   "id": "d1c70ccf",
   "metadata": {},
   "outputs": [],
   "source": [
    "# PROBABILITY FOR CLEARING EXACTLY 5 INTERVIEWS IS AROUND 0.001"
   ]
  },
  {
   "cell_type": "code",
   "execution_count": null,
   "id": "23ca3506",
   "metadata": {},
   "outputs": [],
   "source": []
  },
  {
   "cell_type": "code",
   "execution_count": 55,
   "id": "de67c4d2",
   "metadata": {},
   "outputs": [
    {
     "data": {
      "text/plain": [
       "0.0014880347999999995"
      ]
     },
     "execution_count": 55,
     "metadata": {},
     "output_type": "execute_result"
    }
   ],
   "source": [
    "# PROBABILITY FOR CLEARING EXACTLY 5 INTERVIEWS IS AROUND 0.001\n",
    "\n",
    "binom.pmf(n=10,p=0.1,k=5)"
   ]
  },
  {
   "cell_type": "code",
   "execution_count": null,
   "id": "52579015",
   "metadata": {},
   "outputs": [],
   "source": []
  },
  {
   "cell_type": "code",
   "execution_count": 57,
   "id": "523cbc0d",
   "metadata": {},
   "outputs": [
    {
     "data": {
      "text/plain": [
       "0.9998530974"
      ]
     },
     "execution_count": 57,
     "metadata": {},
     "output_type": "execute_result"
    }
   ],
   "source": [
    "# PROB. OF SELECTING IN ATMOST 5 (till 5) INTERVIEWS, - P(X<=5)\n",
    "\n",
    "# P(X=0) + P(X=1) + P(X=2) + P(X=3) + P(X=4) + P(X=5)\n",
    "# we can use cdf.\n",
    "\n",
    "binom.cdf(n=10,p=0.1,k=5)"
   ]
  },
  {
   "cell_type": "code",
   "execution_count": null,
   "id": "3f108b5b",
   "metadata": {},
   "outputs": [],
   "source": []
  },
  {
   "cell_type": "code",
   "execution_count": null,
   "id": "57349b7b",
   "metadata": {},
   "outputs": [],
   "source": []
  },
  {
   "cell_type": "markdown",
   "id": "3aeb4c8f",
   "metadata": {},
   "source": [
    "#### QUESTION"
   ]
  },
  {
   "cell_type": "code",
   "execution_count": null,
   "id": "50ee57ec",
   "metadata": {},
   "outputs": [],
   "source": [
    "# SUPPOSE WE GIVE 10 QUIZZ WITH 4 OPTIONS EACH.\n",
    "# CALCULATE THE PROBABILITY THAT STUDENT WHO RANDOMLY GUESS, GIVES ONLY 2 CORRECT ANSWERS. "
   ]
  },
  {
   "cell_type": "code",
   "execution_count": null,
   "id": "cb2f658d",
   "metadata": {},
   "outputs": [],
   "source": [
    "# since only 1 options is correct, success probability is 0.25\n",
    "# k = 2"
   ]
  },
  {
   "cell_type": "code",
   "execution_count": 63,
   "id": "3975c639",
   "metadata": {},
   "outputs": [
    {
     "data": {
      "text/plain": [
       "0.2815675735473633"
      ]
     },
     "execution_count": 63,
     "metadata": {},
     "output_type": "execute_result"
    }
   ],
   "source": [
    "binom.pmf(n=10,k=2,p=0.25)"
   ]
  },
  {
   "cell_type": "code",
   "execution_count": 64,
   "id": "67f3f5c1",
   "metadata": {},
   "outputs": [
    {
     "name": "stderr",
     "output_type": "stream",
     "text": [
      "C:\\Users\\SOURABH\\anaconda3\\lib\\site-packages\\seaborn\\_decorators.py:36: FutureWarning: Pass the following variables as keyword args: x, y. From version 0.12, the only valid positional argument will be `data`, and passing other arguments without an explicit keyword will result in an error or misinterpretation.\n",
      "  warnings.warn(\n"
     ]
    },
    {
     "data": {
      "image/png": "[encoded data removed]",
      "text/plain": [
       "<Figure size 648x504 with 1 Axes>"
      ]
     },
     "metadata": {
      "needs_background": "light"
     },
     "output_type": "display_data"
    }
   ],
   "source": [
    "n = 10\n",
    "p = 0.25\n",
    "x = np.arange(0,n+1)\n",
    "\n",
    "y = [np.round(binom.pmf(n=n,p=p,k=k),3) for k in x]\n",
    "y\n",
    "\n",
    "plt.figure(figsize=(9,7))\n",
    "ax = sns.barplot(x,y)\n",
    "\n",
    "for i in ax.containers:\n",
    "    ax.bar_label(i,weight = 'bold')\n",
    "    plt.title(f'Probability Distribution of no. of success out of n= {n}trials, p={p},',size=10)\n",
    "    plt.xlabel('No. of Success (k)')\n",
    "    plt.ylabel(\"Probability of exactly k success\")\n",
    "    plt.show()"
   ]
  },
  {
   "cell_type": "code",
   "execution_count": null,
   "id": "e804188e",
   "metadata": {},
   "outputs": [],
   "source": []
  },
  {
   "cell_type": "code",
   "execution_count": null,
   "id": "dd28ac25",
   "metadata": {},
   "outputs": [],
   "source": []
  },
  {
   "cell_type": "markdown",
   "id": "652604b4",
   "metadata": {},
   "source": [
    "### GEOMETRIC DISTRIBUTION"
   ]
  },
  {
   "cell_type": "code",
   "execution_count": null,
   "id": "076dd678",
   "metadata": {},
   "outputs": [],
   "source": [
    "# no of interviews till I get the first interview.\n",
    "# here n in unknown."
   ]
  },
  {
   "cell_type": "code",
   "execution_count": null,
   "id": "3aa40d9e",
   "metadata": {},
   "outputs": [],
   "source": [
    "# assume I get an offer in the 5th interview.\n",
    "# P(x=5) = FFFFS = (1-p)^4 * p\n",
    "# so,\n",
    "# P(x=k) = (1-p)^k-1 * p"
   ]
  },
  {
   "cell_type": "code",
   "execution_count": null,
   "id": "8e69e9f2",
   "metadata": {},
   "outputs": [],
   "source": []
  },
  {
   "cell_type": "markdown",
   "id": "b8d6359a",
   "metadata": {},
   "source": [
    "#### QUESTION:"
   ]
  },
  {
   "cell_type": "code",
   "execution_count": 72,
   "id": "f0513543",
   "metadata": {},
   "outputs": [],
   "source": [
    "p = 0.35 # 35% chance that goal will happen"
   ]
  },
  {
   "cell_type": "code",
   "execution_count": null,
   "id": "b389dc02",
   "metadata": {},
   "outputs": [],
   "source": [
    "# what is the probability of scoring first goal on 3rd attempt.  "
   ]
  },
  {
   "cell_type": "code",
   "execution_count": 74,
   "id": "628d6abb",
   "metadata": {},
   "outputs": [
    {
     "data": {
      "text/plain": [
       "0.147875"
      ]
     },
     "execution_count": 74,
     "metadata": {},
     "output_type": "execute_result"
    }
   ],
   "source": [
    "(1-p)**2 * p"
   ]
  },
  {
   "cell_type": "code",
   "execution_count": null,
   "id": "131a7b9f",
   "metadata": {},
   "outputs": [],
   "source": []
  },
  {
   "cell_type": "code",
   "execution_count": 75,
   "id": "90546f36",
   "metadata": {},
   "outputs": [],
   "source": [
    "from scipy.stats import geom\n",
    "# geom - geometric progression"
   ]
  },
  {
   "cell_type": "code",
   "execution_count": null,
   "id": "0a9fdd85",
   "metadata": {},
   "outputs": [],
   "source": [
    "# since we know k = 3 (3rd attempt),we can now also confirm with.\n",
    "# in geom, we do not know the value of n unlike in binom.  "
   ]
  },
  {
   "cell_type": "code",
   "execution_count": 77,
   "id": "52cd51f4",
   "metadata": {},
   "outputs": [
    {
     "data": {
      "text/plain": [
       "0.147875"
      ]
     },
     "execution_count": 77,
     "metadata": {},
     "output_type": "execute_result"
    }
   ],
   "source": [
    "geom.pmf(p=0.35,k=3)"
   ]
  },
  {
   "cell_type": "code",
   "execution_count": null,
   "id": "cd162351",
   "metadata": {},
   "outputs": [],
   "source": []
  },
  {
   "cell_type": "code",
   "execution_count": null,
   "id": "be577f20",
   "metadata": {},
   "outputs": [],
   "source": []
  },
  {
   "cell_type": "markdown",
   "id": "aa3c5529",
   "metadata": {},
   "source": [
    "#### QUESTION:"
   ]
  },
  {
   "cell_type": "code",
   "execution_count": null,
   "id": "e7da2564",
   "metadata": {},
   "outputs": [],
   "source": [
    "# WHAT IS THE PROB. THAT MESSI NEED MINIMUM 3 PENALTIES FOR THE FIRST PENALTY GOAL ?\n",
    "# P(x>=3)\n",
    "# P(x>=3) = 1 - P(x<=2)"
   ]
  },
  {
   "cell_type": "code",
   "execution_count": 78,
   "id": "9a9634c2",
   "metadata": {},
   "outputs": [
    {
     "data": {
      "text/plain": [
       "0.4225000000000001"
      ]
     },
     "execution_count": 78,
     "metadata": {},
     "output_type": "execute_result"
    }
   ],
   "source": [
    "1 - geom.cdf(p=0.35 , k=2)"
   ]
  },
  {
   "cell_type": "code",
   "execution_count": null,
   "id": "3094ef40",
   "metadata": {},
   "outputs": [],
   "source": []
  },
  {
   "cell_type": "code",
   "execution_count": null,
   "id": "9e16e306",
   "metadata": {},
   "outputs": [],
   "source": []
  },
  {
   "cell_type": "markdown",
   "id": "67fdfe07",
   "metadata": {},
   "source": [
    "### ASSIGNMENT"
   ]
  },
  {
   "cell_type": "code",
   "execution_count": null,
   "id": "93bcc466",
   "metadata": {},
   "outputs": [],
   "source": [
    "# Q1. A basketball player takes 5 independent free throws with a probability of 0.6 of getting a basket on each shot.\n",
    "\n",
    "# Find the probability that he gets exactly 3 baskets."
   ]
  },
  {
   "cell_type": "code",
   "execution_count": 80,
   "id": "d8b500cd",
   "metadata": {},
   "outputs": [],
   "source": [
    "n=5\n",
    "p=0.6\n",
    "# 1-p = 0.4\n",
    "# 5C3 = 10"
   ]
  },
  {
   "cell_type": "code",
   "execution_count": null,
   "id": "da6677fe",
   "metadata": {},
   "outputs": [],
   "source": [
    "5C3 * p^3 * (1-p)^2 = 0.3456"
   ]
  },
  {
   "cell_type": "code",
   "execution_count": 81,
   "id": "99850dee",
   "metadata": {},
   "outputs": [
    {
     "data": {
      "text/plain": [
       "0.3455999999999997"
      ]
     },
     "execution_count": 81,
     "metadata": {},
     "output_type": "execute_result"
    }
   ],
   "source": [
    "binom.pmf(n=5,p=0.6,k=3)"
   ]
  },
  {
   "cell_type": "code",
   "execution_count": null,
   "id": "d15e41a1",
   "metadata": {},
   "outputs": [],
   "source": []
  },
  {
   "cell_type": "code",
   "execution_count": null,
   "id": "d52f5870",
   "metadata": {},
   "outputs": [],
   "source": [
    "# Q2. In a factory, the probability of producing a defective bulb is 0.25. A sample of 40 bulbs is collected.\n",
    "\n",
    "# What is the probability that exactly 10 bulbs are defective?"
   ]
  },
  {
   "cell_type": "code",
   "execution_count": 82,
   "id": "acc5c2fc",
   "metadata": {},
   "outputs": [],
   "source": [
    "n = 40\n",
    "p = 0.25"
   ]
  },
  {
   "cell_type": "code",
   "execution_count": 83,
   "id": "fad11822",
   "metadata": {},
   "outputs": [
    {
     "data": {
      "text/plain": [
       "0.14436434635625664"
      ]
     },
     "execution_count": 83,
     "metadata": {},
     "output_type": "execute_result"
    }
   ],
   "source": [
    "binom.pmf(n=40,p=0.25,k=10)"
   ]
  },
  {
   "cell_type": "code",
   "execution_count": null,
   "id": "d1b62b31",
   "metadata": {},
   "outputs": [],
   "source": []
  },
  {
   "cell_type": "code",
   "execution_count": null,
   "id": "91ee87e1",
   "metadata": {},
   "outputs": [],
   "source": [
    "# Q3. A fair coin is flipped 4 times. What is the probability of landing 3 or less than 3 heads?"
   ]
  },
  {
   "cell_type": "code",
   "execution_count": 84,
   "id": "67e6ee31",
   "metadata": {},
   "outputs": [],
   "source": [
    "# total probability = 2**4 = 16\n",
    "# prob of getting all 4 heads = 1/16\n",
    "# prob of getting 3 or less than 3 heads = 1 - 1/16 = 15/16"
   ]
  },
  {
   "cell_type": "code",
   "execution_count": null,
   "id": "ef0a6767",
   "metadata": {},
   "outputs": [],
   "source": []
  },
  {
   "cell_type": "code",
   "execution_count": null,
   "id": "076bf336",
   "metadata": {},
   "outputs": [],
   "source": [
    "# Q4. The probability of a person not boarding a cab despite having paid for the seat is 0.4. \n",
    "# A rideshare app always sells 6 seats in their cabs which can only accommodate 4 people.\n",
    "\n",
    "# What is the probability that everyone who shows up for the ride gets a seat?"
   ]
  },
  {
   "cell_type": "code",
   "execution_count": 87,
   "id": "a18af65c",
   "metadata": {},
   "outputs": [],
   "source": [
    "# probability that everyone who shows up for the ride gets a seat is the same as prob of 4 or less than 4 people showing up and gets a seat.\n",
    "# (1-p) = 0.4 - probability of a person not boarding a cab\n",
    "p = 0.6     # - probability of a person boarding a cab\n",
    "\n",
    "n = 6\n",
    "k = 4"
   ]
  },
  {
   "cell_type": "code",
   "execution_count": 89,
   "id": "120ca1e2",
   "metadata": {},
   "outputs": [
    {
     "data": {
      "text/plain": [
       "0.7667200000000001"
      ]
     },
     "execution_count": 89,
     "metadata": {},
     "output_type": "execute_result"
    }
   ],
   "source": [
    "binom.cdf(p=0.6,n=6,k=4)"
   ]
  },
  {
   "cell_type": "code",
   "execution_count": null,
   "id": "be74830a",
   "metadata": {},
   "outputs": [],
   "source": []
  },
  {
   "cell_type": "code",
   "execution_count": null,
   "id": "f6aac3e0",
   "metadata": {},
   "outputs": [],
   "source": [
    "# Q7. A large-scale survey by government automation authority found that 12% of the cars have faulty brake lights. \n",
    "# Find the probability that in a random sample of 10 cars, less than 4 cars have faulty brake lights ?"
   ]
  },
  {
   "cell_type": "code",
   "execution_count": 91,
   "id": "63050230",
   "metadata": {},
   "outputs": [],
   "source": [
    "p = 0.12\n",
    "n = 10\n",
    "# k = x<4"
   ]
  },
  {
   "cell_type": "code",
   "execution_count": 92,
   "id": "4bb136c9",
   "metadata": {},
   "outputs": [
    {
     "data": {
      "text/plain": [
       "0.9760611779412912"
      ]
     },
     "execution_count": 92,
     "metadata": {},
     "output_type": "execute_result"
    }
   ],
   "source": [
    "binom.cdf(p=p,n=n,k=3)"
   ]
  },
  {
   "cell_type": "code",
   "execution_count": null,
   "id": "d20f6eca",
   "metadata": {},
   "outputs": [],
   "source": []
  },
  {
   "cell_type": "code",
   "execution_count": null,
   "id": "beff045e",
   "metadata": {},
   "outputs": [],
   "source": [
    "# Q5. As a data analyst at Global Mariotech, \n",
    "#    one of your prime duties is to understand customer sentiments and provide a better experience to the customers.\n",
    "#    Based on a recent survey, it was found that there were 30% negative responses, and 70% positive.\n",
    "#    Assuming that we pick one response after another randomly, estimate the number of feedbacks to expect, \n",
    "#    before a negative feedback appears."
   ]
  },
  {
   "cell_type": "code",
   "execution_count": 94,
   "id": "5ad82d4f",
   "metadata": {},
   "outputs": [
    {
     "data": {
      "text/plain": [
       "3.3333333333333335"
      ]
     },
     "execution_count": 94,
     "metadata": {},
     "output_type": "execute_result"
    }
   ],
   "source": [
    "#You want to find the expected value (mean) of this distribution, which is given by:\n",
    "p = 0.3\n",
    "E_X = 1 / p\n",
    "E_X\n",
    "#In your case, p is 0.3 (the probability of getting a negative feedback), so:\n",
    "\n",
    "#E(X) = 1 / 0.3 = 10/3 ≈ 3.33"
   ]
  },
  {
   "cell_type": "code",
   "execution_count": null,
   "id": "1055a582",
   "metadata": {},
   "outputs": [],
   "source": []
  },
  {
   "cell_type": "code",
   "execution_count": null,
   "id": "741c925b",
   "metadata": {},
   "outputs": [],
   "source": [
    "# Q6. 0.02% of credit card holders of a company report theft of their credit cards each month. The company has a total of 15,000 credit cards.\n",
    "\n",
    "#    a. What is the probability that no one reports theft of credit cards during the next month?\n",
    "#    b. Determine the expected number of reported stolen credit cards in a month."
   ]
  },
  {
   "cell_type": "code",
   "execution_count": null,
   "id": "558527aa",
   "metadata": {},
   "outputs": [],
   "source": []
  },
  {
   "cell_type": "code",
   "execution_count": null,
   "id": "78294b7a",
   "metadata": {},
   "outputs": [],
   "source": [
    "Since Failure % is 0.02% then p becomes 0.0002\n",
    "\n",
    "With this we can find the probability of stolen cards per month\n",
    "i.e., 15000*0.0002\n",
    "\n",
    "Now coming to the first question,\n",
    "We have the Stolen information using that we can find the no stolen probability\n",
    "i.e., 1-geom.cdf(p=0.0002,k=15000)"
   ]
  },
  {
   "cell_type": "code",
   "execution_count": 95,
   "id": "bbf4060c",
   "metadata": {},
   "outputs": [
    {
     "data": {
      "text/plain": [
       "0.049772132496363586"
      ]
     },
     "execution_count": 95,
     "metadata": {},
     "output_type": "execute_result"
    }
   ],
   "source": [
    "1-geom.cdf(p=0.0002,k=15000)"
   ]
  },
  {
   "cell_type": "code",
   "execution_count": null,
   "id": "67a0ed34",
   "metadata": {},
   "outputs": [],
   "source": []
  },
  {
   "cell_type": "code",
   "execution_count": null,
   "id": "1723385c",
   "metadata": {},
   "outputs": [],
   "source": []
  },
  {
   "cell_type": "code",
   "execution_count": null,
   "id": "524c8ea4",
   "metadata": {},
   "outputs": [],
   "source": []
  },
  {
   "cell_type": "code",
   "execution_count": null,
   "id": "0818ac67",
   "metadata": {},
   "outputs": [],
   "source": []
  },
  {
   "cell_type": "code",
   "execution_count": null,
   "id": "c2b496bf",
   "metadata": {},
   "outputs": [],
   "source": []
  },
  {
   "cell_type": "code",
   "execution_count": null,
   "id": "2599c778",
   "metadata": {},
   "outputs": [],
   "source": []
  },
  {
   "cell_type": "code",
   "execution_count": null,
   "id": "320a7efc",
   "metadata": {},
   "outputs": [],
   "source": []
  },
  {
   "cell_type": "code",
   "execution_count": null,
   "id": "dafd9677",
   "metadata": {},
   "outputs": [],
   "source": []
  },
  {
   "cell_type": "code",
   "execution_count": null,
   "id": "02f43d2b",
   "metadata": {},
   "outputs": [],
   "source": []
  },
  {
   "cell_type": "code",
   "execution_count": null,
   "id": "1eb4da15",
   "metadata": {},
   "outputs": [],
   "source": []
  },
  {
   "cell_type": "code",
   "execution_count": null,
   "id": "a9f797cb",
   "metadata": {},
   "outputs": [],
   "source": []
  },
  {
   "cell_type": "code",
   "execution_count": null,
   "id": "a46fdb72",
   "metadata": {},
   "outputs": [],
   "source": []
  },
  {
   "cell_type": "code",
   "execution_count": null,
   "id": "303598e3",
   "metadata": {},
   "outputs": [],
   "source": []
  }
 ],
 "metadata": {
  "kernelspec": {
   "display_name": "Python 3 (ipykernel)",
   "language": "python",
   "name": "python3"
  },
  "language_info": {
   "codemirror_mode": {
    "name": "ipython",
    "version": 3
   },
   "file_extension": ".py",
   "mimetype": "text/x-python",
   "name": "python",
   "nbconvert_exporter": "python",
   "pygments_lexer": "ipython3",
   "version": "3.9.12"
  }
 },
 "nbformat": 4,
 "nbformat_minor": 5
}
